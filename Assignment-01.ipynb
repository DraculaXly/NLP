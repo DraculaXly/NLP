{
 "cells": [
  {
   "cell_type": "markdown",
   "metadata": {},
   "source": [
    "## 基础理论部分"
   ]
  },
  {
   "cell_type": "markdown",
   "metadata": {},
   "source": [
    "#### 0. Can you come up out 3 sceneraies which use AI methods? "
   ]
  },
  {
   "cell_type": "markdown",
   "metadata": {},
   "source": [
    "Ans: 火车站的人脸识别；手机上的语音助手；特斯拉的自动驾驶"
   ]
  },
  {
   "cell_type": "markdown",
   "metadata": {},
   "source": [
    "#### 1. How do we use Github; Why do we use Jupyter and Pycharm;"
   ]
  },
  {
   "cell_type": "markdown",
   "metadata": {},
   "source": [
    "Ans: GitHub传道授业解惑，提交作业；Jupyter做学习笔记，方便解析整个过程，而Pycharm是IDE，用于开发项目"
   ]
  },
  {
   "cell_type": "markdown",
   "metadata": {},
   "source": [
    "#### 2. What's the Probability Model?"
   ]
  },
  {
   "cell_type": "markdown",
   "metadata": {},
   "source": [
    "Ans: 用来计算输入出现在总体样本的概率"
   ]
  },
  {
   "cell_type": "markdown",
   "metadata": {},
   "source": [
    "#### 3. Can you came up with some sceneraies at which we could use Probability Model?"
   ]
  },
  {
   "cell_type": "markdown",
   "metadata": {},
   "source": [
    "Ans: 输入法的推荐后面的字"
   ]
  },
  {
   "cell_type": "markdown",
   "metadata": {},
   "source": [
    "#### 4. Why do we use probability and what's the difficult points for programming based on parsing and pattern match?"
   ]
  },
  {
   "cell_type": "markdown",
   "metadata": {},
   "source": [
    "Ans: 用来判断事物的可能性或者预测事情的走向；样本需要足够大并保证一定的正确性"
   ]
  },
  {
   "cell_type": "markdown",
   "metadata": {},
   "source": [
    "#### 5. What's the Language Model;"
   ]
  },
  {
   "cell_type": "markdown",
   "metadata": {},
   "source": [
    "Ans: 按照给定的pattern生成句子，判断哪个句子更为真实"
   ]
  },
  {
   "cell_type": "markdown",
   "metadata": {},
   "source": [
    "#### 6. Can you came up with some sceneraies at which we could use Language Model?\n"
   ]
  },
  {
   "cell_type": "markdown",
   "metadata": {},
   "source": [
    "Ans: 语音识别；机器翻译"
   ]
  },
  {
   "cell_type": "markdown",
   "metadata": {},
   "source": [
    "#### 7. What's the 1-gram language model;"
   ]
  },
  {
   "cell_type": "markdown",
   "metadata": {},
   "source": [
    "Ans: 单个词出现的概率"
   ]
  },
  {
   "cell_type": "markdown",
   "metadata": {},
   "source": [
    "#### 8. What's the disadvantages and advantages of 1-gram language model;"
   ]
  },
  {
   "cell_type": "markdown",
   "metadata": {},
   "source": [
    "Ans: Dis——无法关联性预测；Adv——可提供大量基础数据"
   ]
  },
  {
   "cell_type": "markdown",
   "metadata": {},
   "source": [
    "#### 9. What't the 2-gram models;"
   ]
  },
  {
   "cell_type": "markdown",
   "metadata": {},
   "source": [
    "Ans: 用来根据前1个item来预测后一个item"
   ]
  },
  {
   "cell_type": "markdown",
   "metadata": {},
   "source": [
    "## 编程实践部分"
   ]
  },
  {
   "cell_type": "markdown",
   "metadata": {},
   "source": [
    "#### 1. 设计你自己的句子生成器"
   ]
  },
  {
   "cell_type": "code",
   "execution_count": 169,
   "metadata": {},
   "outputs": [],
   "source": [
    "import random\n",
    "import re\n",
    "import jieba\n",
    "from collections import Counter"
   ]
  },
  {
   "cell_type": "code",
   "execution_count": 170,
   "metadata": {},
   "outputs": [],
   "source": [
    "sentence = '''\n",
    "sentence = people verb noun\n",
    "people = Alice | Beyond | Trump\n",
    "verb = do | doing\n",
    "do = plays | sings\n",
    "doing = is act\n",
    "act = playing | singing\n",
    "noun = basketball | song | music\n",
    "'''"
   ]
  },
  {
   "cell_type": "code",
   "execution_count": 171,
   "metadata": {},
   "outputs": [],
   "source": [
    "ans = '''\n",
    "ans = a verb b noun\n",
    "a = you | he | she | I\n",
    "verb = turn | ask | find\n",
    "b = dracula | fairy\n",
    "noun = 1 inter\n",
    "1 = for | to\n",
    "inter = help | advice | suggestion\n",
    "'''"
   ]
  },
  {
   "cell_type": "code",
   "execution_count": 172,
   "metadata": {},
   "outputs": [],
   "source": [
    "def grammar(gram_str, split='='):\n",
    "    grammar = {}\n",
    "    for line in gram_str.split('\\n'):\n",
    "        if not line.strip(): continue\n",
    "        l, r = line.split(split)\n",
    "        grammar[l.strip()] = [s.split() for s in r.split('|')]\n",
    "    return grammar"
   ]
  },
  {
   "cell_type": "code",
   "execution_count": 215,
   "metadata": {},
   "outputs": [],
   "source": [
    "def generate(gram, target):\n",
    "    if target not in gram: return target\n",
    "    expanded = [generate(gram, t) for t in random.choice(gram[target])]\n",
    "    #return ' '.join(x for x in expanded)\n",
    "    return ''.join(x for x in expanded)"
   ]
  },
  {
   "cell_type": "code",
   "execution_count": 174,
   "metadata": {
    "scrolled": true
   },
   "outputs": [
    {
     "data": {
      "text/plain": [
       "'Trump plays song'"
      ]
     },
     "execution_count": 174,
     "metadata": {},
     "output_type": "execute_result"
    }
   ],
   "source": [
    "generate(grammar(sentence), 'sentence')"
   ]
  },
  {
   "cell_type": "code",
   "execution_count": 175,
   "metadata": {},
   "outputs": [
    {
     "data": {
      "text/plain": [
       "'he turn fairy for suggestion'"
      ]
     },
     "execution_count": 175,
     "metadata": {},
     "output_type": "execute_result"
    }
   ],
   "source": [
    "generate(grammar(ans), 'ans')"
   ]
  },
  {
   "cell_type": "code",
   "execution_count": 206,
   "metadata": {},
   "outputs": [],
   "source": [
    "def generate_n(gram, target, n):\n",
    "    result = []\n",
    "    for i in range(n + 1):\n",
    "        inter = generate(grammar(gram), target)\n",
    "        result.append(inter)\n",
    "    return result"
   ]
  },
  {
   "cell_type": "code",
   "execution_count": 208,
   "metadata": {},
   "outputs": [
    {
     "data": {
      "text/plain": [
       "['she find dracula for advice',\n",
       " 'he find fairy to suggestion',\n",
       " 'I find fairy to advice',\n",
       " 'I turn fairy to suggestion',\n",
       " 'you find fairy to suggestion',\n",
       " 'I ask dracula to advice',\n",
       " 'you find dracula for suggestion',\n",
       " 'she find fairy to advice',\n",
       " 'he ask fairy to advice',\n",
       " 'she turn dracula to suggestion',\n",
       " 'she find dracula to suggestion',\n",
       " 'she turn fairy for advice',\n",
       " 'he find dracula to advice',\n",
       " 'I ask fairy to suggestion',\n",
       " 'you turn fairy for help',\n",
       " 'you turn fairy to advice',\n",
       " 'I find dracula to suggestion',\n",
       " 'she turn fairy to suggestion',\n",
       " 'I ask fairy for advice',\n",
       " 'he ask dracula to help',\n",
       " 'she find dracula for advice']"
      ]
     },
     "execution_count": 208,
     "metadata": {},
     "output_type": "execute_result"
    }
   ],
   "source": [
    "a = generate_n(ans, 'ans', 20)\n",
    "a"
   ]
  },
  {
   "cell_type": "markdown",
   "metadata": {},
   "source": [
    "#### 2. 使用新数据源完成语言模型的训练"
   ]
  },
  {
   "cell_type": "code",
   "execution_count": 177,
   "metadata": {},
   "outputs": [],
   "source": [
    "filename = 'D:\\\\GitHub\\\\NLP\\\\data\\\\train.txt'"
   ]
  },
  {
   "cell_type": "code",
   "execution_count": 178,
   "metadata": {
    "scrolled": true
   },
   "outputs": [],
   "source": [
    "with open(filename, encoding='utf-8') as f:\n",
    "    content = f.read()"
   ]
  },
  {
   "cell_type": "code",
   "execution_count": 179,
   "metadata": {},
   "outputs": [
    {
     "data": {
      "text/plain": [
       "1343520"
      ]
     },
     "execution_count": 179,
     "metadata": {},
     "output_type": "execute_result"
    }
   ],
   "source": [
    "len(content)"
   ]
  },
  {
   "cell_type": "code",
   "execution_count": 180,
   "metadata": {},
   "outputs": [],
   "source": [
    "def token(string):\n",
    "    return re.findall('\\w+', string)"
   ]
  },
  {
   "cell_type": "code",
   "execution_count": 181,
   "metadata": {},
   "outputs": [],
   "source": [
    "cut = Counter(jieba.cut(content))"
   ]
  },
  {
   "cell_type": "code",
   "execution_count": 182,
   "metadata": {
    "scrolled": true
   },
   "outputs": [
    {
     "data": {
      "text/plain": [
       "[(' ', 241272),\n",
       " ('++', 77334),\n",
       " ('$', 38679),\n",
       " ('-', 13317),\n",
       " ('\\n', 12889),\n",
       " ('?', 12876),\n",
       " ('？', 12736),\n",
       " ('insurance', 11842),\n",
       " ('Insurance', 10011)]"
      ]
     },
     "execution_count": 182,
     "metadata": {},
     "output_type": "execute_result"
    }
   ],
   "source": [
    "cut.most_common()[:9]"
   ]
  },
  {
   "cell_type": "code",
   "execution_count": 183,
   "metadata": {},
   "outputs": [],
   "source": [
    "content_clean = [''.join(token(content))]"
   ]
  },
  {
   "cell_type": "code",
   "execution_count": 184,
   "metadata": {},
   "outputs": [],
   "source": [
    "with open('train_clean.txt', 'w') as f:\n",
    "    for a in content_clean:\n",
    "        f.write(a + '\\n')"
   ]
  },
  {
   "cell_type": "code",
   "execution_count": 185,
   "metadata": {},
   "outputs": [],
   "source": [
    "def cut(string):\n",
    "    return list(jieba.cut(string))"
   ]
  },
  {
   "cell_type": "code",
   "execution_count": 186,
   "metadata": {},
   "outputs": [],
   "source": [
    "TOKEN = []"
   ]
  },
  {
   "cell_type": "code",
   "execution_count": 187,
   "metadata": {},
   "outputs": [],
   "source": [
    "for i, line in enumerate(open('train_clean.txt')):\n",
    "    TOKEN += cut(line)"
   ]
  },
  {
   "cell_type": "code",
   "execution_count": 188,
   "metadata": {},
   "outputs": [],
   "source": [
    "TOKEN = [str(t) for t in TOKEN]"
   ]
  },
  {
   "cell_type": "code",
   "execution_count": 189,
   "metadata": {},
   "outputs": [],
   "source": [
    "TOKEN_2_GRAM = [''.join(TOKEN[i:i + 2]) for i in range(len(TOKEN[:-2]))]"
   ]
  },
  {
   "cell_type": "code",
   "execution_count": 190,
   "metadata": {},
   "outputs": [
    {
     "data": {
      "text/plain": [
       "87966"
      ]
     },
     "execution_count": 190,
     "metadata": {},
     "output_type": "execute_result"
    }
   ],
   "source": [
    "len(TOKEN_2_GRAM)"
   ]
  },
  {
   "cell_type": "code",
   "execution_count": 191,
   "metadata": {},
   "outputs": [],
   "source": [
    "words_count = Counter(TOKEN_2_GRAM)"
   ]
  },
  {
   "cell_type": "code",
   "execution_count": 192,
   "metadata": {
    "collapsed": true
   },
   "outputs": [
    {
     "data": {
      "text/plain": [
       "Counter({'0disabilityinsurance法律': 1,\n",
       "         '法律要求': 7,\n",
       "         '要求残疾': 1,\n",
       "         '残疾保险': 659,\n",
       "         '保险吗': 511,\n",
       "         '吗IsDisabilityInsuranceRequiredByLaw1lifeinsurance': 1,\n",
       "         'IsDisabilityInsuranceRequiredByLaw1lifeinsurance债权人': 1,\n",
       "         '债权人可以': 12,\n",
       "         '可以在': 187,\n",
       "         '在死': 1,\n",
       "         '死后': 5,\n",
       "         '后人寿保险': 2,\n",
       "         '人寿保险吗': 312,\n",
       "         '吗CanCreditorsTakeLifeInsuranceAfterDeath2rentersinsurance': 1,\n",
       "         'CanCreditorsTakeLifeInsuranceAfterDeath2rentersinsurance旅行者': 1,\n",
       "         '旅行者保险': 1,\n",
       "         '保险有': 56,\n",
       "         '有租赁': 11,\n",
       "         '租赁保险': 154,\n",
       "         '吗DoesTravelersInsuranceHaveRentersInsurance3autoinsurance': 1,\n",
       "         'DoesTravelersInsuranceHaveRentersInsurance3autoinsurance我': 1,\n",
       "         '我可以': 529,\n",
       "         '可以开': 4,\n",
       "         '开一辆': 2,\n",
       "         '一辆没有': 4,\n",
       "         '没有保险': 43,\n",
       "         '保险的': 279,\n",
       "         '的新车': 6,\n",
       "         '新车吗': 4,\n",
       "         '吗CanIDriveANewCarHomeWithoutInsurance4lifeinsurance': 1,\n",
       "         'CanIDriveANewCarHomeWithoutInsurance4lifeinsurance人寿保险': 1,\n",
       "         '人寿保险的': 134,\n",
       "         '的现金': 26,\n",
       "         '现金转': 1,\n",
       "         '转出': 1,\n",
       "         '出价值': 1,\n",
       "         '价值是否': 3,\n",
       "         '是否应': 35,\n",
       "         '应纳税': 45,\n",
       "         '纳税IsTheCashSurrenderValueOfLifeInsuranceTaxable5annuities': 1,\n",
       "         'IsTheCashSurrenderValueOfLifeInsuranceTaxable5annuities如何': 1,\n",
       "         '如何报告': 3,\n",
       "         '报告年': 1,\n",
       "         '年金': 209,\n",
       "         '金收入': 4,\n",
       "         '收入HowIsAnnuityIncomeReported6homeinsuranceAAA': 1,\n",
       "         'HowIsAnnuityIncomeReported6homeinsuranceAAA家庭': 1,\n",
       "         '家庭保险': 440,\n",
       "         '保险涵盖': 99,\n",
       "         '涵盖什么': 73,\n",
       "         '什么WhatDoesAAAHomeInsuranceCover7retirementplans': 1,\n",
       "         'WhatDoesAAAHomeInsuranceCover7retirementplans什么': 1,\n",
       "         '什么是': 1149,\n",
       "         '是简单': 1,\n",
       "         '简单的': 2,\n",
       "         '的退休': 41,\n",
       "         '退休计划': 289,\n",
       "         '计划WhatIsASimpleRetirementPlan8disabilityinsurance': 1,\n",
       "         'WhatIsASimpleRetirementPlan8disabilityinsurance社会保险': 1,\n",
       "         '社会保险残疾': 1,\n",
       "         '保险是': 99,\n",
       "         '是什么': 375,\n",
       "         '什么WhatDoesSocialSecurityDisabilityInsuranceCover9autoinsurance': 1,\n",
       "         'WhatDoesSocialSecurityDisabilityInsuranceCover9autoinsurance汽车保险': 1,\n",
       "         '汽车保险是否': 153,\n",
       "         '是否预付': 2,\n",
       "         '预付IsCarInsurancePrepaid10medicareinsurance': 1,\n",
       "         'IsCarInsurancePrepaid10medicareinsurance医疗保险': 1,\n",
       "         '医疗保险B': 67,\n",
       "         'B部分': 69,\n",
       "         '部分盖': 2,\n",
       "         '盖什么': 5,\n",
       "         '什么WhatDoesMedicarePartBCover11lifeinsurance': 1,\n",
       "         'WhatDoesMedicarePartBCover11lifeinsurance退伍军人': 1,\n",
       "         '退伍军人能否': 2,\n",
       "         '能否获得': 16,\n",
       "         '获得人寿保险': 58,\n",
       "         '人寿保险CanVeteransGetLifeInsurance12homeinsurance': 1,\n",
       "         'CanVeteransGetLifeInsurance12homeinsurance我': 1,\n",
       "         '我的': 726,\n",
       "         '的房主': 121,\n",
       "         '房主保险': 603,\n",
       "         '保险是否': 958,\n",
       "         '是否包括': 51,\n",
       "         '包括失去': 1,\n",
       "         '失去的': 8,\n",
       "         '的结婚戒指': 3,\n",
       "         '结婚戒指DoesMyHomeownersInsuranceCoverLostWeddingRing13autoinsurance': 1,\n",
       "         'DoesMyHomeownersInsuranceCoverLostWeddingRing13autoinsurance分配': 1,\n",
       "         '分配风险': 2,\n",
       "         '风险汽车保险': 2,\n",
       "         '汽车保险如何': 6,\n",
       "         '如何工作': 93,\n",
       "         '工作HowDoesAssignedRiskAutoInsuranceWork14autoinsurance': 1,\n",
       "         'HowDoesAssignedRiskAutoInsuranceWork14autoinsurance我': 1,\n",
       "         '的男朋友': 6,\n",
       "         '男朋友可以': 1,\n",
       "         '可以加': 2,\n",
       "         '加我': 2,\n",
       "         '的汽车保险': 235,\n",
       "         '汽车保险吗': 193,\n",
       "         '吗CanMyBoyfriendAddMeToHisCarInsurance15autoinsurance': 1,\n",
       "         'CanMyBoyfriendAddMeToHisCarInsurance15autoinsurance我': 1,\n",
       "         '我是否': 4,\n",
       "         '是否需要': 39,\n",
       "         '需要提交': 2,\n",
       "         '提交私人': 1,\n",
       "         '私人财产': 1,\n",
       "         '财产车祸': 1,\n",
       "         '车祸索赔': 1,\n",
       "         '索赔的': 5,\n",
       "         '的警察': 1,\n",
       "         '警察报告': 1,\n",
       "         '报告DoINeedAPoliceReportToSubmitAClaimForACarAccidentOnPrivateProperty16autoinsurance': 1,\n",
       "         'DoINeedAPoliceReportToSubmitAClaimForACarAccidentOnPrivateProperty16autoinsurance全': 1,\n",
       "         '全覆盖': 5,\n",
       "         '覆盖汽车保险': 8,\n",
       "         '汽车保险盖': 10,\n",
       "         '盖修理': 1,\n",
       "         '修理DoesFullCoverageAutoInsuranceCoverRepairs17lifeinsurance': 1,\n",
       "         'DoesFullCoverageAutoInsuranceCoverRepairs17lifeinsurance人生': 1,\n",
       "         '人生在': 1,\n",
       "         '在伊斯兰教': 2,\n",
       "         '伊斯兰教中': 2,\n",
       "         '中是否': 1,\n",
       "         '是否可以': 56,\n",
       "         '可以接受': 3,\n",
       "         '接受IsLifeInsuranceAcceptableInIslam18healthinsurance': 1,\n",
       "         'IsLifeInsuranceAcceptableInIslam18healthinsurance健康': 1,\n",
       "         '健康保险': 1349,\n",
       "         '是否覆盖': 504,\n",
       "         '覆盖管道': 2,\n",
       "         '管道逆转': 2,\n",
       "         '逆转WillHealthInsuranceCoverATubalReversal19lifeinsurance': 1,\n",
       "         'WillHealthInsuranceCoverATubalReversal19lifeinsurance如果': 1,\n",
       "         '如果您': 14,\n",
       "         '您已经': 1,\n",
       "         '已经诊断': 1,\n",
       "         '诊断为': 1,\n",
       "         '为乳腺癌': 1,\n",
       "         '乳腺癌您': 1,\n",
       "         '您可以': 29,\n",
       "         '可以获得': 146,\n",
       "         '获得多大': 1,\n",
       "         '多大的': 4,\n",
       "         '的人寿保险': 315,\n",
       "         '人寿保险HowMuchLifeInsuranceCanYouGetIfYouHaveBeenDiagnosedWithBreastCancer20medicareinsurance': 1,\n",
       "         'HowMuchLifeInsuranceCanYouGetIfYouHaveBeenDiagnosedWithBreastCancer20medicareinsurance我': 1,\n",
       "         '我需要': 148,\n",
       "         '需要注册': 5,\n",
       "         '注册医疗保险': 31,\n",
       "         '医疗保险WhatDoINeedToRegisterForMedicare21disabilityinsurance': 1,\n",
       "         'WhatDoINeedToRegisterForMedicare21disabilityinsurance短期': 1,\n",
       "         '短期残疾': 75,\n",
       "         '是否工作': 12,\n",
       "         '工作DoesShortTermDisabilityInsuranceWork22homeinsurance': 1,\n",
       "         'DoesShortTermDisabilityInsuranceWork22homeinsurance房主': 1,\n",
       "         '保险盖池': 1,\n",
       "         '盖池WillHomeownersInsuranceCoverPool23medicareinsurance': 1,\n",
       "         'WillHomeownersInsuranceCoverPool23medicareinsurance什么': 1,\n",
       "         '什么时候': 271,\n",
       "         '时候要': 3,\n",
       "         '要注册': 4,\n",
       "         '医疗保险WhenDoIHaveToSignUpForMedicare24autoinsuranceMIP': 1,\n",
       "         'WhenDoIHaveToSignUpForMedicare24autoinsuranceMIP会': 1,\n",
       "         '会影响': 41,\n",
       "         '影响我': 12,\n",
       "         '吗WillAnMIPAffectMyCarInsurance25lifeinsurance': 1,\n",
       "         'WillAnMIPAffectMyCarInsurance25lifeinsurance蓝': 1,\n",
       "         '蓝十字': 8,\n",
       "         '十字蓝盾': 6,\n",
       "         '蓝盾有': 1,\n",
       "         '有人寿保险': 38,\n",
       "         '吗DoesBlueCrossBlueShieldHaveLifeInsurance26longtermcareinsurance': 1,\n",
       "         'DoesBlueCrossBlueShieldHaveLifeInsurance26longtermcareinsurance长期': 1,\n",
       "         '长期护理': 417,\n",
       "         '护理保险': 368,\n",
       "         '的优点': 8,\n",
       "         '优点和': 6,\n",
       "         '和缺点': 6,\n",
       "         '缺点是': 12,\n",
       "         '什么WhatAreTheAdvantagesAndDisadvantagesToLongTermCareInsurance27medicareinsurance': 1,\n",
       "         'WhatAreTheAdvantagesAndDisadvantagesToLongTermCareInsurance27medicareinsurance医疗保险': 1,\n",
       "         '医疗保险支付': 134,\n",
       "         '支付生命': 2,\n",
       "         '生命预警': 1,\n",
       "         '预警WillMedicarePayForLifeAlert28lifeinsurance': 1,\n",
       "         'WillMedicarePayForLifeAlert28lifeinsurance我': 1,\n",
       "         '我应该': 173,\n",
       "         '应该买': 40,\n",
       "         '买哪种': 2,\n",
       "         '哪种人寿': 1,\n",
       "         '人寿WhichLifeInsuranceShouldIBuy29medicareinsurance': 1,\n",
       "         'WhichLifeInsuranceShouldIBuy29medicareinsurance医疗保险': 1,\n",
       "         '支付HPV': 2,\n",
       "         'HPV筛查': 1,\n",
       "         '筛查吗': 1,\n",
       "         '吗DoesMedicarePayForHPVScreening30lifeinsurance': 1,\n",
       "         'DoesMedicarePayForHPVScreening30lifeinsurance哪个': 1,\n",
       "         '哪个是': 30,\n",
       "         '是最好': 122,\n",
       "         '最好的': 218,\n",
       "         '人寿保险WhichIsTheBestLifeInsuranceToGet31longtermcareinsurance': 1,\n",
       "         'WhichIsTheBestLifeInsuranceToGet31longtermcareinsurance长期': 1,\n",
       "         '护理保险费用': 14,\n",
       "         '保险费用多少': 112,\n",
       "         '多少HowMuchShouldLongTermCareInsuranceCost32annuities': 1,\n",
       "         'HowMuchShouldLongTermCareInsuranceCost32annuities固定': 1,\n",
       "         '固定年': 27,\n",
       "         '金如何': 43,\n",
       "         '如何安全': 8,\n",
       "         '安全HowSafeAreFixedAnnuities33lifeinsurance': 1,\n",
       "         'HowSafeAreFixedAnnuities33lifeinsurance要': 1,\n",
       "         '要解决': 3,\n",
       "         '解决人寿保险': 1,\n",
       "         '人寿保险索赔': 10,\n",
       "         '索赔需要': 11,\n",
       "         '需要多长时间': 61,\n",
       "         '多长时间HowLongDoesItTakeToSettleALifeInsuranceClaim34autoinsurance': 1,\n",
       "         'HowLongDoesItTakeToSettleALifeInsuranceClaim34autoinsurance是否': 1,\n",
       "         '是否检查': 4,\n",
       "         '检查汽车保险': 1,\n",
       "         '汽车保险信贷': 1,\n",
       "         '信贷IsCarInsuranceCreditChecked35longtermcareinsurance': 1,\n",
       "         'IsCarInsuranceCreditChecked35longtermcareinsurance我': 1,\n",
       "         '可以使用': 16,\n",
       "         '使用HSA': 2,\n",
       "         'HSA支付': 2,\n",
       "         '支付长期': 10,\n",
       "         '吗CanIUseHSAToPayForLongTermCareInsurance36healthinsurance': 1,\n",
       "         'CanIUseHSAToPayForLongTermCareInsurance36healthinsurance雇主': 1,\n",
       "         '雇主可以': 9,\n",
       "         '可以向': 3,\n",
       "         '向吸烟者': 1,\n",
       "         '吸烟者收取': 1,\n",
       "         '收取更': 4,\n",
       "         '更多': 8,\n",
       "         '多健康': 1,\n",
       "         '健康保险费': 23,\n",
       "         '保险费吗': 34,\n",
       "         '吗CanEmployersChargeSmokersMoreForHealthInsurance37homeinsurance': 1,\n",
       "         'CanEmployersChargeSmokersMoreForHealthInsurance37homeinsurance房屋': 1,\n",
       "         '房屋所有权': 1,\n",
       "         '所有权保险': 1,\n",
       "         '保险通常': 19,\n",
       "         '通常覆盖': 7,\n",
       "         '覆盖什么': 27,\n",
       "         '什么WhatDoesHomeOwnersInsuranceUsuallyCover38healthinsurance': 1,\n",
       "         'WhatDoesHomeOwnersInsuranceUsuallyCover38healthinsurance没有': 1,\n",
       "         '没有健康': 43,\n",
       "         '的超声波': 1,\n",
       "         '超声波成本': 1,\n",
       "         '成本是': 71,\n",
       "         '是多少': 270,\n",
       "         '多少HowMuchDoesAnUltrasoundCostWithoutHealthInsurance39lifeinsurance': 1,\n",
       "         'HowMuchDoesAnUltrasoundCostWithoutHealthInsurance39lifeinsurance什么': 1,\n",
       "         '是10': 4,\n",
       "         '10年期': 2,\n",
       "         '年期人寿保险': 8,\n",
       "         '人寿保险WhatIs10YrTermLifeInsurance40retirementplans': 1,\n",
       "         'WhatIs10YrTermLifeInsurance40retirementplans你': 1,\n",
       "         '你可以': 299,\n",
       "         '可以把': 26,\n",
       "         '把钱': 2,\n",
       "         '钱放在': 2,\n",
       "         '放在一个': 1,\n",
       "         '一个401K': 1,\n",
       "         '401K和': 5,\n",
       "         '和一个': 2,\n",
       "         '一个RothIRACanYouPutMoneyInA401KAndARothIRA41healthinsurance': 1,\n",
       "         'RothIRACanYouPutMoneyInA401KAndARothIRA41healthinsurance我': 1,\n",
       "         '可以用': 47,\n",
       "         '用丙型肝炎': 3,\n",
       "         '丙型肝炎保险': 3,\n",
       "         '吗CanIGetHealthInsuranceWithHepatitisC42medicareinsurance': 1,\n",
       "         'CanIGetHealthInsuranceWithHepatitisC42medicareinsurance什么': 1,\n",
       "         '时候可以': 62,\n",
       "         '可以注册': 16,\n",
       "         '医疗保险A': 17,\n",
       "         'A部分': 14,\n",
       "         '部分WhenCanIEnrollInMedicarePartA43healthinsurance': 1,\n",
       "         'WhenCanIEnrollInMedicarePartA43healthinsurance健康': 1,\n",
       "         '保险何时': 18,\n",
       "         '何时起源': 2,\n",
       "         '起源WhenDidHealthInsuranceOriginate44healthinsurance': 1,\n",
       "         'WhenDidHealthInsuranceOriginate44healthinsurance医疗保险': 1,\n",
       "         '医疗保险有': 3,\n",
       "         '有多': 61,\n",
       "         '多重要': 12,\n",
       "         '重要HowImportantIsHealthCareInsurance45rentersinsurance': 1,\n",
       "         'HowImportantIsHealthCareInsurance45rentersinsurance租用': 1,\n",
       "         '租用保险费用': 1,\n",
       "         '多少HowMuchDoesItCostToGetRentersInsurance46homeinsurance': 1,\n",
       "         'HowMuchDoesItCostToGetRentersInsurance46homeinsurance我': 1,\n",
       "         '的家庭': 74,\n",
       "         '覆盖盗窃': 4,\n",
       "         '盗窃DoesMyHomeInsuranceCoverTheft47rentersinsurance': 1,\n",
       "         'DoesMyHomeInsuranceCoverTheft47rentersinsurance租户': 1,\n",
       "         '租户保险': 13,\n",
       "         '保险如何': 50,\n",
       "         '如何受益': 1,\n",
       "         '受益业主': 1,\n",
       "         '业主HowDoesRentersInsuranceBenefitTheLandlord48healthinsurance': 1,\n",
       "         'HowDoesRentersInsuranceBenefitTheLandlord48healthinsurance俄亥俄州': 1,\n",
       "         '俄亥俄州雇主': 1,\n",
       "         '雇主是否': 5,\n",
       "         '是否必须': 6,\n",
       "         '必须提供': 4,\n",
       "         '提供健康': 52,\n",
       "         '保险DoOhioEmployersHaveToOfferHealthInsurance49autoinsurance': 1,\n",
       "         'DoOhioEmployersHaveToOfferHealthInsurance49autoinsurance我': 1,\n",
       "         '应该有': 37,\n",
       "         '有多少': 156,\n",
       "         '多少汽车保险': 15,\n",
       "         '汽车保险HowMuchAutoInsuranceShouldIHave50homeinsurance': 1,\n",
       "         'HowMuchAutoInsuranceShouldIHave50homeinsurance为什么': 1,\n",
       "         '为什么房主': 7,\n",
       "         '保险增加': 9,\n",
       "         '增加WhyDoesHomeownersInsuranceIncrease51medicareinsurance': 1,\n",
       "         'WhyDoesHomeownersInsuranceIncrease51medicareinsurance谁': 1,\n",
       "         '谁能': 47,\n",
       "         '能买': 8,\n",
       "         '买医保': 3,\n",
       "         '医保WhoCanBuyMedicare52medicareinsurance': 1,\n",
       "         'WhoCanBuyMedicare52medicareinsurance如何': 1,\n",
       "         '如何清除': 1,\n",
       "         '清除MedicareB': 1,\n",
       "         'MedicareB部分': 9,\n",
       "         '部分HowToRemoveMedicarePartB53longtermcareinsurance': 1,\n",
       "         'HowToRemoveMedicarePartB53longtermcareinsurance在': 1,\n",
       "         '在什么': 25,\n",
       "         '什么年龄': 38,\n",
       "         '年龄我': 4,\n",
       "         '应该得到': 41,\n",
       "         '得到长期': 11,\n",
       "         '保险AtWhatAgeShouldIGetLongTermCareInsurance54lifeinsurance': 1,\n",
       "         'AtWhatAgeShouldIGetLongTermCareInsurance54lifeinsurance人寿保险': 1,\n",
       "         '人寿保险死亡': 3,\n",
       "         '死亡福利': 3,\n",
       "         '福利是否': 1,\n",
       "         '纳税WhenAreLifeInsuranceDeathBenefitsTaxable55medicareinsurance': 1,\n",
       "         'WhenAreLifeInsuranceDeathBenefitsTaxable55medicareinsurance什么': 1,\n",
       "         '是医疗': 17,\n",
       "         '医疗储蓄': 1,\n",
       "         '储蓄计划': 12,\n",
       "         '计划WhatAreMedicareSavingsPrograms56homeinsurance': 1,\n",
       "         'WhatAreMedicareSavingsPrograms56homeinsurance房主': 1,\n",
       "         '是否向': 3,\n",
       "         '向其他': 2,\n",
       "         '其他狗盖': 1,\n",
       "         '狗盖狗': 1,\n",
       "         '狗叮咬': 4,\n",
       "         '叮咬DoesHomeownersInsuranceCoverDogBitesToOtherDogs57medicareinsurance': 1,\n",
       "         'DoesHomeownersInsuranceCoverDogBitesToOtherDogs57medicareinsurance医疗保险': 1,\n",
       "         '医疗保险计划': 22,\n",
       "         '计划盖': 2,\n",
       "         '什么WhatDoesMedicarePlanACover58lifeinsurance': 1,\n",
       "         'WhatDoesMedicarePlanACover58lifeinsurance全': 1,\n",
       "         '全人寿保险': 141,\n",
       "         '人寿保险是': 97,\n",
       "         '是一个': 41,\n",
       "         '一个好': 35,\n",
       "         '好的': 24,\n",
       "         '的选择': 1,\n",
       "         '选择吗': 1,\n",
       "         '吗IsWholeLifeInsuranceAGoodOption59healthinsurance': 1,\n",
       "         'IsWholeLifeInsuranceAGoodOption59healthinsurance雇主': 1,\n",
       "         '可以提供': 4,\n",
       "         '提供不同': 1,\n",
       "         '不同数额': 1,\n",
       "         '数额的': 1,\n",
       "         '的健康': 241,\n",
       "         '吗CanEmployersContributeDifferentAmountsHealthInsurance60medicareinsurance': 1,\n",
       "         'CanEmployersContributeDifferentAmountsHealthInsurance60medicareinsurance将来': 1,\n",
       "         '将来会': 1,\n",
       "         '会发生': 44,\n",
       "         '发生什么': 84,\n",
       "         '什么医疗保险': 6,\n",
       "         '医疗保险WhatWillHappenToMedicareInTheFuture61lifeinsurance': 1,\n",
       "         'WhatWillHappenToMedicareInTheFuture61lifeinsurance一般': 1,\n",
       "         '一般人寿保险': 1,\n",
       "         '人寿保险CanTheGeneralLifeInsurance62autoinsurance': 1,\n",
       "         'CanTheGeneralLifeInsurance62autoinsurance我': 1,\n",
       "         '是否会': 67,\n",
       "         '会如果': 1,\n",
       "         '如果得到': 1,\n",
       "         '得到机票': 1,\n",
       "         '机票呢': 1,\n",
       "         '呢WillMyAutoInsuranceGoUpIfGetTicket63rentersinsurance': 1,\n",
       "         'WillMyAutoInsuranceGoUpIfGetTicket63rentersinsurance租客': 1,\n",
       "         '租客保险': 266,\n",
       "         '包括盗窃': 2,\n",
       "         '盗窃DoesRentersInsuranceIncludeTheft64rentersinsurance': 1,\n",
       "         'DoesRentersInsuranceIncludeTheft64rentersinsurance什么': 1,\n",
       "         '是租赁': 6,\n",
       "         '保险WhatIsARentersInsurancePolicy65homeinsurance': 1,\n",
       "         'WhatIsARentersInsurancePolicy65homeinsurance如何': 1,\n",
       "         '如何计算': 36,\n",
       "         '计算家庭': 6,\n",
       "         '保险HowIsHomeInsuranceCalculated66homeinsurance': 1,\n",
       "         'HowIsHomeInsuranceCalculated66homeinsurance房主': 1,\n",
       "         '覆盖下水道': 6,\n",
       "         '下水道维修': 1,\n",
       "         '维修DoesHomeownersInsuranceCoverSewerRepair67longtermcareinsuranceAARP': 1,\n",
       "         'DoesHomeownersInsuranceCoverSewerRepair67longtermcareinsuranceAARP是否': 1,\n",
       "         '是否有': 68,\n",
       "         '有长期': 7,\n",
       "         '保险DoesAARPHaveLongTermCareInsurance68disabilityinsurance': 1,\n",
       "         'DoesAARPHaveLongTermCareInsurance68disabilityinsurance短期': 1,\n",
       "         '残疾考虑': 1,\n",
       "         '考虑健康': 3,\n",
       "         '吗IsShortTermDisabilityConsideredHealthInsurance69lifeinsurance': 1,\n",
       "         'IsShortTermDisabilityConsideredHealthInsurance69lifeinsurance在': 1,\n",
       "         '年龄你': 9,\n",
       "         '你应该': 38,\n",
       "         '得到人寿保险': 97,\n",
       "         '人寿保险AtWhatAgeShouldYouGetLifeInsurance70homeinsurance': 1,\n",
       "         'AtWhatAgeShouldYouGetLifeInsurance70homeinsurance旅行者': 1,\n",
       "         '旅行者家庭': 1,\n",
       "         '保险好': 19,\n",
       "         '好吗': 44,\n",
       "         '吗IsTravelersHomeInsuranceAnyGood71medicareinsurance': 1,\n",
       "         'IsTravelersHomeInsuranceAnyGood71medicareinsurance谁': 1,\n",
       "         '能得到': 50,\n",
       "         '得到医疗保险': 15,\n",
       "         '医疗保险WhoCanGetOnMedicare72rentersinsurance': 1,\n",
       "         'WhoCanGetOnMedicare72rentersinsurance谁': 1,\n",
       "         '谁有': 44,\n",
       "         '有最': 26,\n",
       "         '最优惠': 7,\n",
       "         '优惠的': 7,\n",
       "         '的租金': 24,\n",
       "         '租金保险费率': 1,\n",
       "         '保险费率WhoHasTheBestRatesForRentersInsurance73autoinsurance': 1,\n",
       "         'WhoHasTheBestRatesForRentersInsurance73autoinsurance谁': 1,\n",
       "         '能驾驶': 5,\n",
       "         '驾驶你': 1,\n",
       "         '你的': 77,\n",
       "         '的车': 34,\n",
       "         '车在': 4,\n",
       "         '在你': 11,\n",
       "         '的保险': 112,\n",
       "         '保险WhoCanDriveYourCarUnderYourInsurance74medicareinsurance': 1,\n",
       "         'WhoCanDriveYourCarUnderYourInsurance74medicareinsurance医疗保险': 1,\n",
       "         '医疗保险可以': 16,\n",
       "         '可以支付': 13,\n",
       "         '支付养老院': 3,\n",
       "         '养老院吗': 1,\n",
       "         '吗CanMedicarePayForNursingHomes75autoinsurance': 1,\n",
       "         'CanMedicarePayForNursingHomes75autoinsurance如果': 1,\n",
       "         '如果汽车保险': 2,\n",
       "         '汽车保险失败': 2,\n",
       "         '失败会': 3,\n",
       "         '什么WhatHappensIfCarInsuranceLapses76homeinsurance': 1,\n",
       "         'WhatHappensIfCarInsuranceLapses76homeinsurance车库': 1,\n",
       "         '车库门': 3,\n",
       "         '门由': 1,\n",
       "         '由房主': 8,\n",
       "         '保险覆盖': 67,\n",
       "         '覆盖IsGarageDoorCoveredByHomeownersInsurance77medicareinsurance': 1,\n",
       "         'IsGarageDoorCoveredByHomeownersInsurance77medicareinsurance我': 1,\n",
       "         '我在': 29,\n",
       "         '在哪里': 122,\n",
       "         '哪里注册': 3,\n",
       "         '医疗保险WhereDoISignUpForMedicare78autoinsurance': 1,\n",
       "         'WhereDoISignUpForMedicare78autoinsurance如何': 1,\n",
       "         '如何获得': 120,\n",
       "         '获得汽车保险': 49,\n",
       "         '汽车保险最佳': 1,\n",
       "         '最佳交易': 1,\n",
       "         '交易HowToGetTheBestDealOnAutoInsurance79medicareinsurance': 1,\n",
       "         'HowToGetTheBestDealOnAutoInsurance79medicareinsurance在': 1,\n",
       "         '在新泽西州': 3,\n",
       "         '新泽西州如何': 1,\n",
       "         '如何申请': 27,\n",
       "         '申请MedicarePartDHowDoYouApplyForMedicarePartDInNewJersey80rentersinsurance': 1,\n",
       "         'MedicarePartDHowDoYouApplyForMedicarePartDInNewJersey80rentersinsurance哪家': 1,\n",
       "         '哪家公司': 4,\n",
       "         '公司提供': 10,\n",
       "         '提供最佳': 5,\n",
       "         '最佳租赁': 2,\n",
       "         '保险WhichCompanyOffersTheBestRentersInsurance81lifeinsurance': 1,\n",
       "         'WhichCompanyOffersTheBestRentersInsurance81lifeinsurance全': 1,\n",
       "         '人寿保险有': 39,\n",
       "         '有哪些': 13,\n",
       "         '哪些特点': 1,\n",
       "         '特点WhatAreSomeCharacteristicsOfWholeLifeInsurance82annuities': 1,\n",
       "         'WhatAreSomeCharacteristicsOfWholeLifeInsurance82annuities什么': 1,\n",
       "         '是年': 23,\n",
       "         '年金种': 1,\n",
       "         '金种现金流': 1,\n",
       "         '现金流WhatIsAnnuityKindOfCashFlow83lifeinsurance': 1,\n",
       "         'WhatIsAnnuityKindOfCashFlow83lifeinsurance可以': 1,\n",
       "         '在乳腺癌': 2,\n",
       "         '乳腺癌后': 2,\n",
       "         '后获得': 2,\n",
       "         '获得人身保险': 36,\n",
       "         '人身保险吗': 31,\n",
       "         '吗CanYouGetLifeInsuranceAfterBreastCancer84autoinsurance': 1,\n",
       "         'CanYouGetLifeInsuranceAfterBreastCancer84autoinsurance如何': 1,\n",
       "         '如何找出': 14,\n",
       "         '找出多少': 1,\n",
       "         '汽车保险呢': 1,\n",
       "         '呢HowToFigureOutHowMuchCarInsuranceWillBe85retirementplans': 1,\n",
       "         'HowToFigureOutHowMuchCarInsuranceWillBe85retirementplans如何': 1,\n",
       "         '如何计划': 23,\n",
       "         '计划退休': 27,\n",
       "         '退休与': 1,\n",
       "         '与401KHowToPlanForRetirementWithA401K86healthinsurance': 1,\n",
       "         '401KHowToPlanForRetirementWithA401K86healthinsurance什么': 1,\n",
       "         '是不': 8,\n",
       "         '不符合': 4,\n",
       "         '符合奥巴马': 1,\n",
       "         '奥巴马的': 5,\n",
       "         '的税收': 13,\n",
       "         '税收减免': 1,\n",
       "         '减免WhatIsTheTaxPenaltyForNotHavingHealthInsuranceUnderObamacare87medicareinsurance': 1,\n",
       "         'WhatIsTheTaxPenaltyForNotHavingHealthInsuranceUnderObamacare87medicareinsurance你': 1,\n",
       "         '你能': 107,\n",
       "         '能失去': 1,\n",
       "         '失去医疗': 1,\n",
       "         '医疗福利': 4,\n",
       "         '福利吗': 2,\n",
       "         '吗CanYouLoseMedicareBenefits88homeinsurance': 1,\n",
       "         'CanYouLoseMedicareBenefits88homeinsurance房主': 1,\n",
       "         '会损失': 1,\n",
       "         '损失钻石': 1,\n",
       "         '钻石WillHomeownersInsuranceCoverALostDiamond89longtermcareinsurance': 1,\n",
       "         'WillHomeownersInsuranceCoverALostDiamond89longtermcareinsurance长期': 1,\n",
       "         '多少HowMuchDoLongTermCareInsurancePoliciesCost90lifeinsurance': 1,\n",
       "         'HowMuchDoLongTermCareInsurancePoliciesCost90lifeinsurance何时': 1,\n",
       "         '何时应该': 12,\n",
       "         '应该停止': 2,\n",
       "         '停止支付': 5,\n",
       "         '支付人寿保险': 14,\n",
       "         '人寿保险WhenShouldIStopPayingForLifeInsurance91medicareinsurance': 1,\n",
       "         'WhenShouldIStopPayingForLifeInsurance91medicareinsurance你': 1,\n",
       "         '你去': 2,\n",
       "         '去医疗保险': 3,\n",
       "         '医疗保险什么': 5,\n",
       "         '年龄WhatAgeDoYouGoOnMedicare92lifeinsurance': 1,\n",
       "         'WhatAgeDoYouGoOnMedicare92lifeinsurance人寿保险': 1,\n",
       "         '人寿保险公司': 100,\n",
       "         '公司如何': 12,\n",
       "         '如何吸烟': 2,\n",
       "         '吸烟HowCanLifeInsuranceCompaniesTellIfYouAreASmoker93longtermcareinsurance': 1,\n",
       "         'HowCanLifeInsuranceCompaniesTellIfYouAreASmoker93longtermcareinsurance如何': 1,\n",
       "         '如何确定': 23,\n",
       "         '确定您': 2,\n",
       "         '您是否': 3,\n",
       "         '需要长期': 23,\n",
       "         '保险HowToDetermineIfYouNeedLongTermCareInsurance94autoinsurance': 1,\n",
       "         'HowToDetermineIfYouNeedLongTermCareInsurance94autoinsurance谁': 1,\n",
       "         '谁制造': 1,\n",
       "         '制造汽车保险': 1,\n",
       "         '汽车保险WhoMadeCarInsuranceMandatory95lifeinsurance': 1,\n",
       "         'WhoMadeCarInsuranceMandatory95lifeinsurance什么': 1,\n",
       "         '时候应该': 28,\n",
       "         '得到期限': 2,\n",
       "         '期限人寿保险': 55,\n",
       "         '人寿保险WhenShouldIGetTermLifeInsurance96autoinsurance': 1,\n",
       "         'WhenShouldIGetTermLifeInsurance96autoinsurance信用': 1,\n",
       "         '信用与': 1,\n",
       "         '与汽车保险': 4,\n",
       "         '汽车保险有': 16,\n",
       "         '有什么': 49,\n",
       "         '什么关系': 1,\n",
       "         '关系WhatDoesCreditHaveToDoWithAutoInsurance97homeinsurance': 1,\n",
       "         'WhatDoesCreditHaveToDoWithAutoInsurance97homeinsurance家庭': 1,\n",
       "         '是否支付': 58,\n",
       "         '支付屋顶': 1,\n",
       "         '屋顶更换': 2,\n",
       "         '更换WillHomeInsurancePayForRoofReplacement98autoinsurance': 1,\n",
       "         'WillHomeInsurancePayForRoofReplacement98autoinsurance谁': 1,\n",
       "         '谁拥有': 19,\n",
       "         '拥有最好': 3,\n",
       "         '最好和': 5,\n",
       "         '和最': 4,\n",
       "         '最便宜': 74,\n",
       "         '便宜的': 105,\n",
       "         '汽车保险WhoHasTheBestAndCheapestCarInsurance99autoinsurance': 1,\n",
       "         'WhoHasTheBestAndCheapestCarInsurance99autoinsurance你': 1,\n",
       "         '能租': 1,\n",
       "         '租汽车保险': 1,\n",
       "         '吗CanYouRentAUhaulWithCarInsurance100homeinsurance': 1,\n",
       "         'CanYouRentAUhaulWithCarInsurance100homeinsurance房主': 1,\n",
       "         '什么WhatsCoveredInHomeownersInsurance101longtermcareinsurance': 1,\n",
       "         'WhatsCoveredInHomeownersInsurance101longtermcareinsurance我': 1,\n",
       "         '可以为': 49,\n",
       "         '为我': 34,\n",
       "         '我母亲': 2,\n",
       "         '母亲购买': 1,\n",
       "         '购买长期': 61,\n",
       "         '吗CanIBuyLongTermCareInsuranceForMyMother102lifeinsurance': 1,\n",
       "         'CanIBuyLongTermCareInsuranceForMyMother102lifeinsurance什么': 1,\n",
       "         '是完全': 4,\n",
       "         '完全实行': 1,\n",
       "         '实行人寿保险': 3,\n",
       "         '人寿保险WhatIsAFullyPaidUpLifeInsurancePolicy103lifeinsurance': 1,\n",
       "         'WhatIsAFullyPaidUpLifeInsurancePolicy103lifeinsurance我': 1,\n",
       "         '可以得到': 127,\n",
       "         '得到高血压': 2,\n",
       "         '高血压的': 2,\n",
       "         '吗CanIGetLifeInsuranceWithHypertension104rentersinsurance': 1,\n",
       "         'CanIGetLifeInsuranceWithHypertension104rentersinsurance如何': 1,\n",
       "         '如何找到': 28,\n",
       "         '找到好': 3,\n",
       "         '的租客': 38,\n",
       "         '保险HowToFindGoodRentersInsurance105autoinsurance': 1,\n",
       "         'HowToFindGoodRentersInsurance105autoinsurance什么': 1,\n",
       "         '是考虑': 3,\n",
       "         '考虑用于': 1,\n",
       "         '用于保险': 1,\n",
       "         '保险目的': 2,\n",
       "         '目的的': 1,\n",
       "         '的跑车': 1,\n",
       "         '跑车WhatIsConsideredASportsCarForInsurancePurposes106homeinsurance': 1,\n",
       "         'WhatIsConsideredASportsCarForInsurancePurposes106homeinsurance家庭': 1,\n",
       "         '什么WhatIsCoveredUnderHomeInsurance107retirementplans': 1,\n",
       "         'WhatIsCoveredUnderHomeInsurance107retirementplans为什么': 1,\n",
       "         '为什么现在': 1,\n",
       "         '现在重新': 1,\n",
       "         '重新计划': 2,\n",
       "         '退休WhyIsItImportantToPlanForRetirementNow108autoinsurance': 1,\n",
       "         'WhyIsItImportantToPlanForRetirementNow108autoinsurance为什么': 1,\n",
       "         '为什么要': 120,\n",
       "         '要为': 4,\n",
       "         '为汽车保险': 9,\n",
       "         '汽车保险付钱': 1,\n",
       "         '付钱WhyDoGuysPayMoreForCarInsurance109homeinsurance': 1,\n",
       "         'WhyDoGuysPayMoreForCarInsurance109homeinsurance移动': 1,\n",
       "         '移动家庭': 4,\n",
       "         '如何便宜': 3,\n",
       "         '便宜HowCheapIsMobileHomeInsurance110lifeinsurance': 1,\n",
       "         'HowCheapIsMobileHomeInsurance110lifeinsurance可以': 1,\n",
       "         '吗CanIGetLifeInsuranceAfterBreastCancer111disabilityinsurance': 1,\n",
       "         'CanIGetLifeInsuranceAfterBreastCancer111disabilityinsurance多少': 1,\n",
       "         '多少人': 8,\n",
       "         '人使用': 2,\n",
       "         '使用残疾': 2,\n",
       "         '保险HowManyPeopleUseDisabilityInsurance112autoinsurance': 1,\n",
       "         'HowManyPeopleUseDisabilityInsurance112autoinsurance您': 1,\n",
       "         '您的': 87,\n",
       "         '汽车保险涵盖': 9,\n",
       "         '涵盖谁': 3,\n",
       "         '谁WhoIsCoveredUnderYourAutoInsurance113medicareinsurance': 1,\n",
       "         'WhoIsCoveredUnderYourAutoInsurance113medicareinsurance什么': 1,\n",
       "         '是Medigap': 22,\n",
       "         'Medigap计划': 34,\n",
       "         '计划WhatIsAMedigapPlan114healthinsurance': 1,\n",
       "         'WhatIsAMedigapPlan114healthinsurance如何': 1,\n",
       "         '如何增加': 2,\n",
       "         '增加健康': 2,\n",
       "         '保险HowToAddADependentToHealthInsurance115disabilityinsurance': 1,\n",
       "         'HowToAddADependentToHealthInsurance115disabilityinsurance长期': 1,\n",
       "         '长期残疾': 89,\n",
       "         '保险多久': 11,\n",
       "         '多久HowLongDoesLongTermDisabilityInsuranceLast116lifeinsurance': 1,\n",
       "         'HowLongDoesLongTermDisabilityInsuranceLast116lifeinsurance全': 1,\n",
       "         '人寿保险不好': 3,\n",
       "         '不好吗': 3,\n",
       "         '吗IsWholeLifeInsuranceBad117autoinsurance': 1,\n",
       "         'IsWholeLifeInsuranceBad117autoinsurance犹他州': 1,\n",
       "         '犹他州的': 2,\n",
       "         '的平均': 58,\n",
       "         '平均车险': 1,\n",
       "         '车险是': 1,\n",
       "         '多少WhatIsTheAverageCarInsuranceRateInUtah118lifeinsurance': 1,\n",
       "         'WhatIsTheAverageCarInsuranceRateInUtah118lifeinsurance伟大': 1,\n",
       "         '伟大的': 3,\n",
       "         '的西方': 1,\n",
       "         '西方人寿': 1,\n",
       "         '人寿是否': 15,\n",
       "         '是否涵盖': 265,\n",
       "         '涵盖旅游': 2,\n",
       "         '旅游保险': 1,\n",
       "         '保险DoesGreatWestLifeCoverTravelInsurance119lifeinsurance': 1,\n",
       "         'DoesGreatWestLifeCoverTravelInsurance119lifeinsurance定期': 1,\n",
       "         '定期人寿保险': 60,\n",
       "         '人寿保险在': 21,\n",
       "         '在特定': 1,\n",
       "         '特定年龄': 1,\n",
       "         '年龄结束': 1,\n",
       "         '结束吗': 3,\n",
       "         '吗DoesTermLifeInsuranceEndAtACertainAge120homeinsurance': 1,\n",
       "         'DoesTermLifeInsuranceEndAtACertainAge120homeinsurance房主': 1,\n",
       "         '覆盖火器': 2,\n",
       "         '火器DoesHomeownersInsuranceCoverFirearms121retirementplans': 1,\n",
       "         'DoesHomeownersInsuranceCoverFirearms121retirementplans共同': 1,\n",
       "         '共同基金': 15,\n",
       "         '基金的': 1,\n",
       "         '的资产': 3,\n",
       "         '资产净值': 2,\n",
       "         '净值是': 3,\n",
       "         '多少WhatIsNetAssetValueOfAMutualFund122healthinsurance': 1,\n",
       "         'WhatIsNetAssetValueOfAMutualFund122healthinsurance哪些': 1,\n",
       "         '哪些国家': 7,\n",
       "         '国家有': 11,\n",
       "         '有最好': 26,\n",
       "         '保险WhichStatesHaveTheBestHealthInsurance123retirementplans': 1,\n",
       "         'WhichStatesHaveTheBestHealthInsurance123retirementplans为什么': 1,\n",
       "         '为什么重要': 9,\n",
       "         '重要计划': 1,\n",
       "         '退休WhyIsItImportantToPlanForRetirement124disabilityinsurance': 1,\n",
       "         'WhyIsItImportantToPlanForRetirement124disabilityinsurance多少': 1,\n",
       "         '多少残疾': 16,\n",
       "         '保险足够': 3,\n",
       "         '足够了': 5,\n",
       "         '了HowMuchDisabilityInsuranceIsEnough125lifeinsurance': 1,\n",
       "         'HowMuchDisabilityInsuranceIsEnough125lifeinsurance骑手': 1,\n",
       "         '骑手在': 1,\n",
       "         '在人寿保险': 31,\n",
       "         '人寿保险中': 62,\n",
       "         '中意味着': 16,\n",
       "         '意味着什么': 78,\n",
       "         '什么WhatDoesRiderMeanInLifeInsurance126longtermcareinsurance': 1,\n",
       "         'WhatDoesRiderMeanInLifeInsurance126longtermcareinsurance你': 1,\n",
       "         '你为': 3,\n",
       "         '为长期': 1,\n",
       "         '保险支付': 43,\n",
       "         '支付多少': 33,\n",
       "         '多少钱': 175,\n",
       "         '钱HowMuchDoYouPayForLongTermCareInsurance127rentersinsurance': 1,\n",
       "         'HowMuchDoYouPayForLongTermCareInsurance127rentersinsurance我': 1,\n",
       "         '可以要求': 17,\n",
       "         '要求什么': 2,\n",
       "         '什么租客': 8,\n",
       "         '保险WhatCanIClaimOnRentersInsurance128healthinsurance': 1,\n",
       "         'WhatCanIClaimOnRentersInsurance128healthinsurance健康': 1,\n",
       "         '保险额定值': 1,\n",
       "         '额定值是': 1,\n",
       "         '多少WhatDoesHealthInsuranceRatedMean129lifeinsurance': 1,\n",
       "         'WhatDoesHealthInsuranceRatedMean129lifeinsurance你': 1,\n",
       "         '你如何': 53,\n",
       "         '计算人寿保险': 9,\n",
       "         '的期望': 1,\n",
       "         '期望回报': 1,\n",
       "         '回报HowWouldYouCalculateTheExpectedReturnOnALifeInsurancePolicy130autoinsurance': 1,\n",
       "         'HowWouldYouCalculateTheExpectedReturnOnALifeInsurancePolicy130autoinsurance没有': 1,\n",
       "         '没有驾照': 3,\n",
       "         '驾照吗': 4,\n",
       "         '吗CanIGetAutoInsuranceWithoutADriverLicense131medicareinsurance': 1,\n",
       "         'CanIGetAutoInsuranceWithoutADriverLicense131medicareinsurance什么': 1,\n",
       "         '时候是': 11,\n",
       "         '是符合': 9,\n",
       "         '符合医疗保险': 26,\n",
       "         '医疗保险D': 36,\n",
       "         'D部分': 38,\n",
       "         '部分的': 12,\n",
       "         '的人': 20,\n",
       "         '人WhenIsAPersonEligibleForMedicarePartD132autoinsurance': 1,\n",
       "         'WhenIsAPersonEligibleForMedicarePartD132autoinsurance汽车保险': 1,\n",
       "         '汽车保险是': 29,\n",
       "         '是联邦': 5,\n",
       "         '联邦要求': 1,\n",
       "         '要求吗': 4,\n",
       "         '吗IsAutoInsuranceAFederalRequirement133autoinsurance': 1,\n",
       "         'IsAutoInsuranceAFederalRequirement133autoinsurance你': 1,\n",
       "         '得到不良': 5,\n",
       "         '不良信用': 6,\n",
       "         '信用的': 6,\n",
       "         '吗CanYouGetAutoInsuranceWithBadCredit134lifeinsuranceHIPPA': 1,\n",
       "         'CanYouGetAutoInsuranceWithBadCredit134lifeinsuranceHIPPA适用': 1,\n",
       "         '适用于': 19,\n",
       "         '于人寿保险': 8,\n",
       "         '公司吗': 9,\n",
       "         '吗DoesHIPPAApplyToLifeInsuranceCompanies135autoinsuranceDUI': 1,\n",
       "         'DoesHIPPAApplyToLifeInsuranceCompanies135autoinsuranceDUI后': 1,\n",
       "         '后汽车': 1,\n",
       "         '汽车保险费用': 46,\n",
       "         '多少HowMuchDoesAutoInsuranceCostAfterADUI136homeinsurance': 1,\n",
       "         'HowMuchDoesAutoInsuranceCostAfterADUI136homeinsurance购买': 1,\n",
       "         '购买家庭': 6,\n",
       "         '家庭时': 1,\n",
       "         '时多少': 1,\n",
       "         '多少保险': 51,\n",
       "         '保险HowMuchIsInsuranceWhenBuyingAHome137medicareinsurance': 1,\n",
       "         'HowMuchIsInsuranceWhenBuyingAHome137medicareinsurance什么': 1,\n",
       "         'Medigap政策': 27,\n",
       "         '政策WhatIsTheMedigapPolicy138rentersinsurance': 1,\n",
       "         'WhatIsTheMedigapPolicy138rentersinsurance租客': 1,\n",
       "         '涵盖失去': 1,\n",
       "         '的订婚戒指': 4,\n",
       "         '订婚戒指DoesRentersInsuranceCoverALostEngagementRing139medicareinsuranceObamacare': 1,\n",
       "         'DoesRentersInsuranceCoverALostEngagementRing139medicareinsuranceObamacare覆盖': 1,\n",
       "         '覆盖MedigapDoesObamacareCoverMedigap140rentersinsurance': 1,\n",
       "         'MedigapDoesObamacareCoverMedigap140rentersinsurance全国': 1,\n",
       "         '全国租赁': 3,\n",
       "         '保险多少': 73,\n",
       "         '多少HowMuchIsNationwideRentersInsurance141lifeinsurance': 1,\n",
       "         'HowMuchIsNationwideRentersInsurance141lifeinsurance谁': 1,\n",
       "         '谁卖出': 1,\n",
       "         '卖出抵押': 1,\n",
       "         '抵押人寿保险': 5,\n",
       "         '人寿保险WhoSellsMortgageLifeInsurance142lifeinsurance': 1,\n",
       "         'WhoSellsMortgageLifeInsurance142lifeinsurance我': 1,\n",
       "         '人寿保险是否': 235,\n",
       "         '覆盖跳伞': 2,\n",
       "         '跳伞DoesMyLifeInsuranceCoverSkydiving143healthinsurance': 1,\n",
       "         'DoesMyLifeInsuranceCoverSkydiving143healthinsurance健康': 1,\n",
       "         '覆盖皮肤': 1,\n",
       "         '皮肤清除': 1,\n",
       "         '清除手术': 1,\n",
       "         '手术DoesHealthInsuranceCoverSkinRemovalSurgery144healthinsurance': 1,\n",
       "         'DoesHealthInsuranceCoverSkinRemovalSurgery144healthinsurance没有': 1,\n",
       "         '的皮肤科': 1,\n",
       "         '皮肤科医生': 1,\n",
       "         '医生花费': 1,\n",
       "         '花费多少': 11,\n",
       "         '钱HowMuchDoesItCostToSeeADermatologistWithoutHealthInsurance145healthinsurance': 1,\n",
       "         'HowMuchDoesItCostToSeeADermatologistWithoutHealthInsurance145healthinsurance在': 1,\n",
       "         '哪里得到': 15,\n",
       "         '得到健康': 24,\n",
       "         '保险与': 49,\n",
       "         '与预先': 2,\n",
       "         '预先存在': 6,\n",
       "         '存在的': 5,\n",
       "         '的条件': 10,\n",
       "         '条件WhereToGetHealthInsuranceWithAPreexistingCondition146lifeinsurance': 1,\n",
       "         'WhereToGetHealthInsuranceWithAPreexistingCondition146lifeinsurance是否': 1,\n",
       "         '是否USAA': 2,\n",
       "         'USAA卖': 2,\n",
       "         '卖人寿保险': 11,\n",
       "         '人寿保险DoesUSAASellLifeInsurance147disabilityinsurance': 1,\n",
       "         'DoesUSAASellLifeInsurance147disabilityinsurance联邦政府': 1,\n",
       "         '联邦政府是否': 5,\n",
       "         '有残疾': 15,\n",
       "         '保险DoesTheFederalGovernmentHaveDisabilityInsurance148lifeinsurance': 1,\n",
       "         'DoesTheFederalGovernmentHaveDisabilityInsurance148lifeinsurance什么': 1,\n",
       "         '是人寿保险': 102,\n",
       "         '人寿保险股': 1,\n",
       "         '股WhatIsALifeInsuranceUnit149disabilityinsurance': 1,\n",
       "         'WhatIsALifeInsuranceUnit149disabilityinsurance残疾人': 1,\n",
       "         '残疾人保险': 8,\n",
       "         '保险在': 65,\n",
       "         '在平均水平': 1,\n",
       "         '平均水平上': 1,\n",
       "         '上有': 2,\n",
       "         '多大': 12,\n",
       "         '大HowMuchIsDisabilityInsuranceOnAverage150lifeinsurance': 1,\n",
       "         'HowMuchIsDisabilityInsuranceOnAverage150lifeinsurance你': 1,\n",
       "         '可以提交': 1,\n",
       "         '提交人寿保险': 2,\n",
       "         '吗CanYouSurrenderALifeInsurancePolicy151lifeinsurance': 1,\n",
       "         'CanYouSurrenderALifeInsurancePolicy151lifeinsurance人寿保险': 1,\n",
       "         '是否考虑': 12,\n",
       "         '考虑收入': 2,\n",
       "         '收入IsLifeInsuranceConsideredIncome152disabilityinsurance': 1,\n",
       "         'IsLifeInsuranceConsideredIncome152disabilityinsurance什么': 1,\n",
       "         '得到残疾': 29,\n",
       "         '保险WhenShouldIGetDisabilityInsurance153rentersinsurance': 1,\n",
       "         'WhenShouldIGetDisabilityInsurance153rentersinsurance租金': 1,\n",
       "         '租金保险费用': 11,\n",
       "         '多少HowMuchDoesItCostForRentersInsurance154autoinsurance': 1,\n",
       "         'HowMuchDoesItCostForRentersInsurance154autoinsurance新罕布什尔州': 1,\n",
       "         '新罕布什尔州是否': 1,\n",
       "         '需要汽车保险': 17,\n",
       "         '汽车保险DoesNewHampshireRequireAutoInsurance155disabilityinsurance': 1,\n",
       "         'DoesNewHampshireRequireAutoInsurance155disabilityinsurance您': 1,\n",
       "         '的工资': 1,\n",
       "         '工资有': 1,\n",
       "         '多少由': 1,\n",
       "         '由残疾': 1,\n",
       "         '保险承担': 1,\n",
       "         '承担HowMuchOfYourSalaryIsCoveredByDisabilityInsurance156medicareinsurance': 1,\n",
       "         'HowMuchOfYourSalaryIsCoveredByDisabilityInsurance156medicareinsurance哪个': 1,\n",
       "         '哪个药店': 1,\n",
       "         '药店接受': 1,\n",
       "         '接受医疗保险': 11,\n",
       "         '医疗保险WhichPharmaciesAcceptMedicare157autoinsurance': 1,\n",
       "         'WhichPharmaciesAcceptMedicare157autoinsurance需要': 1,\n",
       "         '多长时间才能': 28,\n",
       "         '才能获得': 26,\n",
       "         '汽车保险HowLongWillItTakeToGetCarInsurance158medicareinsurance': 1,\n",
       "         'HowLongWillItTakeToGetCarInsurance158medicareinsurance什么': 1,\n",
       "         '是医疗保险': 69,\n",
       "         '医疗保险WhatIsMedicareHospice159lifeinsurance': 1,\n",
       "         'WhatIsMedicareHospice159lifeinsurance如何': 1,\n",
       "         '确定期限': 1,\n",
       "         '现金价值': 64,\n",
       "         '价值HowDoYouDetermineCashValueOfTermLifeInsurancePolicy160lifeinsurance': 1,\n",
       "         'HowDoYouDetermineCashValueOfTermLifeInsurancePolicy160lifeinsurance人寿保险': 1,\n",
       "         '人寿保险为': 4,\n",
       "         '为您': 6,\n",
       "         '的葬礼': 1,\n",
       "         '葬礼付钱': 1,\n",
       "         '付钱吗': 9,\n",
       "         '吗DoesLifeInsurancePayForYourFuneral161healthinsurance': 1,\n",
       "         'DoesLifeInsurancePayForYourFuneral161healthinsurance你': 1,\n",
       "         '保险可以': 35,\n",
       "         '可以让': 20,\n",
       "         '让孩子': 1,\n",
       "         '孩子多久': 3,\n",
       "         '多久HowLongCanYouKeepAChildOnYourHealthInsurance162healthinsurance': 1,\n",
       "         'HowLongCanYouKeepAChildOnYourHealthInsurance162healthinsurance健康': 1,\n",
       "         '保险税': 2,\n",
       "         '税何时': 2,\n",
       "         '何时可以': 29,\n",
       "         '可以扣除': 58,\n",
       "         '扣除WhenIsHealthInsuranceTaxDeductible163annuitiesSuzeOrman': 1,\n",
       "         'WhenIsHealthInsuranceTaxDeductible163annuitiesSuzeOrman对': 1,\n",
       "         '对可变': 2,\n",
       "         '可变年金': 46,\n",
       "         '年金说': 3,\n",
       "         '说什么': 5,\n",
       "         '什么WhatDoesSuzeOrmanSayAboutVariableAnnuities164healthinsurance': 1,\n",
       "         'WhatDoesSuzeOrmanSayAboutVariableAnnuities164healthinsurance可以': 1,\n",
       "         '用Fsa': 1,\n",
       "         'Fsa支付': 1,\n",
       "         '支付健康': 29,\n",
       "         '吗CanIPayHealthInsurancePremiumsWithFsa165medicareinsurance': 1,\n",
       "         'CanIPayHealthInsurancePremiumsWithFsa165medicareinsurance沃尔玛': 1,\n",
       "         '沃尔玛是否': 3,\n",
       "         '是否接受': 2,\n",
       "         '医疗保险DoesWalmartTakeMedicare166autoinsurance': 1,\n",
       "         'DoesWalmartTakeMedicare166autoinsurance汽车保险': 1,\n",
       "         '汽车保险可以': 13,\n",
       "         '可以转移': 11,\n",
       "         '转移吗': 3,\n",
       "         '吗CanAutoInsuranceBeTransferred167autoinsurance': 1,\n",
       "         'CanAutoInsuranceBeTransferred167autoinsurance什么': 1,\n",
       "         '是SR22': 1,\n",
       "         'SR22保险': 3,\n",
       "         '保险WhatDoesSR22InsuranceCover168autoinsurance': 1,\n",
       "         'WhatDoesSR22InsuranceCover168autoinsurance没有': 1,\n",
       "         '没有工作': 11,\n",
       "         '工作可以': 3,\n",
       "         '得到汽车保险': 28,\n",
       "         '吗CanIGetCarInsuranceWithoutAJob169healthinsurance': 1,\n",
       "         'CanIGetCarInsuranceWithoutAJob169healthinsurance你': 1,\n",
       "         '你经常': 2,\n",
       "         '经常支付': 2,\n",
       "         '吗HowOftenDoYouPayHealthInsurance170lifeinsurance': 1,\n",
       "         'HowOftenDoYouPayHealthInsurance170lifeinsurance受益人': 1,\n",
       "         '受益人何时': 1,\n",
       "         '何时收到': 1,\n",
       "         '收到人寿保险': 2,\n",
       "         '人寿保险WhenDoesTheBeneficiaryCollectFromALifeInsurancePolicy171autoinsurance': 1,\n",
       "         'WhenDoesTheBeneficiaryCollectFromALifeInsurancePolicy171autoinsurance如果': 1,\n",
       "         '如果我': 134,\n",
       "         '我没有': 18,\n",
       "         '没有汽车保险': 21,\n",
       "         '汽车保险我': 2,\n",
       "         '可以租车': 2,\n",
       "         '租车吗': 6,\n",
       "         '吗IfIDontHaveAutoInsuranceCanIRentACar172medicareinsurance': 1,\n",
       "         'IfIDontHaveAutoInsuranceCanIRentACar172medicareinsurance医疗保险': 1,\n",
       "         '支付救护车': 1,\n",
       "         '救护车吗': 1,\n",
       "         '吗DoesMedicarePayForAmbulanceRides173homeinsurance': 1,\n",
       "         'DoesMedicarePayForAmbulanceRides173homeinsurance何时': 1,\n",
       "         '何时需要': 12,\n",
       "         '需要家庭': 10,\n",
       "         '家庭保修': 3,\n",
       "         '保修保险': 3,\n",
       "         '保险WhenIsHomeWarrantyInsuranceRequired174homeinsurance': 1,\n",
       "         'WhenIsHomeWarrantyInsuranceRequired174homeinsurance家庭': 1,\n",
       "         '覆盖您': 2,\n",
       "         '的烟囱': 1,\n",
       "         '烟囱DoesHomeInsuranceCoverYourChimney175lifeinsurance': 1,\n",
       "         'DoesHomeInsuranceCoverYourChimney175lifeinsurance我': 1,\n",
       "         '需要多少': 91,\n",
       "         '多少人寿保险': 89,\n",
       "         '人寿保险HowMuchLifeInsuranceDoINeed176homeinsurance': 1,\n",
       "         'HowMuchLifeInsuranceDoINeed176homeinsurance财产保险': 1,\n",
       "         '财产保险与': 1,\n",
       "         '与房主': 9,\n",
       "         '保险相同': 11,\n",
       "         '相同吗': 28,\n",
       "         '吗IsPropertyInsuranceTheSameAsHomeownersInsurance177lifeinsurance': 1,\n",
       "         'IsPropertyInsuranceTheSameAsHomeownersInsurance177lifeinsurance当': 1,\n",
       "         '当你': 27,\n",
       "         '你年轻': 2,\n",
       "         '年轻时': 2,\n",
       "         '时人寿保险': 5,\n",
       "         '是否更': 5,\n",
       "         '更便宜': 15,\n",
       "         '便宜IsLifeInsuranceCheaperToBuyWhenYouAreYounger178disabilityinsuranceAflac': 1,\n",
       "         'IsLifeInsuranceCheaperToBuyWhenYouAreYounger178disabilityinsuranceAflac是否': 1,\n",
       "         '是否提供': 50,\n",
       "         '提供短期': 7,\n",
       "         '保险DoesAflacOfferShortTermDisabilityInsurance179disabilityinsurance': 1,\n",
       "         'DoesAflacOfferShortTermDisabilityInsurance179disabilityinsurance长期': 1,\n",
       "         '残疾是否': 2,\n",
       "         '涵盖医疗保险': 3,\n",
       "         '医疗保险DoesLongTermDisabilityCoverMedicalInsurance180homeinsurance': 1,\n",
       "         'DoesLongTermDisabilityCoverMedicalInsurance180homeinsurance失去': 1,\n",
       "         '失去使用': 3,\n",
       "         '使用意味着': 3,\n",
       "         '是房主': 18,\n",
       "         '保险WhatDoesLossOfUseMeanForHomeownersInsurance181autoinsurance': 1,\n",
       "         'WhatDoesLossOfUseMeanForHomeownersInsurance181autoinsurance汽车保险': 1,\n",
       "         '是否在': 35,\n",
       "         '在您': 6,\n",
       "         '的信用': 16,\n",
       "         '信用报告': 2,\n",
       "         '报告上': 1,\n",
       "         '上DoesCarInsuranceGoOnYourCreditReport182autoinsurance': 1,\n",
       "         'DoesCarInsuranceGoOnYourCreditReport182autoinsurance如何': 1,\n",
       "         '如何驾驶': 2,\n",
       "         ...})"
      ]
     },
     "execution_count": 192,
     "metadata": {},
     "output_type": "execute_result"
    }
   ],
   "source": [
    "words_count"
   ]
  },
  {
   "cell_type": "code",
   "execution_count": 193,
   "metadata": {},
   "outputs": [],
   "source": [
    "def prob_2(word1, word2):\n",
    "    if word1 + word2 in words_count: return words_count[word1 + word2] / len(TOKEN_2_GRAM)\n",
    "    else:\n",
    "        return 1 / len(TOKEN_2_GRAM)"
   ]
  },
  {
   "cell_type": "code",
   "execution_count": 194,
   "metadata": {
    "scrolled": false
   },
   "outputs": [
    {
     "data": {
      "text/plain": [
       "2.273605711297547e-05"
      ]
     },
     "execution_count": 194,
     "metadata": {},
     "output_type": "execute_result"
    }
   ],
   "source": [
    "prob_2('买','保险')"
   ]
  },
  {
   "cell_type": "code",
   "execution_count": 195,
   "metadata": {},
   "outputs": [
    {
     "data": {
      "text/plain": [
       "1.1368028556487734e-05"
      ]
     },
     "execution_count": 195,
     "metadata": {},
     "output_type": "execute_result"
    }
   ],
   "source": [
    "prob_2('卖','糖')"
   ]
  },
  {
   "cell_type": "code",
   "execution_count": 196,
   "metadata": {
    "scrolled": true
   },
   "outputs": [
    {
     "data": {
      "text/plain": [
       "1.1368028556487734e-05"
      ]
     },
     "execution_count": 196,
     "metadata": {},
     "output_type": "execute_result"
    }
   ],
   "source": [
    "prob_2('去','游玩')"
   ]
  },
  {
   "cell_type": "code",
   "execution_count": 197,
   "metadata": {
    "scrolled": true
   },
   "outputs": [
    {
     "data": {
      "text/plain": [
       "0.013061864811404407"
      ]
     },
     "execution_count": 197,
     "metadata": {},
     "output_type": "execute_result"
    }
   ],
   "source": [
    "prob_2('什么','是')"
   ]
  },
  {
   "cell_type": "markdown",
   "metadata": {},
   "source": [
    "#### 3. 获得最优质的的语言"
   ]
  },
  {
   "cell_type": "markdown",
   "metadata": {},
   "source": [
    "当我们能够生成随机的语言并且能判断之后，我们就可以生成更加合理的语言了。请定义 generate_best 函数，该函数输入一个语法 + 语言模型，能够生成**n**个句子，并能选择一个最合理的句子: \n",
    "\n"
   ]
  },
  {
   "cell_type": "code",
   "execution_count": 198,
   "metadata": {},
   "outputs": [
    {
     "data": {
      "text/plain": [
       "[1, 2, 3, 5]"
      ]
     },
     "execution_count": 198,
     "metadata": {},
     "output_type": "execute_result"
    }
   ],
   "source": [
    "sorted([1, 3, 5, 2])"
   ]
  },
  {
   "cell_type": "markdown",
   "metadata": {},
   "source": [
    "这个函数接受一个参数key，这个参数接受一个函数作为输入，例如"
   ]
  },
  {
   "cell_type": "code",
   "execution_count": 199,
   "metadata": {},
   "outputs": [
    {
     "data": {
      "text/plain": [
       "[(1, 4), (2, 5), (4, 4), (5, 0)]"
      ]
     },
     "execution_count": 199,
     "metadata": {},
     "output_type": "execute_result"
    }
   ],
   "source": [
    "sorted([(2, 5), (1, 4), (5, 0), (4, 4)], key=lambda x: x[0])"
   ]
  },
  {
   "cell_type": "markdown",
   "metadata": {},
   "source": [
    "能够让list按照第0个元素进行排序."
   ]
  },
  {
   "cell_type": "code",
   "execution_count": 200,
   "metadata": {},
   "outputs": [
    {
     "data": {
      "text/plain": [
       "[(5, 0), (1, 4), (4, 4), (2, 5)]"
      ]
     },
     "execution_count": 200,
     "metadata": {},
     "output_type": "execute_result"
    }
   ],
   "source": [
    "sorted([(2, 5), (1, 4), (5, 0), (4, 4)], key=lambda x: x[1])"
   ]
  },
  {
   "cell_type": "markdown",
   "metadata": {},
   "source": [
    "能够让list按照第1个元素进行排序."
   ]
  },
  {
   "cell_type": "code",
   "execution_count": 201,
   "metadata": {
    "scrolled": true
   },
   "outputs": [
    {
     "data": {
      "text/plain": [
       "[(2, 5), (1, 4), (4, 4), (5, 0)]"
      ]
     },
     "execution_count": 201,
     "metadata": {},
     "output_type": "execute_result"
    }
   ],
   "source": [
    "sorted([(2, 5), (1, 4), (5, 0), (4, 4)], key=lambda x: x[1], reverse=True)"
   ]
  },
  {
   "cell_type": "markdown",
   "metadata": {},
   "source": [
    "能够让list按照第1个元素进行排序, 但是是递减的顺序。"
   ]
  },
  {
   "cell_type": "code",
   "execution_count": 209,
   "metadata": {},
   "outputs": [],
   "source": [
    "def get_probablity(sentence):\n",
    "    words = cut(sentence)   \n",
    "    sentence_pro = 1    \n",
    "    for i, word in enumerate(words[:-1]):\n",
    "        next_ = words[i + 1]\n",
    "        probability = prob_2(word, next_)        \n",
    "        sentence_pro *= probability    \n",
    "    return sentence_pro"
   ]
  },
  {
   "cell_type": "code",
   "execution_count": 220,
   "metadata": {},
   "outputs": [],
   "source": [
    "def generate_best(): # you code here\n",
    "    sentence = '''\n",
    "    sentence = a verb noun\n",
    "    a = 医疗保险 | 债权人 | 费用\n",
    "    verb = 有 | 是 | 涵盖 \n",
    "    noun = 什么 | 时间 | 特点 | 多少\n",
    "    '''\n",
    "    result = generate_n(sentence, 'sentence', 6)\n",
    "    pro_list = []\n",
    "    for i in result:\n",
    "        pro = get_probablity(i)\n",
    "        pro_list.append((pro, i))\n",
    "    pro_list = sorted(pro_list, key=lambda x: x[0], reverse=True)\n",
    "    return pro_list"
   ]
  },
  {
   "cell_type": "code",
   "execution_count": 221,
   "metadata": {
    "scrolled": false
   },
   "outputs": [
    {
     "data": {
      "text/plain": [
       "[(8.238544670396437e-07, '医疗保险是什么'),\n",
       " (2.326177318700171e-09, '医疗保险涵盖特点'),\n",
       " (3.876962197833618e-10, '费用涵盖多少'),\n",
       " (1.292320732611206e-10, '费用涵盖时间'),\n",
       " (1.292320732611206e-10, '费用涵盖特点'),\n",
       " (1.292320732611206e-10, '债权人有时间'),\n",
       " (1.292320732611206e-10, '债权人涵盖时间')]"
      ]
     },
     "execution_count": 221,
     "metadata": {},
     "output_type": "execute_result"
    }
   ],
   "source": [
    "generate_best()"
   ]
  },
  {
   "cell_type": "markdown",
   "metadata": {},
   "source": [
    "Q: 这个模型有什么问题？ 你准备如何提升？ "
   ]
  },
  {
   "cell_type": "markdown",
   "metadata": {},
   "source": [
    "Ans: 混有中英文，需要将英文和中文处理下"
   ]
  }
 ],
 "metadata": {
  "kernelspec": {
   "display_name": "Python 3",
   "language": "python",
   "name": "python3"
  },
  "language_info": {
   "codemirror_mode": {
    "name": "ipython",
    "version": 3
   },
   "file_extension": ".py",
   "mimetype": "text/x-python",
   "name": "python",
   "nbconvert_exporter": "python",
   "pygments_lexer": "ipython3",
   "version": "3.7.3"
  },
  "widgets": {
   "application/vnd.jupyter.widget-state+json": {
    "state": {},
    "version_major": 2,
    "version_minor": 0
   }
  }
 },
 "nbformat": 4,
 "nbformat_minor": 2
}
