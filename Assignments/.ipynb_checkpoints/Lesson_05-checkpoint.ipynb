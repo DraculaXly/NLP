{
 "cells": [
  {
   "cell_type": "markdown",
   "metadata": {},
   "source": [
    "## Search Tree -> Similar Words"
   ]
  },
  {
   "cell_type": "code",
   "execution_count": 82,
   "metadata": {},
   "outputs": [],
   "source": [
    "import pandas as pd\n",
    "import numpy as np\n",
    "import jieba\n",
    "import re\n",
    "import math\n",
    "import wordcloud\n",
    "import random \n",
    "import matplotlib.pyplot as plt\n",
    "from gensim.models import Word2Vec\n",
    "from gensim.models.word2vec import LineSentence\n",
    "from smart_open import open\n",
    "from collections import defaultdict\n",
    "from functools import wraps\n",
    "from PIL import Image\n",
    "\n",
    "%matplotlib inline"
   ]
  },
  {
   "cell_type": "code",
   "execution_count": 9,
   "metadata": {},
   "outputs": [],
   "source": [
    "csv_path = r'D:\\Github\\Data\\sqlResult_1558435.csv'\n",
    "content = pd.read_csv(csv_path, encoding='gb18030')\n",
    "content = content.fillna('')"
   ]
  },
  {
   "cell_type": "code",
   "execution_count": 10,
   "metadata": {},
   "outputs": [
    {
     "data": {
      "text/html": [
       "<div>\n",
       "<style scoped>\n",
       "    .dataframe tbody tr th:only-of-type {\n",
       "        vertical-align: middle;\n",
       "    }\n",
       "\n",
       "    .dataframe tbody tr th {\n",
       "        vertical-align: top;\n",
       "    }\n",
       "\n",
       "    .dataframe thead th {\n",
       "        text-align: right;\n",
       "    }\n",
       "</style>\n",
       "<table border=\"1\" class=\"dataframe\">\n",
       "  <thead>\n",
       "    <tr style=\"text-align: right;\">\n",
       "      <th></th>\n",
       "      <th>id</th>\n",
       "      <th>author</th>\n",
       "      <th>source</th>\n",
       "      <th>content</th>\n",
       "      <th>feature</th>\n",
       "      <th>title</th>\n",
       "      <th>url</th>\n",
       "    </tr>\n",
       "  </thead>\n",
       "  <tbody>\n",
       "    <tr>\n",
       "      <th>0</th>\n",
       "      <td>89617</td>\n",
       "      <td></td>\n",
       "      <td>快科技@http://www.kkj.cn/</td>\n",
       "      <td>此外，自本周（6月12日）起，除小米手机6等15款机型外，其余机型已暂停更新发布（含开发版/...</td>\n",
       "      <td>{\"type\":\"科技\",\"site\":\"cnbeta\",\"commentNum\":\"37\"...</td>\n",
       "      <td>小米MIUI 9首批机型曝光：共计15款</td>\n",
       "      <td>http://www.cnbeta.com/articles/tech/623597.htm</td>\n",
       "    </tr>\n",
       "    <tr>\n",
       "      <th>1</th>\n",
       "      <td>89616</td>\n",
       "      <td></td>\n",
       "      <td>快科技@http://www.kkj.cn/</td>\n",
       "      <td>骁龙835作为唯一通过Windows 10桌面平台认证的ARM处理器，高通强调，不会因为只考...</td>\n",
       "      <td>{\"type\":\"科技\",\"site\":\"cnbeta\",\"commentNum\":\"15\"...</td>\n",
       "      <td>骁龙835在Windows 10上的性能表现有望改善</td>\n",
       "      <td>http://www.cnbeta.com/articles/tech/623599.htm</td>\n",
       "    </tr>\n",
       "  </tbody>\n",
       "</table>\n",
       "</div>"
      ],
      "text/plain": [
       "      id author                  source  \\\n",
       "0  89617         快科技@http://www.kkj.cn/   \n",
       "1  89616         快科技@http://www.kkj.cn/   \n",
       "\n",
       "                                             content  \\\n",
       "0  此外，自本周（6月12日）起，除小米手机6等15款机型外，其余机型已暂停更新发布（含开发版/...   \n",
       "1  骁龙835作为唯一通过Windows 10桌面平台认证的ARM处理器，高通强调，不会因为只考...   \n",
       "\n",
       "                                             feature  \\\n",
       "0  {\"type\":\"科技\",\"site\":\"cnbeta\",\"commentNum\":\"37\"...   \n",
       "1  {\"type\":\"科技\",\"site\":\"cnbeta\",\"commentNum\":\"15\"...   \n",
       "\n",
       "                        title                                             url  \n",
       "0        小米MIUI 9首批机型曝光：共计15款  http://www.cnbeta.com/articles/tech/623597.htm  \n",
       "1  骁龙835在Windows 10上的性能表现有望改善  http://www.cnbeta.com/articles/tech/623599.htm  "
      ]
     },
     "execution_count": 10,
     "metadata": {},
     "output_type": "execute_result"
    }
   ],
   "source": [
    "content[:2]"
   ]
  },
  {
   "cell_type": "code",
   "execution_count": 93,
   "metadata": {},
   "outputs": [],
   "source": [
    "news_content = content['content'].tolist()"
   ]
  },
  {
   "cell_type": "code",
   "execution_count": 20,
   "metadata": {},
   "outputs": [],
   "source": [
    "def cut(string):\n",
    "    return ' '.join(jieba.cut(string))"
   ]
  },
  {
   "cell_type": "code",
   "execution_count": 16,
   "metadata": {},
   "outputs": [
    {
     "name": "stderr",
     "output_type": "stream",
     "text": [
      "Building prefix dict from the default dictionary ...\n",
      "Loading model from cache C:\\Users\\qq706\\AppData\\Local\\Temp\\jieba.cache\n",
      "Loading model cost 0.805 seconds.\n",
      "Prefix dict has been built succesfully.\n"
     ]
    },
    {
     "data": {
      "text/plain": [
       "'这是 一个 测试'"
      ]
     },
     "execution_count": 16,
     "metadata": {},
     "output_type": "execute_result"
    }
   ],
   "source": [
    "cut('这是一个测试')"
   ]
  },
  {
   "cell_type": "code",
   "execution_count": 95,
   "metadata": {},
   "outputs": [],
   "source": [
    "# https://docs.python.org/2/library/re.html\n",
    "# []: Used to indicate a set of characters\n",
    "# \\d: this is equivalent to the set [0-9]\n",
    "# \\w: this is equivalent to the set [a-zA-Z0-9_]\n",
    "# +: match 1 or more repetitions of the preceding RE\n",
    "# obtain the nums or words in news_content\n",
    "def token(string):\n",
    "    return re.findall(r'[\\d|\\w]+', string)"
   ]
  },
  {
   "cell_type": "code",
   "execution_count": 96,
   "metadata": {},
   "outputs": [
    {
     "data": {
      "text/plain": [
       "['这是一个测试', '0000_abdc']"
      ]
     },
     "execution_count": 96,
     "metadata": {},
     "output_type": "execute_result"
    }
   ],
   "source": [
    "token('这是一个测试\\n\\n\\n0000_abdc')"
   ]
  },
  {
   "cell_type": "code",
   "execution_count": 97,
   "metadata": {},
   "outputs": [],
   "source": [
    "news_content = [token(n) for n in news_content] #clean data\n",
    "news_content = [' '.join(n) for n in news_content] #join data\n",
    "news_content = [cut(n) for n in news_content] #cut data"
   ]
  },
  {
   "cell_type": "code",
   "execution_count": 98,
   "metadata": {},
   "outputs": [
    {
     "data": {
      "text/plain": [
       "'此外   自 本周   6 月 12 日   起   除 小米 手机 6 等 15 款 机型 外   其余 机型 已 暂停 更新 发布   含 开发 版   体验版 内测   稳定版 暂不受 影响   以 确保 工程师 可以 集中 全部 精力 进行 系统优化 工作   有人 猜测 这 也 是 将 精力 主要 用到 MIUI   9 的 研发 之中   MIUI   8 去年 5 月 发布   距今已有 一年 有余   也 是 时候 更新换代 了   当然   关于 MIUI   9 的 确切 信息   我们 还是 等待 官方消息'"
      ]
     },
     "execution_count": 98,
     "metadata": {},
     "output_type": "execute_result"
    }
   ],
   "source": [
    "news_content[0]"
   ]
  },
  {
   "cell_type": "code",
   "execution_count": 99,
   "metadata": {},
   "outputs": [],
   "source": [
    "file_path = r\"D:\\Github\\Data\\news-sentences-cut.txt\""
   ]
  },
  {
   "cell_type": "code",
   "execution_count": 100,
   "metadata": {},
   "outputs": [],
   "source": [
    "with open(file_path, 'w', encoding='utf-8') as f:\n",
    "    for n in news_content:\n",
    "        f.write(n + '\\n')"
   ]
  },
  {
   "cell_type": "code",
   "execution_count": 101,
   "metadata": {},
   "outputs": [
    {
     "name": "stderr",
     "output_type": "stream",
     "text": [
      "F:\\Anaconda3\\lib\\site-packages\\smart_open\\smart_open_lib.py:398: UserWarning: This function is deprecated, use smart_open.open instead. See the migration notes for details: https://github.com/RaRe-Technologies/smart_open/blob/master/README.rst#migrating-to-the-new-open-function\n",
      "  'See the migration notes for details: %s' % _MIGRATION_NOTES_URL\n"
     ]
    }
   ],
   "source": [
    "news_word2vec= Word2Vec(LineSentence(file_path), size=35, workers=8)"
   ]
  },
  {
   "cell_type": "code",
   "execution_count": 102,
   "metadata": {
    "scrolled": true
   },
   "outputs": [
    {
     "name": "stderr",
     "output_type": "stream",
     "text": [
      "F:\\Anaconda3\\lib\\site-packages\\smart_open\\smart_open_lib.py:398: UserWarning: This function is deprecated, use smart_open.open instead. See the migration notes for details: https://github.com/RaRe-Technologies/smart_open/blob/master/README.rst#migrating-to-the-new-open-function\n",
      "  'See the migration notes for details: %s' % _MIGRATION_NOTES_URL\n"
     ]
    }
   ],
   "source": [
    "news_word2vec.save(r\"D:\\Github\\Data\\news-sentences-cut.model\")"
   ]
  },
  {
   "cell_type": "code",
   "execution_count": 103,
   "metadata": {},
   "outputs": [
    {
     "name": "stderr",
     "output_type": "stream",
     "text": [
      "F:\\Anaconda3\\lib\\site-packages\\smart_open\\smart_open_lib.py:398: UserWarning: This function is deprecated, use smart_open.open instead. See the migration notes for details: https://github.com/RaRe-Technologies/smart_open/blob/master/README.rst#migrating-to-the-new-open-function\n",
      "  'See the migration notes for details: %s' % _MIGRATION_NOTES_URL\n"
     ]
    },
    {
     "data": {
      "text/plain": [
       "[('意大利', 0.8819765448570251),\n",
       " ('克罗地亚', 0.8555775880813599),\n",
       " ('捷克', 0.8507201671600342),\n",
       " ('西班牙', 0.8348166942596436),\n",
       " ('奥地利', 0.8228058815002441),\n",
       " ('比什凯克', 0.8227503895759583),\n",
       " ('罗马尼亚', 0.8225716352462769),\n",
       " ('摩洛哥', 0.813398003578186),\n",
       " ('乌拉圭', 0.8124071359634399),\n",
       " ('科特迪瓦', 0.8097234964370728),\n",
       " ('比利时', 0.7948222756385803),\n",
       " ('巴林', 0.7902283668518066),\n",
       " ('里斯本', 0.790023684501648),\n",
       " ('马德里', 0.7876933813095093),\n",
       " ('瑞士', 0.7873736619949341),\n",
       " ('拉脱维亚', 0.787063479423523),\n",
       " ('巴塞罗那', 0.7769136428833008),\n",
       " ('伊斯坦布尔', 0.7759764194488525),\n",
       " ('拉帕尔马', 0.7729355096817017),\n",
       " ('圣胡安', 0.7699117660522461)]"
      ]
     },
     "execution_count": 103,
     "metadata": {},
     "output_type": "execute_result"
    }
   ],
   "source": [
    "news_word2vec = Word2Vec.load(r\"D:\\Github\\Data\\news-sentences-cut.model\")\n",
    "news_word2vec.wv.most_similar('葡萄牙', topn=20)"
   ]
  },
  {
   "cell_type": "markdown",
   "metadata": {},
   "source": [
    "## More Date, Better Results"
   ]
  },
  {
   "cell_type": "markdown",
   "metadata": {},
   "source": [
    "1. 分词的问题\n",
    "2. **数据量**，数据越多，效果越好，维基百科加进来，那么同义词就要好很多。"
   ]
  },
  {
   "cell_type": "code",
   "execution_count": 104,
   "metadata": {},
   "outputs": [
    {
     "name": "stderr",
     "output_type": "stream",
     "text": [
      "F:\\Anaconda3\\lib\\site-packages\\ipykernel_launcher.py:1: DeprecationWarning: Call to deprecated `most_similar` (Method will be removed in 4.0.0, use self.wv.most_similar() instead).\n",
      "  \"\"\"Entry point for launching an IPython kernel.\n"
     ]
    },
    {
     "data": {
      "text/plain": [
       "[('表示', 0.8845512270927429),\n",
       " ('认为', 0.8431851863861084),\n",
       " ('指出', 0.8355127573013306),\n",
       " ('看来', 0.7920743823051453),\n",
       " ('明说', 0.7737349271774292),\n",
       " ('坦言', 0.77046799659729),\n",
       " ('介绍', 0.7628530263900757),\n",
       " ('称', 0.7419861555099487),\n",
       " ('告诉', 0.741806149482727),\n",
       " ('文说', 0.7248716950416565)]"
      ]
     },
     "execution_count": 104,
     "metadata": {},
     "output_type": "execute_result"
    }
   ],
   "source": [
    "news_word2vec.most_similar('说', topn=10)"
   ]
  },
  {
   "cell_type": "code",
   "execution_count": 91,
   "metadata": {},
   "outputs": [],
   "source": [
    "#进行存储\n",
    "def memo(func):\n",
    "    cache = {} \n",
    "    @wraps(func)\n",
    "    def _wrap(n, *arg):\n",
    "        for i in n:\n",
    "            if i in cache: result = cache[i] \n",
    "            else:\n",
    "                result = func(i, *arg) \n",
    "                cache[i] = result \n",
    "            return result\n",
    "    return _wrap"
   ]
  },
  {
   "cell_type": "code",
   "execution_count": 7,
   "metadata": {},
   "outputs": [],
   "source": [
    "#@memo\n",
    "def get_related_words(initial_words, model):\n",
    "    \"\"\"\n",
    "    @initial_words are initial words we already know\n",
    "    @model is the word2vec model\n",
    "    \"\"\"\n",
    "    unseen = initial_words\n",
    "    \n",
    "    seen = defaultdict(int)\n",
    "    \n",
    "    max_size = 500  # could be greater\n",
    "    \n",
    "    while unseen and len(seen) < max_size:\n",
    "        #if len(seen) % 50 == 0: \n",
    "            #print('seen length : {}'.format(len(seen)))\n",
    "            \n",
    "        node = unseen.pop(0)\n",
    "        \n",
    "        new_expanding = [w for w, s in model.wv.most_similar(node, topn=20)]\n",
    "        \n",
    "        unseen += new_expanding\n",
    "        \n",
    "        seen[node] += 1\n",
    "        \n",
    "        # optimal: 1. score function could be revised\n",
    "        # optimal: 2. using dymanic programming to reduce computing time\n",
    "    \n",
    "    return seen"
   ]
  },
  {
   "cell_type": "code",
   "execution_count": 73,
   "metadata": {},
   "outputs": [
    {
     "data": {
      "text/plain": [
       "97927"
      ]
     },
     "execution_count": 73,
     "metadata": {},
     "output_type": "execute_result"
    }
   ],
   "source": [
    "len(news_word2vec.wv.vocab)"
   ]
  },
  {
   "cell_type": "code",
   "execution_count": 8,
   "metadata": {
    "scrolled": true
   },
   "outputs": [],
   "source": [
    "related_words = get_related_words(['说', '表示'], news_word2vec)"
   ]
  },
  {
   "cell_type": "code",
   "execution_count": 87,
   "metadata": {
    "scrolled": true
   },
   "outputs": [
    {
     "data": {
      "text/plain": [
       "[('说', 90),\n",
       " ('指出', 87),\n",
       " ('坦言', 83),\n",
       " ('表示', 82),\n",
       " ('认为', 78),\n",
       " ('透露', 75),\n",
       " ('所说', 71),\n",
       " ('看来', 70),\n",
       " ('特别强调', 64),\n",
       " ('告诉', 61),\n",
       " ('明说', 57),\n",
       " ('介绍', 49),\n",
       " ('称', 44),\n",
       " ('提到', 44),\n",
       " ('强调', 39),\n",
       " ('中说', 37),\n",
       " ('文说', 34),\n",
       " ('普遍认为', 32),\n",
       " ('建议', 29),\n",
       " ('相信', 29),\n",
       " ('对此', 28),\n",
       " ('提及', 24),\n",
       " ('写道', 24),\n",
       " ('问', 23),\n",
       " ('直言', 23),\n",
       " ('现阶段', 21),\n",
       " ('确信', 20),\n",
       " ('称赞', 19),\n",
       " ('看好', 19),\n",
       " ('觉得', 19),\n",
       " ('而言', 17),\n",
       " ('中称', 17),\n",
       " ('知情', 17),\n",
       " ('地说', 16),\n",
       " ('接受', 16),\n",
       " ('证实', 15),\n",
       " ('时说', 14),\n",
       " ('声称', 14),\n",
       " ('原话', 14),\n",
       " ('回答', 14),\n",
       " ('事实上', 13),\n",
       " ('表明', 13),\n",
       " ('承认', 13),\n",
       " ('说道', 12),\n",
       " ('列举', 12),\n",
       " ('反复强调', 12),\n",
       " ('充分说明', 12),\n",
       " ('坦承', 11),\n",
       " ('看到', 11),\n",
       " ('引用', 11),\n",
       " ('描述', 11),\n",
       " ('问道', 11),\n",
       " ('解释', 11),\n",
       " ('坚信', 11),\n",
       " ('具名', 10),\n",
       " ('怼', 10),\n",
       " ('批评', 10),\n",
       " ('肯定', 9),\n",
       " ('黄超', 9),\n",
       " ('武说', 9),\n",
       " ('还称', 9),\n",
       " ('援引', 9),\n",
       " ('猜测', 9),\n",
       " ('反驳', 9),\n",
       " ('赞赏', 9),\n",
       " ('谈论', 9),\n",
       " ('当然', 9),\n",
       " ('伟说', 8),\n",
       " ('来说', 8),\n",
       " ('童岚', 8),\n",
       " ('谢琳', 8),\n",
       " ('许臻', 8),\n",
       " ('祁', 8),\n",
       " ('深有感触', 8),\n",
       " ('农办', 8),\n",
       " ('深有体会', 8),\n",
       " ('董', 8),\n",
       " ('纳说', 8),\n",
       " ('非常重视', 8),\n",
       " ('请问', 8),\n",
       " ('质疑', 8),\n",
       " ('眼中', 7),\n",
       " ('留意到', 7),\n",
       " ('见到', 7),\n",
       " ('康逸', 7),\n",
       " ('冯俊伟摄', 7),\n",
       " ('自称', 7),\n",
       " ('获悉', 7),\n",
       " ('了解', 7),\n",
       " ('供图', 7),\n",
       " ('援外', 7),\n",
       " ('吴越', 7),\n",
       " ('肖凤祥', 7),\n",
       " ('卫生厅', 7),\n",
       " ('负责人', 7),\n",
       " ('正如', 7),\n",
       " ('的话', 7),\n",
       " ('此行', 7),\n",
       " ('爱台', 7),\n",
       " ('时称', 7),\n",
       " ('检视', 7),\n",
       " ('十分重视', 7),\n",
       " ('远远不够', 7),\n",
       " ('最缺', 7),\n",
       " ('归功于', 7),\n",
       " ('王耀', 7),\n",
       " ('陈说', 7),\n",
       " ('看准', 7),\n",
       " ('推脱', 7),\n",
       " ('要说', 7),\n",
       " ('给出', 7),\n",
       " ('答', 6),\n",
       " ('早就', 6),\n",
       " ('西万', 6),\n",
       " ('黄进', 6),\n",
       " ('浠水县', 6),\n",
       " ('保国', 6),\n",
       " ('农艺师', 6),\n",
       " ('海涛', 6),\n",
       " ('红霞', 6),\n",
       " ('张晓明', 6),\n",
       " ('民法学', 6),\n",
       " ('对瓦姆', 6),\n",
       " ('感叹', 6),\n",
       " ('佩服', 6),\n",
       " ('澄清', 6),\n",
       " ('暗示', 6),\n",
       " ('说法', 5),\n",
       " ('墨方', 5),\n",
       " ('据称', 5),\n",
       " ('曾称', 5),\n",
       " ('美国中央情报局', 5),\n",
       " ('上称', 5),\n",
       " ('重申', 5),\n",
       " ('高度重视', 5),\n",
       " ('提出', 5),\n",
       " ('着重强调', 5),\n",
       " ('一贯', 5),\n",
       " ('全力支持', 5),\n",
       " ('呼吁', 5),\n",
       " ('宣示', 5),\n",
       " ('本着', 5),\n",
       " ('敦促', 5),\n",
       " ('陆慷说', 5),\n",
       " ('口中', 5),\n",
       " ('慎重', 5),\n",
       " ('回应', 5),\n",
       " ('对于', 5),\n",
       " ('有何', 5),\n",
       " ('预言', 5),\n",
       " ('担忧', 5),\n",
       " ('期望', 5),\n",
       " ('或许', 5),\n",
       " ('展望未来', 5),\n",
       " ('显然', 5),\n",
       " ('其实', 5),\n",
       " ('因此', 5),\n",
       " ('努钦称', 4),\n",
       " ('里亚布', 4),\n",
       " ('核导弹', 4),\n",
       " ('申明', 4),\n",
       " ('评述', 4),\n",
       " ('简短', 4),\n",
       " ('为什么', 4),\n",
       " ('感慨', 4),\n",
       " ('心里', 4),\n",
       " ('那位', 4),\n",
       " ('要求', 4),\n",
       " ('意见建议', 4),\n",
       " ('必要', 4),\n",
       " ('还应', 4),\n",
       " ('相应', 4),\n",
       " ('吴恒', 4),\n",
       " ('提醒', 4),\n",
       " ('指南', 4),\n",
       " ('党政部门', 4),\n",
       " ('做法', 4),\n",
       " ('评价', 4),\n",
       " ('加以', 4),\n",
       " ('专家建议', 4),\n",
       " ('赞同', 4),\n",
       " ('黄向', 4),\n",
       " ('动向', 4),\n",
       " ('刁', 4),\n",
       " ('鉴于', 4),\n",
       " ('对', 4),\n",
       " ('知道', 4),\n",
       " ('阐述', 4),\n",
       " ('清楚', 4),\n",
       " ('近来', 4),\n",
       " ('热议', 4),\n",
       " ('关注', 4),\n",
       " ('预料', 4),\n",
       " ('令', 4),\n",
       " ('招致', 4),\n",
       " ('说明', 4),\n",
       " ('指望', 4),\n",
       " ('但是', 4),\n",
       " ('依赖于', 4),\n",
       " ('毕竟', 4),\n",
       " ('意料', 4),\n",
       " ('没错', 4),\n",
       " ('本来', 4),\n",
       " ('谈谈', 3),\n",
       " ('反问', 3),\n",
       " ('提问', 3),\n",
       " ('注意', 3),\n",
       " ('共见', 3),\n",
       " ('追问', 3),\n",
       " ('吗', 3),\n",
       " ('谈', 3),\n",
       " ('南方日报', 3),\n",
       " ('听', 3),\n",
       " ('感激', 3),\n",
       " ('眼里', 3),\n",
       " ('开玩笑', 3),\n",
       " ('由衷', 3),\n",
       " ('如是说', 3),\n",
       " ('考量', 3),\n",
       " ('希望', 3),\n",
       " ('期待', 3),\n",
       " ('将来', 3),\n",
       " ('让', 3),\n",
       " ('谈到', 3),\n",
       " ('想法', 3),\n",
       " ('理解', 3),\n",
       " ('之门', 3),\n",
       " ('来讲', 3),\n",
       " ('本身', 3),\n",
       " ('只是', 3),\n",
       " ('是因为', 3),\n",
       " ('实际上', 3),\n",
       " ('衡量', 3),\n",
       " ('不过', 3),\n",
       " ('之所以', 3),\n",
       " ('低估', 3),\n",
       " ('问过', 3),\n",
       " ('托说', 2),\n",
       " ('三军', 2),\n",
       " ('德说', 2),\n",
       " ('王晔', 2),\n",
       " ('科说', 2),\n",
       " ('政务司', 2),\n",
       " ('驻京办', 2),\n",
       " ('常务副', 2),\n",
       " ('军事科学院', 2),\n",
       " ('副', 2),\n",
       " ('锦', 2),\n",
       " ('韩长', 2),\n",
       " ('发展部', 2),\n",
       " ('斯克', 2),\n",
       " ('谈起', 2),\n",
       " ('溢于言表', 2),\n",
       " ('说起', 2),\n",
       " ('倍感', 2),\n",
       " ('感触', 2),\n",
       " ('总是', 2),\n",
       " ('太好了', 2),\n",
       " ('思乡', 2),\n",
       " ('获知', 2),\n",
       " ('胜任', 2),\n",
       " ('智囊团', 2),\n",
       " ('不得而知', 2),\n",
       " ('秘而不宣', 2),\n",
       " ('得知', 2),\n",
       " ('到任', 2),\n",
       " ('产假', 2),\n",
       " ('表态', 2),\n",
       " ('否认', 2),\n",
       " ('属实', 2),\n",
       " ('发声', 2),\n",
       " ('敲定', 2),\n",
       " ('坚称', 2),\n",
       " ('公开场合', 2),\n",
       " ('所提', 2),\n",
       " ('否决', 2),\n",
       " ('指责', 2),\n",
       " ('伊原', 2),\n",
       " ('来看', 2),\n",
       " ('尽管', 2),\n",
       " ('并非', 2),\n",
       " ('的确', 2),\n",
       " ('潜在', 2),\n",
       " ('看重', 2),\n",
       " ('充满信心', 2),\n",
       " ('前景', 2),\n",
       " ('乐观', 2),\n",
       " ('寄予厚望', 2),\n",
       " ('强劲', 2),\n",
       " ('非常明显', 2),\n",
       " ('有利', 2),\n",
       " ('看中', 2),\n",
       " ('水涨船高', 2),\n",
       " ('倒爷', 2),\n",
       " ('一方面', 2),\n",
       " ('这方面', 2),\n",
       " ('短浅', 2),\n",
       " ('因为', 2),\n",
       " ('想必', 2),\n",
       " ('有失', 2),\n",
       " ('打得', 2),\n",
       " ('自认', 2),\n",
       " ('深感', 2),\n",
       " ('忧心忡忡', 2),\n",
       " ('不解', 2),\n",
       " ('确实', 2),\n",
       " ('这样', 2),\n",
       " ('可是', 2),\n",
       " ('从没', 2),\n",
       " ('挺', 2),\n",
       " ('感觉', 2),\n",
       " ('明白', 2),\n",
       " ('想不到', 2),\n",
       " ('有时候', 2),\n",
       " ('未必', 2),\n",
       " ('看得', 2),\n",
       " ('怎么样', 2),\n",
       " ('也许', 2),\n",
       " ('嘛', 2),\n",
       " ('一点儿', 2),\n",
       " ('形容', 2),\n",
       " ('聊到', 2),\n",
       " ('说实话', 2),\n",
       " ('喜出望外', 2),\n",
       " ('薇', 2),\n",
       " ('庆幸', 2),\n",
       " ('苏轶人', 2),\n",
       " ('汤洁峰', 2),\n",
       " ('不久前', 1),\n",
       " ('库泰萨', 1),\n",
       " ('森访', 1),\n",
       " ('不明智', 1),\n",
       " ('联访', 1),\n",
       " ('广播公司', 1),\n",
       " ('字幕组', 1),\n",
       " ('艾奥瓦', 1),\n",
       " ('消息报', 1),\n",
       " ('郑继永说', 1),\n",
       " ('雅二大', 1),\n",
       " ('兼', 1),\n",
       " ('坚说', 1),\n",
       " ('兼任', 1),\n",
       " ('上海大学', 1),\n",
       " ('北京第二外国语学院', 1),\n",
       " ('管理学', 1),\n",
       " ('毫不讳言', 1),\n",
       " ('海淀园', 1),\n",
       " ('担任', 1),\n",
       " ('海为', 1),\n",
       " ('攻读', 1),\n",
       " ('秦晓雯', 1),\n",
       " ('成绩优秀', 1),\n",
       " ('阿米尔', 1),\n",
       " ('非常高兴', 1),\n",
       " ('历史课', 1),\n",
       " ('感谢', 1),\n",
       " ('自豪', 1),\n",
       " ('骄傲', 1),\n",
       " ('赞美', 1),\n",
       " ('惊叹', 1),\n",
       " ('民间文学', 1),\n",
       " ('直言不讳', 1),\n",
       " ('谦虚', 1),\n",
       " ('盛赞', 1),\n",
       " ('解读', 1),\n",
       " ('明智', 1),\n",
       " ('民法', 1),\n",
       " ('总则', 1),\n",
       " ('决策', 1),\n",
       " ('之问', 1),\n",
       " ('几点', 1),\n",
       " ('部门规章', 1),\n",
       " ('决断', 1),\n",
       " ('看法', 1),\n",
       " ('权威', 1),\n",
       " ('然而', 1),\n",
       " ('如此', 1),\n",
       " ('但', 1),\n",
       " ('为何', 1),\n",
       " ('众所周知', 1),\n",
       " ('印证', 1),\n",
       " ('指向', 1),\n",
       " ('估计', 1),\n",
       " ('推测', 1),\n",
       " ('介入', 1),\n",
       " ('促使', 1),\n",
       " ('结论', 1),\n",
       " ('判断', 1),\n",
       " ('对付', 1),\n",
       " ('意图', 1),\n",
       " ('基于', 1),\n",
       " ('另一方面', 1),\n",
       " ('意愿', 1),\n",
       " ('航空业', 1),\n",
       " ('策略', 1),\n",
       " ('现状', 1),\n",
       " ('当前', 1),\n",
       " ('谨慎', 1),\n",
       " ('审慎', 1),\n",
       " ('短期内', 1),\n",
       " ('不确定性', 1),\n",
       " ('贸易逆差', 1),\n",
       " ('长期', 1),\n",
       " ('还是', 1),\n",
       " ('就是', 1),\n",
       " ('感兴趣', 1),\n",
       " ('选择', 1),\n",
       " ('所以', 1),\n",
       " ('赢家', 1),\n",
       " ('一定', 1),\n",
       " ('也', 1),\n",
       " ('都', 1),\n",
       " ('一点', 1),\n",
       " ('如果', 1),\n",
       " ('首先', 1),\n",
       " ('同样', 1),\n",
       " ('常说', 1),\n",
       " ('高佑思', 1),\n",
       " ('留给', 1),\n",
       " ('爱上', 1),\n",
       " ('情结', 1),\n",
       " ('出身', 1),\n",
       " ('羡慕', 1),\n",
       " ('深知', 1),\n",
       " ('钟爱', 1),\n",
       " ('老一辈', 1),\n",
       " ('熟知', 1),\n",
       " ('聊起', 1),\n",
       " ('模样', 1),\n",
       " ('心中', 1),\n",
       " ('真的', 1),\n",
       " ('想过', 1),\n",
       " ('从来', 1),\n",
       " ('当时', 1),\n",
       " ('既然', 1),\n",
       " ('没想到', 1),\n",
       " ('哭', 1),\n",
       " ('于是', 1),\n",
       " ('奇怪', 1),\n",
       " ('只不过', 1),\n",
       " ('以为', 1),\n",
       " ('很少', 1),\n",
       " ('害怕', 1),\n",
       " ('说出', 1),\n",
       " ('忍不住', 1),\n",
       " ('想起', 1),\n",
       " ('对不起', 1),\n",
       " ('记得', 1),\n",
       " ('妈', 1),\n",
       " ('一脸', 1),\n",
       " ('太棒了', 1),\n",
       " ('谈过', 1),\n",
       " ('嘲笑', 1),\n",
       " ('出走', 1),\n",
       " ('惦记着', 1),\n",
       " ('魔术师', 1),\n",
       " ('不可思议', 1),\n",
       " ('太太', 1),\n",
       " ('害羞', 1),\n",
       " ('老友', 1),\n",
       " ('在我看来', 1),\n",
       " ('极力推荐', 1),\n",
       " ('何许人也', 1),\n",
       " ('预料到', 1),\n",
       " ('不在乎', 1),\n",
       " ('一再强调', 1),\n",
       " ('问起', 1),\n",
       " ('服众', 1),\n",
       " ('非常感谢', 1),\n",
       " ('甘春', 1),\n",
       " ('邓敏', 1),\n",
       " ('黄和逊', 1),\n",
       " ('商报讯', 1),\n",
       " ('严锋', 1),\n",
       " ('韩茜', 1),\n",
       " ('谢晗', 1),\n",
       " ('李秀明', 1),\n",
       " ('李晓渝', 1),\n",
       " ('张代蕾', 1),\n",
       " ('周效政', 1),\n",
       " ('刘帅', 1),\n",
       " ('韩冲', 1),\n",
       " ('科技日报', 1),\n",
       " ('韩梁', 1),\n",
       " ('赵珺', 1),\n",
       " ('李华', 1),\n",
       " ('张侨', 1),\n",
       " ('吴飞座', 1),\n",
       " ('尧', 1),\n",
       " ('王振宏', 1),\n",
       " ('王希', 1),\n",
       " ('姜辰蓉', 1),\n",
       " ('毛鑫', 1),\n",
       " ('庞元元', 1),\n",
       " ('姜潇', 1),\n",
       " ('董小红', 1),\n",
       " ('陆文军', 1),\n",
       " ('薛钦峰', 1),\n",
       " ('洪天牧', 1),\n",
       " ('穆序', 1)]"
      ]
     },
     "execution_count": 87,
     "metadata": {},
     "output_type": "execute_result"
    }
   ],
   "source": [
    "sorted(related_words.items(), key=lambda x: x[1], reverse=True)"
   ]
  },
  {
   "cell_type": "markdown",
   "metadata": {},
   "source": [
    "## TFIDF Key words\n",
    "$$ TF-IDF = TF * IDF $$"
   ]
  },
  {
   "cell_type": "code",
   "execution_count": 41,
   "metadata": {},
   "outputs": [],
   "source": [
    "#包含特定单词的文档数量\n",
    "def document_frequency(word): \n",
    "    return sum(1 for n in news_content if word in n)"
   ]
  },
  {
   "cell_type": "code",
   "execution_count": 24,
   "metadata": {},
   "outputs": [
    {
     "data": {
      "text/plain": [
       "70342"
      ]
     },
     "execution_count": 24,
     "metadata": {},
     "output_type": "execute_result"
    }
   ],
   "source": [
    "document_frequency('的')"
   ]
  },
  {
   "cell_type": "code",
   "execution_count": 26,
   "metadata": {},
   "outputs": [],
   "source": [
    "#反向文档频率\n",
    "#文档总数与包含特定单词的文档数量的对数比率\n",
    "def idf(word):\n",
    "    \"\"\"Gets the inversed document frequency\"\"\"\n",
    "    return math.log10(len(news_content) / document_frequency(word))"
   ]
  },
  {
   "cell_type": "code",
   "execution_count": 30,
   "metadata": {},
   "outputs": [
    {
     "data": {
      "text/plain": [
       "0.1051466115514474"
      ]
     },
     "execution_count": 30,
     "metadata": {},
     "output_type": "execute_result"
    }
   ],
   "source": [
    "idf('的')"
   ]
  },
  {
   "cell_type": "code",
   "execution_count": 31,
   "metadata": {},
   "outputs": [
    {
     "data": {
      "text/plain": [
       "2.948039950009831"
      ]
     },
     "execution_count": 31,
     "metadata": {},
     "output_type": "execute_result"
    }
   ],
   "source": [
    "idf('小米')"
   ]
  },
  {
   "cell_type": "code",
   "execution_count": 32,
   "metadata": {},
   "outputs": [],
   "source": [
    "#术语频率\n",
    "#特定单词的计数与文档中单词总数的比率\n",
    "def tf(word, document):\n",
    "    \"\"\"\n",
    "    Gets the term frequemcy of a @word in a @document.\n",
    "    \"\"\"\n",
    "    words = document.split()\n",
    "    \n",
    "    return sum(1 for w in words if w == word)"
   ]
  },
  {
   "cell_type": "code",
   "execution_count": 33,
   "metadata": {},
   "outputs": [
    {
     "data": {
      "text/plain": [
       "'?\\r\\n\\u3000\\u3000巨丰早评：市场将再次探底\\r\\n\\u3000\\u3000【巨丰观点】\\r\\n\\u3000\\u3000周四大盘冲高回落，2500余只个股下跌。上证50、沪深300指数顽强收红。早盘大盘低开高走，展开反弹，沪指冲破120日均线压力位；午后大盘跳水，个股普跌。盘面上，保险、电力、银行、民航机场、券商、房地产、人工智能、迪士尼、网络安全等板块涨幅居前。雄安新区、福州新区、医疗器械、丝绸之路等跌幅居前。\\r\\n\\u3000\\u3000金融股全线大涨：保险板块涨3%：新华保险、中国太保、中国人寿涨4%，中国平安涨2%；西水股份、天茂集团盘中大涨7%以上。银行板块涨2%：招商银行大涨8%，贵阳银行、兴业银行、浦发银行、兴业银行等涨幅居前。金融股是A股纳入MSCI指数的受益者，后市可以逢低关注。\\r\\n\\u3000\\u3000盘中万达电影、复星医药等白马股闪崩，导致午后市场出现大幅跳水。盘后消息，银监会于6月中旬要求各家银行排查包括万达、海航集团、复星、浙江罗森内里在内数家企业的授信及风险分析，排查对象多是近年来海外投资比较凶猛、在银行业敞口较大的民营企业集团。\\r\\n\\u3000\\u3000巨丰投顾认为自5月以来，大盘已经走出了3重底的走势，并开启中级反弹行情。沪指在上证50及白马股推动下率先反弹，但遭遇60日、120日均线强压力而出现调整。MSCI纳入A股后，沪深300指数创17个月新高，但2500余股下跌，市场分化明显。随着6月末市场流动性紧张的可能出现，市场将再次出现探底。建议投资者重点关注半年报大幅预增的错杀股和具备估值优势的大蓝筹。\\r\\n\\u3000\\u3000天信投资：尾盘跳水原因揭秘 伏击的品种曝光\\r\\n\\u3000\\u3000周四市场点评：\\r\\n\\u3000\\u3000沪深两市早盘纷纷低开，但是开盘之后权重板块崛起，其中保险和银行表现尤其明显，低矮动股指快速拉升，并顺势突破了60日均线和半年线的束缚；在主板拉升的过程中，市场的分化格局也较明显，题材板块和创业板表现相对较弱。不过虽然市场在早盘的上攻，但是成交量萎缩明教明显，所以这种上涨比较虚。果不其然，午后个股再度纷纷杀跌，同时股指也是顺势回落，沪市的半年线得而复失，形成长长的上影线；而创业板股指在回落的过程中失守5日均线的支撑。整体上周四市场全天保持宽幅震荡走势，尤其是沪市冲高回落。保险、银行、中字头、举牌等品种涨幅居前；钛金属、区块链、雄安新区、民营医院等品种领跌。\\r\\n\\u3000\\u3000今日市场预测：\\r\\n\\u3000\\u3000在周三收市的评论中，我们指出周四市场会出现阶段性的普涨行情，而周四早盘三大股指齐齐上涨，即使创业板股指涨幅较小，但是市场确实也给我们呈现的普涨格局。但是午后的跳水，包括创业板股指先下跌，随后沪指尾盘的快速下杀，使得市场从普涨瞬间到普跌，市场的大起大落来的非常刺激。从三大股指周四呈现给大家的K线组合来看，预计今日市场齐跌的概率较大，不过创业板合格题材板块或具备一定的抗跌性。\\r\\n\\u3000\\u3000短期行情判断：\\r\\n\\u3000\\u3000从大的环境上来看，市场目前本身不具备大面积和大空间的反弹基础，因为目前无论是从宏观面、货币基本面或者从国际经济和政治的角度来看，都不具备这样的条件，所以反应到市场中来，只能是结构性、局部性的投机性机会。而最近半个月以来，市场的走势也确实符合局部性、结构性投机的走势。\\r\\n\\u3000\\u3000周四市场沪指形成带长长上影线的倒锤阴线；创业板股指形成的是跌破5日和10日均线的中阴线，这种类型的K线形态，几乎都是市场开始调整的先兆，所以短期市场而言，悲观的情绪或升温。\\r\\n\\u3000\\u3000后市投资建议：\\r\\n\\u3000\\u3000短期建议投资者一定要控制好自身的仓位。中期继续看好题材板块的崛起，特别是次新股、高送转、重组股等等可以不断的去伏击，依旧具备超跌反弹的性质。\\r\\n'"
      ]
     },
     "execution_count": 33,
     "metadata": {},
     "output_type": "execute_result"
    }
   ],
   "source": [
    "content['content'][11]"
   ]
  },
  {
   "cell_type": "code",
   "execution_count": 34,
   "metadata": {},
   "outputs": [
    {
     "data": {
      "text/plain": [
       "6"
      ]
     },
     "execution_count": 34,
     "metadata": {},
     "output_type": "execute_result"
    }
   ],
   "source": [
    "tf('银行', news_content[11])"
   ]
  },
  {
   "cell_type": "code",
   "execution_count": 35,
   "metadata": {},
   "outputs": [
    {
     "data": {
      "text/plain": [
       "6"
      ]
     },
     "execution_count": 35,
     "metadata": {},
     "output_type": "execute_result"
    }
   ],
   "source": [
    "tf('创业板', news_content[11])"
   ]
  },
  {
   "cell_type": "code",
   "execution_count": 40,
   "metadata": {},
   "outputs": [
    {
     "data": {
      "text/plain": [
       "3"
      ]
     },
     "execution_count": 40,
     "metadata": {},
     "output_type": "execute_result"
    }
   ],
   "source": [
    "tf('短期', news_content[11])"
   ]
  },
  {
   "cell_type": "code",
   "execution_count": 36,
   "metadata": {},
   "outputs": [
    {
     "data": {
      "text/plain": [
       "2.506757120518876"
      ]
     },
     "execution_count": 36,
     "metadata": {},
     "output_type": "execute_result"
    }
   ],
   "source": [
    "idf('创业板')"
   ]
  },
  {
   "cell_type": "code",
   "execution_count": 37,
   "metadata": {},
   "outputs": [
    {
     "data": {
      "text/plain": [
       "1.4550169427748936"
      ]
     },
     "execution_count": 37,
     "metadata": {},
     "output_type": "execute_result"
    }
   ],
   "source": [
    "idf('银行')"
   ]
  },
  {
   "cell_type": "code",
   "execution_count": 38,
   "metadata": {},
   "outputs": [
    {
     "data": {
      "text/plain": [
       "1.9923664854640575"
      ]
     },
     "execution_count": 38,
     "metadata": {},
     "output_type": "execute_result"
    }
   ],
   "source": [
    "idf('短期')"
   ]
  },
  {
   "cell_type": "code",
   "execution_count": 42,
   "metadata": {},
   "outputs": [],
   "source": [
    "def get_keywords_of_a_ducment(document):\n",
    "    words = set(document.split())\n",
    "    \n",
    "    tfidf = [\n",
    "        (w, tf(w, document) * idf(w)) for w in words\n",
    "    ]\n",
    "    \n",
    "    tfidf = sorted(tfidf, key=lambda x: x[1], reverse=True)\n",
    "    \n",
    "    return tfidf"
   ]
  },
  {
   "cell_type": "code",
   "execution_count": 45,
   "metadata": {},
   "outputs": [
    {
     "data": {
      "application/json": {
       "cell": {
        "!": "OSMagics",
        "HTML": "Other",
        "SVG": "Other",
        "bash": "Other",
        "capture": "ExecutionMagics",
        "cmd": "Other",
        "debug": "ExecutionMagics",
        "file": "Other",
        "html": "DisplayMagics",
        "javascript": "DisplayMagics",
        "js": "DisplayMagics",
        "latex": "DisplayMagics",
        "markdown": "DisplayMagics",
        "perl": "Other",
        "prun": "ExecutionMagics",
        "pypy": "Other",
        "python": "Other",
        "python2": "Other",
        "python3": "Other",
        "ruby": "Other",
        "script": "ScriptMagics",
        "sh": "Other",
        "svg": "DisplayMagics",
        "sx": "OSMagics",
        "system": "OSMagics",
        "time": "ExecutionMagics",
        "timeit": "ExecutionMagics",
        "writefile": "OSMagics"
       },
       "line": {
        "alias": "OSMagics",
        "alias_magic": "BasicMagics",
        "autoawait": "AsyncMagics",
        "autocall": "AutoMagics",
        "automagic": "AutoMagics",
        "autosave": "KernelMagics",
        "bookmark": "OSMagics",
        "cd": "OSMagics",
        "clear": "KernelMagics",
        "cls": "KernelMagics",
        "colors": "BasicMagics",
        "conda": "PackagingMagics",
        "config": "ConfigMagics",
        "connect_info": "KernelMagics",
        "copy": "Other",
        "ddir": "Other",
        "debug": "ExecutionMagics",
        "dhist": "OSMagics",
        "dirs": "OSMagics",
        "doctest_mode": "BasicMagics",
        "echo": "Other",
        "ed": "Other",
        "edit": "KernelMagics",
        "env": "OSMagics",
        "gui": "BasicMagics",
        "hist": "Other",
        "history": "HistoryMagics",
        "killbgscripts": "ScriptMagics",
        "ldir": "Other",
        "less": "KernelMagics",
        "load": "CodeMagics",
        "load_ext": "ExtensionMagics",
        "loadpy": "CodeMagics",
        "logoff": "LoggingMagics",
        "logon": "LoggingMagics",
        "logstart": "LoggingMagics",
        "logstate": "LoggingMagics",
        "logstop": "LoggingMagics",
        "ls": "Other",
        "lsmagic": "BasicMagics",
        "macro": "ExecutionMagics",
        "magic": "BasicMagics",
        "matplotlib": "PylabMagics",
        "mkdir": "Other",
        "more": "KernelMagics",
        "notebook": "BasicMagics",
        "page": "BasicMagics",
        "pastebin": "CodeMagics",
        "pdb": "ExecutionMagics",
        "pdef": "NamespaceMagics",
        "pdoc": "NamespaceMagics",
        "pfile": "NamespaceMagics",
        "pinfo": "NamespaceMagics",
        "pinfo2": "NamespaceMagics",
        "pip": "PackagingMagics",
        "popd": "OSMagics",
        "pprint": "BasicMagics",
        "precision": "BasicMagics",
        "prun": "ExecutionMagics",
        "psearch": "NamespaceMagics",
        "psource": "NamespaceMagics",
        "pushd": "OSMagics",
        "pwd": "OSMagics",
        "pycat": "OSMagics",
        "pylab": "PylabMagics",
        "qtconsole": "KernelMagics",
        "quickref": "BasicMagics",
        "recall": "HistoryMagics",
        "rehashx": "OSMagics",
        "reload_ext": "ExtensionMagics",
        "ren": "Other",
        "rep": "Other",
        "rerun": "HistoryMagics",
        "reset": "NamespaceMagics",
        "reset_selective": "NamespaceMagics",
        "rmdir": "Other",
        "run": "ExecutionMagics",
        "save": "CodeMagics",
        "sc": "OSMagics",
        "set_env": "OSMagics",
        "store": "StoreMagics",
        "sx": "OSMagics",
        "system": "OSMagics",
        "tb": "ExecutionMagics",
        "time": "ExecutionMagics",
        "timeit": "ExecutionMagics",
        "unalias": "OSMagics",
        "unload_ext": "ExtensionMagics",
        "who": "NamespaceMagics",
        "who_ls": "NamespaceMagics",
        "whos": "NamespaceMagics",
        "xdel": "NamespaceMagics",
        "xmode": "BasicMagics"
       }
      },
      "text/plain": [
       "Available line magics:\n",
       "%alias  %alias_magic  %autoawait  %autocall  %automagic  %autosave  %bookmark  %cd  %clear  %cls  %colors  %conda  %config  %connect_info  %copy  %ddir  %debug  %dhist  %dirs  %doctest_mode  %echo  %ed  %edit  %env  %gui  %hist  %history  %killbgscripts  %ldir  %less  %load  %load_ext  %loadpy  %logoff  %logon  %logstart  %logstate  %logstop  %ls  %lsmagic  %macro  %magic  %matplotlib  %mkdir  %more  %notebook  %page  %pastebin  %pdb  %pdef  %pdoc  %pfile  %pinfo  %pinfo2  %pip  %popd  %pprint  %precision  %prun  %psearch  %psource  %pushd  %pwd  %pycat  %pylab  %qtconsole  %quickref  %recall  %rehashx  %reload_ext  %ren  %rep  %rerun  %reset  %reset_selective  %rmdir  %run  %save  %sc  %set_env  %store  %sx  %system  %tb  %time  %timeit  %unalias  %unload_ext  %who  %who_ls  %whos  %xdel  %xmode\n",
       "\n",
       "Available cell magics:\n",
       "%%!  %%HTML  %%SVG  %%bash  %%capture  %%cmd  %%debug  %%file  %%html  %%javascript  %%js  %%latex  %%markdown  %%perl  %%prun  %%pypy  %%python  %%python2  %%python3  %%ruby  %%script  %%sh  %%svg  %%sx  %%system  %%time  %%timeit  %%writefile\n",
       "\n",
       "Automagic is ON, % prefix IS NOT needed for line magics."
      ]
     },
     "execution_count": 45,
     "metadata": {},
     "output_type": "execute_result"
    }
   ],
   "source": [
    "%lsmagic"
   ]
  },
  {
   "cell_type": "markdown",
   "metadata": {},
   "source": [
    "https://ipython.readthedocs.io/en/stable/interactive/magics.html"
   ]
  },
  {
   "cell_type": "code",
   "execution_count": 44,
   "metadata": {},
   "outputs": [
    {
     "name": "stdout",
     "output_type": "stream",
     "text": [
      " "
     ]
    }
   ],
   "source": [
    "%prun get_keywords_of_a_ducment(news_content[0])"
   ]
  },
  {
   "cell_type": "code",
   "execution_count": 56,
   "metadata": {},
   "outputs": [],
   "source": [
    "machine_new_keywords = get_keywords_of_a_ducment(news_content[0])"
   ]
  },
  {
   "cell_type": "code",
   "execution_count": 50,
   "metadata": {
    "collapsed": true
   },
   "outputs": [
    {
     "data": {
      "text/plain": [
       "[('机械', 19.73268423154147),\n",
       " ('工业', 13.726799287798574),\n",
       " ('百强', 12.218936930008129),\n",
       " ('机械行业', 11.732905915902746),\n",
       " ('王瑞祥', 9.904722647584947),\n",
       " ('中机联', 9.904722647584947),\n",
       " ('增速', 8.057368905265053),\n",
       " ('态势', 7.971371787277902),\n",
       " ('恢复性', 6.867694767829172),\n",
       " ('规模', 6.861746056315247),\n",
       " ('回落', 6.643121992377128),\n",
       " ('增长', 6.604587773896507),\n",
       " ('企业', 6.260042817487905),\n",
       " ('陈斌', 5.9311791790524575),\n",
       " ('呈现', 5.279381611367784),\n",
       " ('原材料', 5.215938100214726),\n",
       " ('16992', 4.9523613237924735),\n",
       " ('但远', 4.9523613237924735),\n",
       " ('刘瑾', 4.651331328128492),\n",
       " ('三十', 4.6438668975349),\n",
       " ('入围', 4.629743188559925),\n",
       " ('钢铁', 4.588699854270723),\n",
       " ('回升', 4.553165964236777),\n",
       " ('联合会', 4.4415451172114695),\n",
       " ('行业', 4.256149034981132),\n",
       " ('后移', 4.253391319456455),\n",
       " ('前十强', 4.253391319456455),\n",
       " ('发展', 4.24347205022841),\n",
       " ('亿元', 4.194707226838383),\n",
       " ('机械类', 4.17421007340883),\n",
       " ('相当规模', 4.17421007340883),\n",
       " ('更新改造', 4.17421007340883),\n",
       " ('年降', 4.107263283778217),\n",
       " ('徐工', 3.9981188143531488),\n",
       " ('工程', 3.9916862993694178),\n",
       " ('出现', 3.7560113879094406),\n",
       " ('中联重科', 3.748241341136549),\n",
       " ('仍', 3.665948565614492),\n",
       " ('较大', 3.65832649752095),\n",
       " ('中国汽车工业协会', 3.6513313281284923),\n",
       " ('变强', 3.6099386429702673),\n",
       " ('总体', 3.591018845444925),\n",
       " ('保持高速', 3.5373879758216558),\n",
       " ('换位', 3.5052032924502545),\n",
       " ('比如', 3.4905315667465113),\n",
       " ('逐月', 3.4752400690728114),\n",
       " ('由大', 3.4752400690728114),\n",
       " ('表示', 3.4536423582977496),\n",
       " ('企业名单', 3.4472113454725677),\n",
       " ('均', 3.413941587967606),\n",
       " ('十强', 3.3960588230251862),\n",
       " ('三一', 3.3503013324645115),\n",
       " ('平均', 3.342655913089492),\n",
       " ('整体', 3.322429124121176),\n",
       " ('调整期', 3.318892868212887),\n",
       " ('压力', 3.305708050183972),\n",
       " ('经济指标', 3.21199863429823),\n",
       " ('汽车', 3.195737446406074),\n",
       " ('保有量', 3.188933330229536),\n",
       " ('经济网', 3.126286521091647),\n",
       " ('利润总额', 3.071547731511682),\n",
       " ('抢眼', 3.007878651642305),\n",
       " ('任重道远', 3.0029713171475607),\n",
       " ('多年', 2.9986978653420366),\n",
       " ('根本性', 2.9885734964469184),\n",
       " ('排位', 2.970090090752905),\n",
       " ('169', 2.948039950009831),\n",
       " ('中国', 2.917491209470893),\n",
       " ('徘徊', 2.9109686386342486),\n",
       " ('新旧', 2.8954564724560012),\n",
       " ('现役', 2.8916634834388617),\n",
       " ('经济运行', 2.884175462046312),\n",
       " ('需求', 2.8632317045459827),\n",
       " ('好于', 2.8519907786749106),\n",
       " ('固定资产', 2.806233288114236),\n",
       " ('至', 2.784114021467203),\n",
       " ('持续增长', 2.762029625622182),\n",
       " ('了', 2.7530014092101593),\n",
       " ('增加值', 2.7375174757447756),\n",
       " ('达到', 2.7333500906799535),\n",
       " ('出炉', 2.7068486559783236),\n",
       " ('增加', 2.665284116361493),\n",
       " ('产业结构', 2.653508247382767),\n",
       " ('副会长', 2.6448652858792605),\n",
       " ('由于', 2.624157388191586),\n",
       " ('增大', 2.617907572641543),\n",
       " ('低位', 2.5925258414525856),\n",
       " ('动荡', 2.5685459578120424),\n",
       " ('创新', 2.5681372266885054),\n",
       " ('增量', 2.5614262166890946),\n",
       " ('牢固', 2.556161976696737),\n",
       " ('2016', 2.5450574183796917),\n",
       " ('价格指数', 2.5258500624278986),\n",
       " ('产品', 2.5209690024662845),\n",
       " ('2005', 2.513028629962211),\n",
       " ('上年', 2.492968836033243),\n",
       " ('逐年', 2.4914634810359257),\n",
       " ('缓慢', 2.488468334806566),\n",
       " ('两项', 2.46948774018372),\n",
       " ('但', 2.4593444283982095),\n",
       " ('稳中', 2.4445054520966427),\n",
       " ('转换', 2.4312232400884373),\n",
       " ('数据', 2.4284304701608277),\n",
       " ('低迷', 2.4273165167556283),\n",
       " ('业态', 2.4021329707373793),\n",
       " ('近几年', 2.362411722466766),\n",
       " ('化工', 2.3546661378669613),\n",
       " ('下行', 2.3503013324645115),\n",
       " ('日讯', 2.3385195019164042),\n",
       " ('增幅', 2.3364112721360724),\n",
       " ('煤炭', 2.3301473008261784),\n",
       " ('升至', 2.318892868212887),\n",
       " ('震荡', 2.304001312811542),\n",
       " ('动能', 2.2849083709025195),\n",
       " ('明年', 2.2473533644591375),\n",
       " ('走势', 2.221579048126084),\n",
       " ('主要', 2.2196289745949174),\n",
       " ('会长', 2.1670314887817064),\n",
       " ('高达', 2.1627806116280484),\n",
       " ('担忧', 2.1585709391016548),\n",
       " ('市场', 2.1353584391728972),\n",
       " ('没有', 2.1292630530088865),\n",
       " ('两位', 2.112255229335716),\n",
       " ('的', 2.102932231028948),\n",
       " ('积累', 2.0992717939406083),\n",
       " ('产量', 2.0962368795501733),\n",
       " ('电力', 2.092622757595327),\n",
       " ('矛盾', 2.09202331722148),\n",
       " ('结构性', 2.0860739847082788),\n",
       " ('平稳', 2.0647440234567376),\n",
       " ('石油', 2.0647440234567376),\n",
       " ('也', 2.035789095863084),\n",
       " ('同时', 2.0271830020187123),\n",
       " ('难度', 2.022431763707886),\n",
       " ('92', 1.9942754752713885),\n",
       " ('此后', 1.9942754752713885),\n",
       " ('短期', 1.9923664854640575),\n",
       " ('使得', 1.968735036667939),\n",
       " ('名单', 1.9655895895262288),\n",
       " ('2012', 1.9655895895262288),\n",
       " ('低于', 1.949763343072565),\n",
       " ('强烈', 1.9074297776433136),\n",
       " ('深度', 1.9027557111975004),\n",
       " ('说明', 1.8996673818675058),\n",
       " ('排名', 1.8663576181740917),\n",
       " ('高速', 1.8628094409060196),\n",
       " ('装备', 1.833105434514537),\n",
       " ('难以', 1.8062332881142356),\n",
       " ('普遍', 1.8031422111370938),\n",
       " ('指数', 1.7780107263130935),\n",
       " ('上升', 1.7662529439792682),\n",
       " ('最近', 1.7496006363992738),\n",
       " ('主办', 1.744188797125352),\n",
       " ('同样', 1.7333009913436124),\n",
       " ('高', 1.7282840637671162),\n",
       " ('同比', 1.7265353323305803),\n",
       " ('各类', 1.7183505062052942),\n",
       " ('下降', 1.70783681222239),\n",
       " ('大幅', 1.7051247742857096),\n",
       " ('处于', 1.6934846944203423),\n",
       " ('因素', 1.6915746551374973),\n",
       " ('维护', 1.6670290961485892),\n",
       " ('相比', 1.6643357884041108),\n",
       " ('两年', 1.6603268877977373),\n",
       " ('只是', 1.6500303951080744),\n",
       " ('考虑', 1.6489492531957317),\n",
       " ('32', 1.636600833126739),\n",
       " ('等', 1.6323131825512693),\n",
       " ('近期', 1.6282847440529873),\n",
       " ('之前', 1.6169034231030894),\n",
       " ('确定', 1.615101784042198),\n",
       " ('成本', 1.6021133054583108),\n",
       " ('改变', 1.6013384712083498),\n",
       " ('设备', 1.6007582513733447),\n",
       " ('表现', 1.5861252000741806),\n",
       " ('发布会', 1.5825890351955108),\n",
       " ('升级', 1.5788976021601047),\n",
       " ('面临', 1.5593128573756954),\n",
       " ('执行', 1.5315807042439082),\n",
       " ('价格', 1.5182716853745828),\n",
       " ('变化', 1.51556281356067),\n",
       " ('原因', 1.4901131084374761),\n",
       " ('一定', 1.489215187066124),\n",
       " ('长期', 1.4777080704304109),\n",
       " ('还', 1.4730246953620385),\n",
       " ('强', 1.4717574528800272),\n",
       " ('模式', 1.471062050459618),\n",
       " ('日前', 1.4650815073494048),\n",
       " ('什么', 1.4632469544135542),\n",
       " ('保持', 1.4515761508750178),\n",
       " ('公布', 1.4443705989727822),\n",
       " ('不过', 1.4431588014613708),\n",
       " ('健康', 1.436355093406426),\n",
       " ('全部', 1.4222897549550955),\n",
       " ('基本', 1.4194796043850764),\n",
       " ('经过', 1.4090384231455615),\n",
       " ('之后', 1.4028676105774605),\n",
       " ('此外', 1.3910213823335724),\n",
       " ('指出', 1.389711651580557),\n",
       " ('分析', 1.388050413831871),\n",
       " ('还有', 1.375559427963561),\n",
       " ('形成', 1.3654366156476532),\n",
       " ('专家', 1.3543372514582839),\n",
       " ('我国', 1.3365164409177714),\n",
       " ('总', 1.327598250797306),\n",
       " ('去年', 1.2942544882860807),\n",
       " ('产业', 1.2508796881715465),\n",
       " ('投资', 1.2463266630781231),\n",
       " ('信息', 1.2461557819105031),\n",
       " ('略', 1.2382831588106176),\n",
       " ('继续', 1.2350237410686098),\n",
       " ('基础', 1.2270215078827365),\n",
       " ('根据', 1.2232775667488618),\n",
       " ('环境', 1.2142946090150044),\n",
       " ('显示', 1.1870653940944171),\n",
       " ('曾', 1.1781364189235546),\n",
       " ('又', 1.1611620772935982),\n",
       " ('远', 1.157664196900475),\n",
       " ('22', 1.1569679888611843),\n",
       " ('可能', 1.1455032942736563),\n",
       " ('以来', 1.1343995192604797),\n",
       " ('部分', 1.121644374355576),\n",
       " ('23', 1.1108141585359204),\n",
       " ('实现', 1.1061479599130863),\n",
       " ('服务', 1.0882657503682263),\n",
       " ('率', 1.0870204181678897),\n",
       " ('社会', 1.0746445229274968),\n",
       " ('已经', 1.0650253933933065),\n",
       " ('相关', 1.059599089176657),\n",
       " ('较', 1.0157973186572078),\n",
       " ('不', 1.0069391592825077),\n",
       " ('列', 0.9869714535773513),\n",
       " ('这是', 0.9835516098796154),\n",
       " ('成为', 0.9830852283035417),\n",
       " ('重要', 0.9685096048010019),\n",
       " ('15', 0.9544509564457302),\n",
       " ('该', 0.9133043057590299),\n",
       " ('未', 0.8997827987478156),\n",
       " ('比', 0.8420969845527588),\n",
       " ('是', 0.8138857280827148),\n",
       " ('10', 0.7960848277894573),\n",
       " ('6', 0.7622602583437212),\n",
       " ('由', 0.7609103093275782),\n",
       " ('向', 0.7486215151586154),\n",
       " ('好', 0.7288653828300791),\n",
       " ('点', 0.7228074598113371),\n",
       " ('他', 0.7074907017272314),\n",
       " ('上', 0.7073166822180775),\n",
       " ('及', 0.6828250310365068),\n",
       " ('已', 0.6788276436411759),\n",
       " ('其', 0.6604599233270064),\n",
       " ('之', 0.5990414795497642),\n",
       " ('8', 0.5787505954795428),\n",
       " ('4', 0.5700969769950187),\n",
       " ('5', 0.5511525867465363),\n",
       " ('到', 0.5374380896146497),\n",
       " ('个', 0.5035468301229501),\n",
       " ('这', 0.5000074536188772),\n",
       " ('对', 0.49485789721916834),\n",
       " ('前', 0.4735784562858743),\n",
       " ('有', 0.44307813505580745),\n",
       " ('为', 0.38692675348471445),\n",
       " ('和', 0.3810835072902879),\n",
       " ('年', 0.3785594723181429),\n",
       " ('1', 0.3482445783310308),\n",
       " ('记者', 0.30906660129308033),\n",
       " ('在', 0.2748809271090362),\n",
       " ('一', 0.23694300119741732),\n",
       " ('2017', 0.2022542388651758),\n",
       " ('月', 0.17435784429986328),\n",
       " ('中', 0.17187119251677352),\n",
       " ('7', 0.15297252207708978),\n",
       " ('0', 0.12495973836320823),\n",
       " ('2', 0.12008239257713019),\n",
       " ('新', 0.031997949117575065)]"
      ]
     },
     "execution_count": 50,
     "metadata": {},
     "output_type": "execute_result"
    }
   ],
   "source": [
    "get_keywords_of_a_ducment(news_content[101])"
   ]
  },
  {
   "cell_type": "markdown",
   "metadata": {},
   "source": [
    "## Wordcloud"
   ]
  },
  {
   "cell_type": "code",
   "execution_count": 54,
   "metadata": {},
   "outputs": [],
   "source": [
    "wc = wordcloud.WordCloud(r'D:\\Github\\Data\\SourceHanSerifSC-Regular.otf')\n",
    "# we could download the font from https://github.com/Computing-Intelligence/datasource"
   ]
  },
  {
   "cell_type": "code",
   "execution_count": 55,
   "metadata": {},
   "outputs": [
    {
     "name": "stdout",
     "output_type": "stream",
     "text": [
      "Help on method generate_from_frequencies in module wordcloud.wordcloud:\n",
      "\n",
      "generate_from_frequencies(frequencies, max_font_size=None) method of wordcloud.wordcloud.WordCloud instance\n",
      "    Create a word_cloud from words and frequencies.\n",
      "    \n",
      "    Parameters\n",
      "    ----------\n",
      "    frequencies : dict from string to float\n",
      "        A contains words and associated frequency.\n",
      "    \n",
      "    max_font_size : int\n",
      "        Use this font-size instead of self.max_font_size\n",
      "    \n",
      "    Returns\n",
      "    -------\n",
      "    self\n",
      "\n"
     ]
    }
   ],
   "source": [
    "help(wc.generate_from_frequencies)"
   ]
  },
  {
   "cell_type": "code",
   "execution_count": 57,
   "metadata": {},
   "outputs": [],
   "source": [
    "machine_new_keywords_dict = {w: score for w, score in machine_new_keywords}"
   ]
  },
  {
   "cell_type": "code",
   "execution_count": 58,
   "metadata": {},
   "outputs": [
    {
     "data": {
      "text/plain": [
       "<matplotlib.image.AxesImage at 0x2091434a630>"
      ]
     },
     "execution_count": 58,
     "metadata": {},
     "output_type": "execute_result"
    },
    {
     "data": {
      "image/png": "[encoded data removed]",
      "text/plain": [
       "<Figure size 432x288 with 1 Axes>"
      ]
     },
     "metadata": {
      "needs_background": "light"
     },
     "output_type": "display_data"
    }
   ],
   "source": [
    "plt.imshow(wc.generate_from_frequencies(machine_new_keywords_dict))"
   ]
  },
  {
   "cell_type": "code",
   "execution_count": 59,
   "metadata": {},
   "outputs": [],
   "source": [
    "shenzhen_social_news = get_keywords_of_a_ducment(news_content[4])"
   ]
  },
  {
   "cell_type": "code",
   "execution_count": 60,
   "metadata": {
    "collapsed": true
   },
   "outputs": [
    {
     "data": {
      "text/plain": [
       "[('刘青', 67.12860103609216),\n",
       " ('女子', 49.805410612821845),\n",
       " ('南坪', 23.465811831805492),\n",
       " ('交警', 15.805787932978273),\n",
       " ('坂田', 13.953993984385477),\n",
       " ('黄衣', 13.050903997393533),\n",
       " ('巡防', 11.328810194210376),\n",
       " ('了', 11.012005636840637),\n",
       " ('轻生', 10.382998889874603),\n",
       " ('护栏', 9.32178985133465),\n",
       " ('裸身', 9.302662656256985),\n",
       " ('坂雪岗', 9.302662656256985),\n",
       " ('她', 9.285022817533253),\n",
       " ('约会', 9.267115391016052),\n",
       " ('深圳', 9.139285494790956),\n",
       " ('发现', 8.685059498920872),\n",
       " ('蜀黍', 8.214526567556433),\n",
       " ('网友', 8.126865289542744),\n",
       " ('突然', 8.047379355439626),\n",
       " ('内裤', 7.746360155489698),\n",
       " ('十多分钟', 7.746360155489698),\n",
       " ('着', 7.69376356788892),\n",
       " ('铁骑', 7.496482682273098),\n",
       " ('大概', 7.478906508099729),\n",
       " ('缓慢', 7.465405004419699),\n",
       " ('龙岗', 7.181266975549762),\n",
       " ('快速路', 7.108842630240872),\n",
       " ('大道', 6.863158044709045),\n",
       " ('环城', 6.816586558884396),\n",
       " ('辅警', 6.7921176460503725),\n",
       " ('往前走', 6.722593433531949),\n",
       " ('走', 6.658635364608071),\n",
       " ('视频', 6.65823837544899),\n",
       " ('市民', 6.50820380832565),\n",
       " ('精神病', 6.4895822953890745),\n",
       " ('主干道', 6.456170908383369),\n",
       " ('快速', 6.427950372933541),\n",
       " ('南路', 6.319939268588439),\n",
       " ('陈某', 6.319939268588439),\n",
       " ('情绪', 6.318072634988005),\n",
       " ('接到', 6.212930001065702),\n",
       " ('十字路口', 6.19005765472241),\n",
       " ('车流', 6.178076927344035),\n",
       " ('继续', 6.175118705343049),\n",
       " ('言语', 6.1662592081229946),\n",
       " ('劝说', 6.045884796156362),\n",
       " ('围观', 5.724912424706151),\n",
       " ('中队', 5.676835942971274),\n",
       " ('你', 5.665232674533076),\n",
       " ('停下', 5.6570193656507755),\n",
       " ('要是', 5.4856926184996855),\n",
       " ('还原', 5.475034951489551),\n",
       " ('遭遇', 5.428977234164574),\n",
       " ('这样', 5.38177119137673),\n",
       " ('观望', 5.281214925473439),\n",
       " ('不清', 5.170010805532909),\n",
       " ('接受', 5.151253446183707),\n",
       " ('侵害', 5.122852433378189),\n",
       " ('迷奸', 4.9523613237924735),\n",
       " ('镜头', 4.899868407616082),\n",
       " ('方向', 4.889185836300751),\n",
       " ('衣服', 4.826570449999394),\n",
       " ('也', 4.750174557013863),\n",
       " ('岁', 4.744091394164745),\n",
       " ('早上', 4.7270591963965325),\n",
       " ('此时', 4.696270541416007),\n",
       " ('姑娘', 4.662370084034877),\n",
       " ('男点', 4.651331328128492),\n",
       " ('李赫海', 4.651331328128492),\n",
       " ('一辅警', 4.651331328128492),\n",
       " ('中華云盾', 4.651331328128492),\n",
       " ('刘青递', 4.651331328128492),\n",
       " ('女票', 4.651331328128492),\n",
       " ('刘青停', 4.651331328128492),\n",
       " ('萨摩耶', 4.651331328128492),\n",
       " ('弓常', 4.651331328128492),\n",
       " ('浪荡', 4.651331328128492),\n",
       " ('涟水县', 4.651331328128492),\n",
       " ('披着', 4.651331328128492),\n",
       " ('ZAN', 4.651331328128492),\n",
       " ('劝止', 4.651331328128492),\n",
       " ('申出', 4.651331328128492),\n",
       " ('地逆', 4.651331328128492),\n",
       " ('火心', 4.651331328128492),\n",
       " ('Tomchlee', 4.651331328128492),\n",
       " ('SJ', 4.475240069072811),\n",
       " ('需时', 4.475240069072811),\n",
       " ('瞬间', 4.449640133527835),\n",
       " ('时', 4.428765345685334),\n",
       " ('一边', 4.413012257237489),\n",
       " ('四十分钟', 4.350301332464511),\n",
       " ('一丝不挂', 4.350301332464511),\n",
       " ('下起', 4.350301332464511),\n",
       " ('往下跳', 4.350301332464511),\n",
       " ('到底', 4.269591908465386),\n",
       " ('已经', 4.260101573573226),\n",
       " ('木有', 4.253391319456455),\n",
       " ('辅道', 4.253391319456455),\n",
       " ('睁不开', 4.253391319456455),\n",
       " ('并', 4.111278428408116),\n",
       " ('手要', 4.107263283778217),\n",
       " ('但', 4.098907380663682),\n",
       " ('大清早', 4.04927133680053),\n",
       " ('地往', 4.04927133680053),\n",
       " ('险象环生', 4.04927133680053),\n",
       " ('跳下去', 4.04927133680053),\n",
       " ('被', 4.033649542510729),\n",
       " ('路上', 4.002047609993112),\n",
       " ('拉住', 3.9981188143531488),\n",
       " ('排水沟', 3.9523613237924735),\n",
       " ('雨大', 3.9523613237924735),\n",
       " ('没', 3.9396278224389314),\n",
       " ('很', 3.931408900783627),\n",
       " ('我', 3.920203291368041),\n",
       " ('不羁', 3.9109686386342486),\n",
       " ('真爱', 3.9109686386342486),\n",
       " ('递过来', 3.9109686386342486),\n",
       " ('的', 3.890424627403554),\n",
       " ('微博称', 3.873180077744849),\n",
       " ('44', 3.8706559689873865),\n",
       " ('呢', 3.8573948111893603),\n",
       " ('其有', 3.838417971485637),\n",
       " ('刑警大队', 3.838417971485637),\n",
       " ('愿意', 3.804736933744662),\n",
       " ('警察', 3.800874815492734),\n",
       " ('女方', 3.776270064736792),\n",
       " ('值勤', 3.776270064736792),\n",
       " ('出现', 3.7560113879094406),\n",
       " ('过不去', 3.748241341136549),\n",
       " ('穿衣服', 3.7219124024142),\n",
       " ('开导', 3.7219124024142),\n",
       " ('yan', 3.7219124024142),\n",
       " ('别扭', 3.6970888186891675),\n",
       " ('沿路', 3.6970888186891675),\n",
       " ('赶忙', 3.6970888186891675),\n",
       " ('就', 3.6878522085808467),\n",
       " ('走时', 3.6736077228396447),\n",
       " ('纷纷', 3.6382837341199585),\n",
       " ('冲上去', 3.6301420290585544),\n",
       " ('办法', 3.611846377013398),\n",
       " ('逆行', 3.6099386429702673),\n",
       " ('略带', 3.5721500820808676),\n",
       " ('挣脱', 3.5721500820808676),\n",
       " ('暖', 3.567727680538882),\n",
       " ('碍于', 3.554421315120436),\n",
       " ('原谅', 3.5373879758216558),\n",
       " ('不', 3.5242870574887766),\n",
       " ('警情', 3.4752400690728114),\n",
       " ('尾随', 3.4752400690728114),\n",
       " ('赤裸', 3.4752400690728114),\n",
       " ('帅气', 3.4472113454725677),\n",
       " ('依然', 3.441273880927914),\n",
       " ('418', 3.4208824067502186),\n",
       " ('排起', 3.4208824067502186),\n",
       " ('低落', 3.408293279442198),\n",
       " ('警方', 3.4082855252047977),\n",
       " ('都', 3.4079467568281907),\n",
       " ('电话', 3.3864909592148145),\n",
       " ('驱赶', 3.3503013324645115),\n",
       " ('一众', 3.3503013324645115),\n",
       " ('放慢', 3.3503013324645115),\n",
       " ('小', 3.3501691227697368),\n",
       " ('南平', 3.339577467072738),\n",
       " ('早点', 3.339577467072738),\n",
       " ('援手', 3.329112033394573),\n",
       " ('淡定', 3.29914881001713),\n",
       " ('上身', 3.2711200864168863),\n",
       " ('腼腆', 3.2533913194564548),\n",
       " ('再次出现', 3.2363579801576745),\n",
       " ('意想不到', 3.2280854541916844),\n",
       " ('桦', 3.2041732967862733),\n",
       " ('受挫', 3.196486468119982),\n",
       " ('淮安市', 3.188933330229536),\n",
       " ('从', 3.1671096611590173),\n",
       " ('披上', 3.1461813498085864),\n",
       " ('一位', 3.106760514268685),\n",
       " ('奔走', 3.095028827361205),\n",
       " ('挡住', 3.0890384636720176),\n",
       " ('善良', 3.060266721101993),\n",
       " ('想想', 3.054734232502032),\n",
       " ('小心翼翼', 3.04927133680053),\n",
       " ('长队', 3.028082037730592),\n",
       " ('大暴雨', 3.0128420711738553),\n",
       " ('微博上', 3.0128420711738553),\n",
       " ('裸露', 3.0029713171475607),\n",
       " ('外表', 3.0029713171475607),\n",
       " ('附近', 3.0014567526709657),\n",
       " ('一路上', 2.9885734964469184),\n",
       " ('冲向', 2.9885734964469184),\n",
       " ('念头', 2.9838783752385383),\n",
       " ('还', 2.946049390724077),\n",
       " ('骑着', 2.9353279844936933),\n",
       " ('群众', 2.9332797946217872),\n",
       " ('嘛', 2.9270554585277035),\n",
       " ('什么', 2.9264939088271085),\n",
       " ('奇怪', 2.899282880309054),\n",
       " ('上前', 2.8695759534760237),\n",
       " ('安慰', 2.812482237391237),\n",
       " ('年头', 2.812482237391237),\n",
       " ('而行', 2.7880084680080364),\n",
       " ('女生', 2.759236725438012),\n",
       " ('高峰期', 2.75646167138324),\n",
       " ('高大', 2.72964485264489),\n",
       " ('赶紧', 2.714315220663678),\n",
       " ('聆听', 2.704388057430667),\n",
       " ('期间', 2.687029002932124),\n",
       " ('驻足', 2.678203474528794),\n",
       " ('全身', 2.6736077228396447),\n",
       " ('有', 2.6584688103348446),\n",
       " ('一辈子', 2.649165266371985),\n",
       " ('哥哥', 2.6470099543458496),\n",
       " ('机动车', 2.6219475504432825),\n",
       " ('老家', 2.619922863876868),\n",
       " ('心灵', 2.617907572641543),\n",
       " ('朝着', 2.6099386429702673),\n",
       " ('现场', 2.605858201101714),\n",
       " ('路边', 2.6001788056811113),\n",
       " ('带到', 2.573963422844336),\n",
       " ('举动', 2.5685459578120424),\n",
       " ('扔', 2.5667550501941614),\n",
       " ('恐怕', 2.5631952394279414),\n",
       " ('行进', 2.557909642966257),\n",
       " ('尴尬', 2.554421315120436),\n",
       " ('大雨', 2.5390615597112216),\n",
       " ('遂', 2.5258500624278986),\n",
       " ('穿着', 2.517792419758275),\n",
       " ('旁边', 2.509881554728025),\n",
       " ('远离', 2.499042983745436),\n",
       " ('躺', 2.4975164637839633),\n",
       " ('声称', 2.4975164637839633),\n",
       " ('货车', 2.492968836033243),\n",
       " ('说话', 2.486978472344055),\n",
       " ('点赞', 2.485493703438364),\n",
       " ('派出所', 2.472354380835323),\n",
       " ('脚步', 2.460999629958201),\n",
       " ('这个', 2.4579755135469785),\n",
       " ('靠近', 2.454050770002873),\n",
       " ('后面', 2.4526742411740696),\n",
       " ('盯', 2.449934203808041),\n",
       " ('沿着', 2.4351654258424995),\n",
       " ('上面', 2.433847383914586),\n",
       " ('什么样', 2.4312232400884373),\n",
       " ('耐心', 2.4208824067502186),\n",
       " ('白色', 2.409535896833294),\n",
       " ('紧紧', 2.409535896833294),\n",
       " ('上班', 2.409535896833294),\n",
       " ('重复', 2.3984782971485994),\n",
       " ('暴雨', 2.3912599401434176),\n",
       " ('上去', 2.387695259540384),\n",
       " ('跟随', 2.3680300994249426),\n",
       " ('不时', 2.3680300994249426),\n",
       " ('送往', 2.362411722466766),\n",
       " ('报警', 2.3612967167659744),\n",
       " ('眼睛', 2.3590752567720163),\n",
       " ('异常', 2.3590752567720163),\n",
       " ('您', 2.3568651019668994),\n",
       " ('正值', 2.3481352707080037),\n",
       " ('清晨', 2.3406380157851316),\n",
       " ('康复', 2.328079227956805),\n",
       " ('事发', 2.307922734324635),\n",
       " ('不敢', 2.298184781914513),\n",
       " ('刺激', 2.2849083709025195),\n",
       " ('一名', 2.2786287172647315),\n",
       " ('情况', 2.273036066258414),\n",
       " ('见到', 2.2648323625778395),\n",
       " ('你们', 2.2630524646688532),\n",
       " ('家属', 2.2603962210251134),\n",
       " ('行走', 2.2595144045152438),\n",
       " ('三天', 2.258634374868827),\n",
       " ('一句', 2.2499307873469485),\n",
       " ('听到', 2.226449691497425),\n",
       " ('往', 2.2235068895663668),\n",
       " ('心里', 2.2231965340997037),\n",
       " ('昨日', 2.2191640586859043),\n",
       " ('自己', 2.214774771291172),\n",
       " ('公安局', 2.198778264899567),\n",
       " ('民警', 2.196486468119982),\n",
       " ('周围', 2.1904334853719445),\n",
       " ('场景', 2.1896827600650375),\n",
       " ('话', 2.179267590948998),\n",
       " ('想', 2.1774822070443163),\n",
       " ('回家', 2.1627806116280484),\n",
       " ('到', 2.1497523584585987),\n",
       " ('监控', 2.1455032942736563),\n",
       " ('大队', 2.133475909198464),\n",
       " ('聚集', 2.1308477953877003),\n",
       " ('没有', 2.1292630530088865),\n",
       " ('上', 2.1219500466542325),\n",
       " ('试图', 2.1004917230627074),\n",
       " ('感谢', 2.095028827361205),\n",
       " ('开始', 2.092052563974766),\n",
       " ('遭到', 2.0825431158131456),\n",
       " ('冒', 2.0744143721632855),\n",
       " ('中间', 2.073839528291267),\n",
       " ('大大', 2.0613817268027845),\n",
       " ('说', 2.049245802061725),\n",
       " ('挺', 2.0369614885802036),\n",
       " ('君', 2.034855814239927),\n",
       " ('身上', 2.0244779134617668),\n",
       " ('尝试', 2.0193805018692754),\n",
       " ('危险', 1.9899919881224526),\n",
       " ('吧', 1.9545382430467482),\n",
       " ('然后', 1.945895281543242),\n",
       " ('年龄', 1.943761152030556),\n",
       " ('一辆', 1.9420613671526616),\n",
       " ('治疗', 1.9258280592691768),\n",
       " ('拒', 1.920145620494492),\n",
       " ('家人', 1.9137411618427709),\n",
       " ('牵', 1.9101797292767073),\n",
       " ('寻找', 1.9089990457713442),\n",
       " ('只', 1.908029572792218),\n",
       " ('一只', 1.9046971291909136),\n",
       " ('事情', 1.9027557111975004),\n",
       " ('紧张', 1.8988987188670183),\n",
       " ('离开', 1.8834337121104017),\n",
       " ('到来', 1.8823234571847185),\n",
       " ('吗', 1.8728183163895675),\n",
       " ('感觉', 1.8702943895073605),\n",
       " ('车辆', 1.8649348667561882),\n",
       " ('限制', 1.864579905982931),\n",
       " ('根本', 1.8575409434376737),\n",
       " ('反映', 1.833435570966697),\n",
       " ('几个', 1.831129868642852),\n",
       " ('该', 1.8266086115180598),\n",
       " ('透露', 1.8255807467804646),\n",
       " ('地', 1.8182999882820219),\n",
       " ('关键词', 1.8165928092246513),\n",
       " ('帅', 1.8003789283349996),\n",
       " ('其实', 1.7994617273987261),\n",
       " ('速度', 1.7868202470701005),\n",
       " ('只能', 1.7820996083975162),\n",
       " ('些', 1.78159152381527),\n",
       " ('那么', 1.7620296256221821),\n",
       " ('去', 1.7578725340929844),\n",
       " ('出口', 1.747969991873174),\n",
       " ('姓', 1.7401737193885158),\n",
       " ('一份', 1.739907362752198),\n",
       " ('下来', 1.7186039608269632),\n",
       " ('另外', 1.6973301604469222),\n",
       " ('湖北', 1.6731508111910784),\n",
       " ('上午', 1.669965819049948),\n",
       " ('青年', 1.659662320748544),\n",
       " ('随后', 1.645721882768212),\n",
       " ('或者', 1.632422883812165),\n",
       " ('医院', 1.6286967881843735),\n",
       " ('面对', 1.6211365427717412),\n",
       " ('当时', 1.6157015003380535),\n",
       " ('大家', 1.603861753508636),\n",
       " ('作出', 1.6034726007210356),\n",
       " ('某', 1.5996001320686428),\n",
       " ('36', 1.5992147775784944),\n",
       " ('后', 1.5830759646797947),\n",
       " ('90', 1.5796333829068783),\n",
       " ('来说', 1.5787138515832557),\n",
       " ('产生', 1.5759668817552075),\n",
       " ('起来', 1.5545950676660236),\n",
       " ('控制', 1.5525146110795511),\n",
       " ('坐', 1.5492408026166558),\n",
       " ('穿', 1.5330666020390131),\n",
       " ('和', 1.5243340291611516),\n",
       " ('但是', 1.5230936573593052),\n",
       " ('标题', 1.5214803773395824),\n",
       " ('i', 1.5036550038873937),\n",
       " ('南', 1.499637037997105),\n",
       " ('导致', 1.4940256978005262),\n",
       " ('跑', 1.4923660677450823),\n",
       " ('原因', 1.4901131084374761),\n",
       " ('跟', 1.481069612733535),\n",
       " ('看到', 1.4469399962091927),\n",
       " ('不少', 1.4308309825137626),\n",
       " ('关于', 1.423958885838856),\n",
       " ('雨', 1.4122822349883009),\n",
       " ('为了', 1.4080451820450464),\n",
       " ('会', 1.399238623728092),\n",
       " ('16', 1.3983375078280595),\n",
       " ('存在', 1.3926940454044159),\n",
       " ('追', 1.3887615949109426),\n",
       " ('事', 1.3790139567525608),\n",
       " ('帮助', 1.3738367185174805),\n",
       " ('男子', 1.3700706410734795),\n",
       " ('员', 1.3697851181993932),\n",
       " ('一起', 1.3670134126978826),\n",
       " ('交流', 1.3570856119903743),\n",
       " ('据', 1.3432473005755838),\n",
       " ('这一', 1.332850602953975),\n",
       " ('令', 1.3271517984105927),\n",
       " ('其', 1.3209198466540129),\n",
       " ('停', 1.3098968035503522),\n",
       " ('去年', 1.2942544882860807),\n",
       " ('就是', 1.2374450757988886),\n",
       " ('不断', 1.235690348232338),\n",
       " ('一路', 1.2244948743249844),\n",
       " ('希望', 1.2148506331189974),\n",
       " ('住', 1.197020139980926),\n",
       " ('正在', 1.1947375778840845),\n",
       " ('手', 1.1873304484373264),\n",
       " ('发生', 1.1824672879803046),\n",
       " ('了解', 1.1690295609050496),\n",
       " ('50', 1.1678866800299572),\n",
       " ('为', 1.1607802604541433),\n",
       " ('要', 1.1560692992858268),\n",
       " ('爱', 1.1554402484623048),\n",
       " ('可能', 1.1455032942736563),\n",
       " ('陈', 1.138313602796874),\n",
       " ('当', 1.1360880308917092),\n",
       " ('那', 1.1350604453991524),\n",
       " ('史', 1.1277149090741216),\n",
       " ('号', 1.1255740849761815),\n",
       " ('拍', 1.1204915495119718),\n",
       " ('25', 1.1140160550164828),\n",
       " ('才', 1.1139530452982869),\n",
       " ('进入', 1.1128832764182752),\n",
       " ('介绍', 1.1120669921810373),\n",
       " ('他们', 1.1044803263470984),\n",
       " ('可以', 1.0866652638764032),\n",
       " ('花', 1.0686998886388561),\n",
       " ('提供', 1.0659270041635354),\n",
       " ('把', 1.059432341437268),\n",
       " ('连', 1.0414169180424948),\n",
       " ('人', 1.0398762897471812),\n",
       " ('将', 1.0305857067286253),\n",
       " ('同时', 1.0135915010093561),\n",
       " ('分', 0.9973828174544938),\n",
       " ('透', 0.99720293686668),\n",
       " ('今年', 0.966216859081953),\n",
       " ('记者', 0.9271998038792411),\n",
       " ('让', 0.9137014294899777),\n",
       " ('目前', 0.8933662302670573),\n",
       " ('问', 0.879670368779605),\n",
       " ('看', 0.8770699049091711),\n",
       " ('原', 0.8745938334104167),\n",
       " ('表示', 0.8634105895744374),\n",
       " ('一个', 0.8556598221824707),\n",
       " ('因', 0.8181204478458837),\n",
       " ('系', 0.7946628445169575),\n",
       " ('带', 0.7763279745284514),\n",
       " ('6', 0.7622602583437212),\n",
       " ('好', 0.7288653828300791),\n",
       " ('拉', 0.7275952497445629),\n",
       " ('进行', 0.7263804392128818),\n",
       " ('起', 0.7202295824958537),\n",
       " ('一', 0.710829003592252),\n",
       " ('他', 0.7074907017272314),\n",
       " ('正', 0.6973060202350319),\n",
       " ('可', 0.6842515939839953),\n",
       " ('最', 0.6400993178091264),\n",
       " ('天', 0.6235944942009486),\n",
       " ('能', 0.6185111786899286),\n",
       " ('里', 0.6039006879729503),\n",
       " ('等', 0.5441043941837564),\n",
       " ('中', 0.5156135775503206),\n",
       " ('个', 0.5035468301229501),\n",
       " ('这', 0.5000074536188772),\n",
       " ('与', 0.49074275983845767),\n",
       " ('多', 0.4809962583744546),\n",
       " ('前', 0.4735784562858743),\n",
       " ('7', 0.45891756623126934),\n",
       " ('来', 0.45742792557574563),\n",
       " ('是', 0.4069428640413574),\n",
       " ('在', 0.32985711253084343),\n",
       " ('大', 0.3132734527087363),\n",
       " ('照片', 0.24212545393891896),\n",
       " ('20', 0.1475474522482),\n",
       " ('月', 0.06974313771994531),\n",
       " ('日', 0.05085505597918966)]"
      ]
     },
     "execution_count": 60,
     "metadata": {},
     "output_type": "execute_result"
    }
   ],
   "source": [
    "shenzhen_social_news"
   ]
  },
  {
   "cell_type": "code",
   "execution_count": 73,
   "metadata": {},
   "outputs": [],
   "source": [
    "wordcloud_with_mask = wordcloud.WordCloud(\n",
    "font_path=r'D:\\Github\\Data\\SourceHanSerifSC-Regular.otf', \n",
    "mask=np.array(Image.open(r'D:\\Github\\Data\\0350050023.jpg'))\n",
    ")"
   ]
  },
  {
   "cell_type": "code",
   "execution_count": 64,
   "metadata": {},
   "outputs": [
    {
     "data": {
      "text/plain": [
       "<matplotlib.image.AxesImage at 0x20914496828>"
      ]
     },
     "execution_count": 64,
     "metadata": {},
     "output_type": "execute_result"
    },
    {
     "data": {
      "image/png": "[encoded data removed]",
      "text/plain": [
       "<Figure size 432x288 with 1 Axes>"
      ]
     },
     "metadata": {
      "needs_background": "light"
     },
     "output_type": "display_data"
    }
   ],
   "source": [
    "plt.imshow(wc.generate_from_frequencies({w:s for w, s in shenzhen_social_news[:20]}))"
   ]
  },
  {
   "cell_type": "code",
   "execution_count": 74,
   "metadata": {},
   "outputs": [
    {
     "data": {
      "text/plain": [
       "<matplotlib.image.AxesImage at 0x209149b5e10>"
      ]
     },
     "execution_count": 74,
     "metadata": {},
     "output_type": "execute_result"
    },
    {
     "data": {
      "image/png": "[encoded data removed]",
      "text/plain": [
       "<Figure size 432x288 with 1 Axes>"
      ]
     },
     "metadata": {
      "needs_background": "light"
     },
     "output_type": "display_data"
    }
   ],
   "source": [
    "plt.imshow(wordcloud_with_mask.generate_from_frequencies({w:s for w, s in shenzhen_social_news[:20]}))"
   ]
  },
  {
   "cell_type": "markdown",
   "metadata": {},
   "source": [
    "## TFIDF Vectorizezd"
   ]
  },
  {
   "cell_type": "code",
   "execution_count": 75,
   "metadata": {},
   "outputs": [],
   "source": [
    "from sklearn.feature_extraction.text import TfidfVectorizer"
   ]
  },
  {
   "cell_type": "code",
   "execution_count": 76,
   "metadata": {},
   "outputs": [],
   "source": [
    "vectorized = TfidfVectorizer(max_features=10000)"
   ]
  },
  {
   "cell_type": "code",
   "execution_count": 77,
   "metadata": {},
   "outputs": [],
   "source": [
    "sample_num = 50000\n",
    "sub_samples = news_content[:sample_num]"
   ]
  },
  {
   "cell_type": "code",
   "execution_count": 78,
   "metadata": {},
   "outputs": [],
   "source": [
    "X = vectorized.fit_transform(sub_samples)"
   ]
  },
  {
   "cell_type": "code",
   "execution_count": 79,
   "metadata": {},
   "outputs": [
    {
     "data": {
      "text/plain": [
       "(50000, 10000)"
      ]
     },
     "execution_count": 79,
     "metadata": {},
     "output_type": "execute_result"
    }
   ],
   "source": [
    "X.shape"
   ]
  },
  {
   "cell_type": "code",
   "execution_count": 80,
   "metadata": {
    "collapsed": true
   },
   "outputs": [
    {
     "data": {
      "text/plain": [
       "{'此外': 6195,\n",
       " '本周': 5892,\n",
       " '12': 35,\n",
       " '小米': 3974,\n",
       " '手机': 4878,\n",
       " '15': 46,\n",
       " '其余': 1844,\n",
       " '暂停': 5738,\n",
       " '更新': 5760,\n",
       " '发布': 2635,\n",
       " '开发': 4405,\n",
       " '影响': 4525,\n",
       " '确保': 7338,\n",
       " '工程师': 4132,\n",
       " '可以': 2734,\n",
       " '集中': 9631,\n",
       " '全部': 1743,\n",
       " '精力': 7662,\n",
       " '进行': 9141,\n",
       " '工作': 4113,\n",
       " '有人': 5808,\n",
       " '猜测': 6880,\n",
       " '主要': 912,\n",
       " '研发': 7319,\n",
       " '之中': 933,\n",
       " '去年': 2558,\n",
       " '一年': 302,\n",
       " '时候': 5628,\n",
       " '当然': 4505,\n",
       " '关于': 1819,\n",
       " '信息': 1546,\n",
       " '我们': 4802,\n",
       " '还是': 9082,\n",
       " '等待': 7607,\n",
       " '作为': 1440,\n",
       " '唯一': 2966,\n",
       " '通过': 9249,\n",
       " '10': 12,\n",
       " '平台': 4255,\n",
       " '认证': 8554,\n",
       " '处理器': 3331,\n",
       " '强调': 4481,\n",
       " '不会': 551,\n",
       " '因为': 3045,\n",
       " '考虑': 7980,\n",
       " '性能': 4642,\n",
       " '核心': 6069,\n",
       " '相反': 7212,\n",
       " '他们': 1242,\n",
       " '联手': 8020,\n",
       " '微软': 4579,\n",
       " '找到': 4949,\n",
       " '一种': 344,\n",
       " '适合': 9193,\n",
       " '兼顾': 1864,\n",
       " '完美': 3783,\n",
       " '方案': 5537,\n",
       " '报道': 5026,\n",
       " '已经': 4156,\n",
       " '拿到': 5092,\n",
       " '一些': 253,\n",
       " '以便': 1259,\n",
       " '更好': 5757,\n",
       " '理解': 6966,\n",
       " '架构': 6022,\n",
       " '资料': 8791,\n",
       " '显示': 5703,\n",
       " '一款': 332,\n",
       " '集成': 9638,\n",
       " '传统': 1355,\n",
       " '节省': 8201,\n",
       " '至少': 8132,\n",
       " '30': 103,\n",
       " '空间': 7498,\n",
       " '按计划': 5124,\n",
       " '今年': 1217,\n",
       " '联想': 8019,\n",
       " '首发': 9825,\n",
       " '电脑': 7067,\n",
       " '预计': 9745,\n",
       " '形态': 4513,\n",
       " '产品': 1135,\n",
       " '只是': 2728,\n",
       " '开始': 4412,\n",
       " '未来': 5886,\n",
       " '也许': 982,\n",
       " '见到': 8475,\n",
       " '三星': 443,\n",
       " '华为': 2417,\n",
       " '澎湃': 6699,\n",
       " '进入': 9123,\n",
       " '此前': 6193,\n",
       " '搭载': 5252,\n",
       " '电池': 7063,\n",
       " '规格': 8495,\n",
       " '至于': 8129,\n",
       " '可能': 2741,\n",
       " '所说': 4870,\n",
       " '设定': 8585,\n",
       " '有关': 5810,\n",
       " '按照': 5122,\n",
       " '目前': 7188,\n",
       " '掌握': 5160,\n",
       " '拥有': 5083,\n",
       " '摄像头': 5256,\n",
       " '惊喜': 4717,\n",
       " '根据': 6078,\n",
       " '京东': 1144,\n",
       " '泄露': 6406,\n",
       " '售价': 2964,\n",
       " '应该': 4344,\n",
       " '某个': 6025,\n",
       " '这是': 9105,\n",
       " '18': 53,\n",
       " '葡萄牙': 8322,\n",
       " '中部': 858,\n",
       " '地区': 3168,\n",
       " '拍摄': 5064,\n",
       " '森林': 6119,\n",
       " '大火': 3485,\n",
       " '汽车': 6355,\n",
       " '新华社': 5489,\n",
       " '记者': 8569,\n",
       " '标题': 6055,\n",
       " '44': 125,\n",
       " '女子': 3625,\n",
       " '深圳': 6576,\n",
       " '网友': 7888,\n",
       " '暴雨': 5748,\n",
       " '交警': 1120,\n",
       " '昨日': 5694,\n",
       " '清晨': 6604,\n",
       " '发现': 2647,\n",
       " '行走': 8392,\n",
       " '快速': 4622,\n",
       " '期间': 5881,\n",
       " '赶紧': 8852,\n",
       " '一路': 365,\n",
       " '那么': 9299,\n",
       " '事发': 1024,\n",
       " '到底': 2154,\n",
       " '发生': 2649,\n",
       " '什么': 1208,\n",
       " '一起': 364,\n",
       " '还原': 9081,\n",
       " '现场': 6927,\n",
       " '大队': 3517,\n",
       " '中队': 863,\n",
       " '女生': 3631,\n",
       " '一位': 259,\n",
       " '高大': 9919,\n",
       " '说话': 8668,\n",
       " '90': 184,\n",
       " '青年': 9672,\n",
       " '介绍': 1224,\n",
       " '16': 49,\n",
       " '早上': 5617,\n",
       " '36': 113,\n",
       " '正在': 6180,\n",
       " '附近': 9550,\n",
       " '接到': 5177,\n",
       " '机动车': 5928,\n",
       " '危险': 2511,\n",
       " '随后': 9602,\n",
       " '寻找': 3932,\n",
       " '大概': 3476,\n",
       " '大道': 3511,\n",
       " '出口': 1998,\n",
       " '方向': 5535,\n",
       " '身上': 8929,\n",
       " '另外': 2722,\n",
       " '一名': 276,\n",
       " '情绪': 4714,\n",
       " '尝试': 3996,\n",
       " '交流': 1115,\n",
       " '离开': 7403,\n",
       " '愿意': 4764,\n",
       " '接受': 5179,\n",
       " '继续': 7832,\n",
       " '缓慢': 7862,\n",
       " '此时': 6197,\n",
       " '路边': 8918,\n",
       " '聚集': 8034,\n",
       " '市民': 4192,\n",
       " '围观': 3065,\n",
       " '为了': 874,\n",
       " '刺激': 2179,\n",
       " '一边': 370,\n",
       " '群众': 7950,\n",
       " '警方': 8538,\n",
       " '提供': 5215,\n",
       " '一份': 257,\n",
       " '视频': 8509,\n",
       " '了解': 1007,\n",
       " '25': 95,\n",
       " '出现': 2021,\n",
       " '监控': 7165,\n",
       " '穿着': 7502,\n",
       " '白色': 7140,\n",
       " '沿着': 6403,\n",
       " '当时': 4502,\n",
       " '正值': 6179,\n",
       " '上班': 495,\n",
       " '高峰期': 9927,\n",
       " '路上': 8911,\n",
       " '纷纷': 7737,\n",
       " '驻足': 9885,\n",
       " '观望': 8485,\n",
       " '不少': 576,\n",
       " '车辆': 8955,\n",
       " '速度': 9253,\n",
       " '脚步': 8077,\n",
       " '依然': 1483,\n",
       " '行进': 8393,\n",
       " '中间': 861,\n",
       " '一辆': 368,\n",
       " '货车': 8755,\n",
       " '镜头': 9454,\n",
       " '但是': 1379,\n",
       " '全身': 1740,\n",
       " '朝着': 5865,\n",
       " '周围': 2907,\n",
       " '没有': 6373,\n",
       " '或者': 4811,\n",
       " '上前': 462,\n",
       " '看到': 7244,\n",
       " '这样': 9107,\n",
       " '情况': 4708,\n",
       " '恐怕': 4678,\n",
       " '大家': 3459,\n",
       " '办法': 2232,\n",
       " '面对': 9693,\n",
       " '这一': 9085,\n",
       " '表示': 8421,\n",
       " '根本': 6079,\n",
       " '不敢': 588,\n",
       " '心里': 4603,\n",
       " '感觉': 4760,\n",
       " '尴尬': 4014,\n",
       " '跟随': 8905,\n",
       " '作出': 1441,\n",
       " '举动': 919,\n",
       " '突然': 7511,\n",
       " '靠近': 9687,\n",
       " '上面': 510,\n",
       " '控制': 5190,\n",
       " '远离': 9146,\n",
       " '衣服': 8404,\n",
       " '只能': 2730,\n",
       " '紧紧': 7691,\n",
       " '一只': 272,\n",
       " '后面': 2867,\n",
       " '耐心': 7989,\n",
       " '安慰': 3766,\n",
       " '听到': 2879,\n",
       " '不断': 589,\n",
       " '重复': 9364,\n",
       " '一句': 271,\n",
       " '要是': 8468,\n",
       " '遭遇': 9288,\n",
       " '不时': 593,\n",
       " '试图': 8626,\n",
       " '大暴雨': 3472,\n",
       " '眼睛': 7270,\n",
       " '瞬间': 7288,\n",
       " '帮助': 4224,\n",
       " '大雨': 3519,\n",
       " '来说': 5995,\n",
       " '回家': 3029,\n",
       " '然后': 6774,\n",
       " '照片': 6781,\n",
       " '旁边': 5546,\n",
       " '场景': 3196,\n",
       " '下来': 525,\n",
       " '带到': 4212,\n",
       " '派出所': 6470,\n",
       " '姑娘': 3669,\n",
       " '什么样': 1209,\n",
       " '事情': 1029,\n",
       " '透露': 9219,\n",
       " '湖北': 6645,\n",
       " '家属': 3883,\n",
       " '反映': 2615,\n",
       " '三天': 437,\n",
       " '陈某': 9557,\n",
       " '老家': 7963,\n",
       " '导致': 3939,\n",
       " '异常': 4441,\n",
       " '产生': 1139,\n",
       " '送往': 9191,\n",
       " '医院': 2382,\n",
       " '治疗': 6400,\n",
       " '大大': 3452,\n",
       " '希望': 4207,\n",
       " '康复': 4363,\n",
       " '其实': 1846,\n",
       " '到来': 2156,\n",
       " '存在': 3707,\n",
       " '年龄': 4296,\n",
       " '限制': 9577,\n",
       " '你们': 1451,\n",
       " '原因': 2542,\n",
       " '这个': 9086,\n",
       " '哥哥': 2953,\n",
       " '一辈子': 369,\n",
       " '自己': 8099,\n",
       " '家人': 3878,\n",
       " '同时': 2831,\n",
       " '感谢': 4761,\n",
       " '聆听': 7996,\n",
       " '心灵': 4598,\n",
       " '点赞': 6745,\n",
       " '警察': 8534,\n",
       " '就是': 4005,\n",
       " '男子': 7080,\n",
       " '20': 64,\n",
       " '50': 132,\n",
       " '上午': 464,\n",
       " '公安局': 1771,\n",
       " '一个': 247,\n",
       " '报警': 5025,\n",
       " '电话': 7072,\n",
       " '声称': 3321,\n",
       " '遭到': 9286,\n",
       " '侵害': 1492,\n",
       " '几个': 1975,\n",
       " '关键词': 1834,\n",
       " '民警': 6287,\n",
       " '紧张': 7688,\n",
       " '起来': 8855,\n",
       " '受到': 2677,\n",
       " 'a股': 198,\n",
       " '纳入': 7730,\n",
       " 'msci': 219,\n",
       " '指数': 5115,\n",
       " '利好': 2136,\n",
       " '消息': 6544,\n",
       " '市场': 4178,\n",
       " '周三': 2901,\n",
       " '再度': 1884,\n",
       " '上演': 494,\n",
       " '行情': 8383,\n",
       " '周四': 2906,\n",
       " '金融股': 9409,\n",
       " '白马股': 7143,\n",
       " '表现': 8420,\n",
       " '尾盘': 4030,\n",
       " '跳水': 8922,\n",
       " '之后': 940,\n",
       " '金融': 9400,\n",
       " '板块': 6001,\n",
       " '状态': 6865,\n",
       " '分析': 2060,\n",
       " '人士': 1172,\n",
       " '认为': 8548,\n",
       " '受益': 2685,\n",
       " '估值': 1374,\n",
       " '资金': 8803,\n",
       " '青睐': 9679,\n",
       " '存量': 3711,\n",
       " '博弈': 2476,\n",
       " '格局': 6082,\n",
       " '风格': 9784,\n",
       " '震荡': 9662,\n",
       " '延续': 4373,\n",
       " '流动性': 6477,\n",
       " '改善': 5333,\n",
       " '经济': 7779,\n",
       " '预期': 9738,\n",
       " '有助于': 5814,\n",
       " '支撑': 5301,\n",
       " '大盘': 3490,\n",
       " '逐步': 9222,\n",
       " '再现': 1887,\n",
       " '未能': 5889,\n",
       " '上行': 501,\n",
       " '态势': 4629,\n",
       " '两市': 710,\n",
       " '成交': 4777,\n",
       " '小幅': 3964,\n",
       " '放量': 5367,\n",
       " '29': 102,\n",
       " '中信': 757,\n",
       " '一级': 352,\n",
       " '行业': 8375,\n",
       " '收盘': 5320,\n",
       " '银行': 9434,\n",
       " '两个': 688,\n",
       " '分别': 2045,\n",
       " '上涨': 490,\n",
       " '80': 171,\n",
       " '二级': 1048,\n",
       " '来看': 5991,\n",
       " '股份制': 8046,\n",
       " '涨幅': 6563,\n",
       " '最高': 5797,\n",
       " '达到': 9021,\n",
       " '22': 91,\n",
       " '82': 175,\n",
       " '信托': 1552,\n",
       " '及其': 2586,\n",
       " '64': 152,\n",
       " '保险': 1536,\n",
       " '34': 109,\n",
       " '证券': 8598,\n",
       " '06': 8,\n",
       " '成分股': 4783,\n",
       " '共有': 1814,\n",
       " '21': 90,\n",
       " '其中': 1841,\n",
       " '最大': 5785,\n",
       " '66': 154,\n",
       " '贵阳': 8783,\n",
       " '65': 153,\n",
       " '超过': 8873,\n",
       " '17': 51,\n",
       " '个股': 749,\n",
       " '中国': 771,\n",
       " '居前': 4042,\n",
       " '两名': 696,\n",
       " '57': 141,\n",
       " '04': 6,\n",
       " '新华': 5488,\n",
       " '券商': 2178,\n",
       " '下跌': 537,\n",
       " '近期': 9073,\n",
       " '宣布': 3868,\n",
       " '2018': 84,\n",
       " '新兴': 5483,\n",
       " '群体': 7951,\n",
       " '团队': 3055,\n",
       " '指出': 5104,\n",
       " '最新': 5790,\n",
       " '包含': 2322,\n",
       " '222': 92,\n",
       " '市值': 4175,\n",
       " '互联互通': 1065,\n",
       " '交易': 1106,\n",
       " '股票': 8051,\n",
       " '以及': 1264,\n",
       " '停牌': 1611,\n",
       " '标的': 6051,\n",
       " '由于': 7033,\n",
       " '很多': 4546,\n",
       " '权重': 5947,\n",
       " '上升': 463,\n",
       " '73': 163,\n",
       " '40': 119,\n",
       " '11': 24,\n",
       " '消费': 6547,\n",
       " '24': 94,\n",
       " '26': 98,\n",
       " '涵盖': 6564,\n",
       " '大部分': 3513,\n",
       " '动态': 2278,\n",
       " '加入': 2243,\n",
       " '增加': 3294,\n",
       " '其他': 1842,\n",
       " '尽管': 4028,\n",
       " '事件': 1018,\n",
       " '短期': 7300,\n",
       " '有所': 5820,\n",
       " '提振': 5224,\n",
       " '中长期': 860,\n",
       " '海外': 6515,\n",
       " '增量': 3308,\n",
       " '升温': 2402,\n",
       " '短期内': 7301,\n",
       " '不能': 606,\n",
       " '有效': 5821,\n",
       " '放大': 5356,\n",
       " '情景': 4713,\n",
       " '难以': 9617,\n",
       " '持续': 5097,\n",
       " '改变': 5332,\n",
       " '并未': 4302,\n",
       " '引起': 4448,\n",
       " '热情': 6755,\n",
       " '成交量': 4778,\n",
       " '较为': 8992,\n",
       " '较大': 8994,\n",
       " '变化': 2693,\n",
       " '成长': 4800,\n",
       " '全天': 1722,\n",
       " '低迷': 1391,\n",
       " '表明': 8417,\n",
       " '很少': 4549,\n",
       " '不同': 567,\n",
       " '之间': 955,\n",
       " '使得': 1457,\n",
       " '突破': 7512,\n",
       " '中期': 831,\n",
       " '依旧': 1479,\n",
       " '维持': 7840,\n",
       " '虽然': 8354,\n",
       " '至今': 8130,\n",
       " '夏普': 3351,\n",
       " '智能手机': 5737,\n",
       " '无法': 5568,\n",
       " '完全': 3776,\n",
       " '2013': 79,\n",
       " '退出': 9186,\n",
       " '月份': 5800,\n",
       " '官方': 3791,\n",
       " '回归': 3031,\n",
       " '预示': 9741,\n",
       " '很快': 4551,\n",
       " '登场': 7127,\n",
       " '登陆': 7132,\n",
       " '怎么样': 4633,\n",
       " '近日': 9072,\n",
       " '型号': 3221,\n",
       " '神秘': 7378,\n",
       " '悄然': 4695,\n",
       " '相关': 7211,\n",
       " '并非': 4305,\n",
       " '定位': 3798,\n",
       " '配备': 9333,\n",
       " '最受': 5782,\n",
       " '芯片': 8212,\n",
       " '之一': 930,\n",
       " '采用': 9343,\n",
       " '14': 43,\n",
       " '工艺': 4135,\n",
       " '设计': 8591,\n",
       " '当前': 4492,\n",
       " '只有': 2729,\n",
       " '上市': 474,\n",
       " '销售': 9440,\n",
       " '改进': 5340,\n",
       " '明显': 5665,\n",
       " '所以': 4859,\n",
       " '放在': 5355,\n",
       " '变成': 2697,\n",
       " '高端': 9945,\n",
       " '不过': 615,\n",
       " '签署': 7621,\n",
       " '协议': 2434,\n",
       " '时间': 5649,\n",
       " '既然': 5582,\n",
       " '测试': 6490,\n",
       " '说明': 8666,\n",
       " '只要': 2731,\n",
       " '时期': 5636,\n",
       " '新品': 5494,\n",
       " '之前': 938,\n",
       " '曝光': 5750,\n",
       " '竞争': 7528,\n",
       " '优势': 1316,\n",
       " '全面': 1746,\n",
       " '推出': 5197,\n",
       " '全球': 1732,\n",
       " '多达': 3421,\n",
       " '28': 101,\n",
       " '媒体': 3694,\n",
       " '沟通': 6369,\n",
       " '会上': 1330,\n",
       " '各位': 2777,\n",
       " '时代': 5626,\n",
       " '成为': 4776,\n",
       " '沙漠': 6365,\n",
       " '有利': 5811,\n",
       " '消化': 6542,\n",
       " '开盘': 4428,\n",
       " '上证': 502,\n",
       " '蓝筹': 8339,\n",
       " '带动': 4213,\n",
       " '一度': 304,\n",
       " '站上': 7526,\n",
       " '60': 145,\n",
       " '120': 36,\n",
       " '均线': 3201,\n",
       " '万达': 420,\n",
       " '电影': 7059,\n",
       " '暴跌': 5747,\n",
       " '拖累': 5070,\n",
       " '绝大多数': 7820,\n",
       " '大幅': 3467,\n",
       " '各大': 2781,\n",
       " '全线': 1737,\n",
       " '不见': 611,\n",
       " '不可': 564,\n",
       " '短线': 7304,\n",
       " '策略': 7612,\n",
       " '题材': 9771,\n",
       " '为主': 873,\n",
       " '区域': 2365,\n",
       " '概念股': 6130,\n",
       " '调整': 8685,\n",
       " '压力': 2531,\n",
       " '仍然': 1225,\n",
       " '突出': 7506,\n",
       " '再次': 1886,\n",
       " '大跌': 3507,\n",
       " '处于': 3323,\n",
       " '底部': 4348,\n",
       " '低位': 1386,\n",
       " '反复': 2606,\n",
       " '夯实': 3563,\n",
       " '蓝筹股': 8340,\n",
       " '承压': 4953,\n",
       " '后期': 2862,\n",
       " '需要': 9658,\n",
       " '接力': 5178,\n",
       " '走向': 8835,\n",
       " '今日': 1221,\n",
       " '要闻': 8471,\n",
       " '央行': 3561,\n",
       " '上海': 486,\n",
       " '总部': 4671,\n",
       " '债券': 1582,\n",
       " '北向': 2345,\n",
       " '境外': 3287,\n",
       " '投资者': 4994,\n",
       " '准入': 1957,\n",
       " '备案': 3339,\n",
       " '业务': 661,\n",
       " '指引': 5110,\n",
       " '我国': 4804,\n",
       " '信用': 1553,\n",
       " '法规': 6428,\n",
       " '标准': 6042,\n",
       " '研究': 7320,\n",
       " '加快': 2252,\n",
       " '推进': 5207,\n",
       " '房地产': 4851,\n",
       " '研究院': 7326,\n",
       " '房贷利率': 4856,\n",
       " '楼市': 6126,\n",
       " '报告': 5018,\n",
       " '许多': 8578,\n",
       " '城市': 3231,\n",
       " '个人': 739,\n",
       " '住房贷款': 1395,\n",
       " '利率': 2143,\n",
       " '程度': 7468,\n",
       " '水污染': 6316,\n",
       " '修正案': 1562,\n",
       " '草案': 8260,\n",
       " '二审': 1038,\n",
       " '更大': 5756,\n",
       " '力度': 2222,\n",
       " '保护': 1524,\n",
       " '环境': 6909,\n",
       " '结算': 7813,\n",
       " '开展': 4415,\n",
       " '一人': 254,\n",
       " '多户': 3404,\n",
       " '通知': 9238,\n",
       " '启动': 2883,\n",
       " '同一': 2821,\n",
       " '以上': 1256,\n",
       " '账户': 8749,\n",
       " '文件': 5442,\n",
       " '要求': 8469,\n",
       " '23': 93,\n",
       " '日后': 5589,\n",
       " '交易日': 1111,\n",
       " '确认': 7343,\n",
       " '十三': 2383,\n",
       " '金融市场': 9404,\n",
       " '交易额': 1113,\n",
       " '2000': 66,\n",
       " '万亿': 393,\n",
       " '宏观': 3785,\n",
       " '稳定': 7479,\n",
       " '双重': 2604,\n",
       " '因素': 3049,\n",
       " '鼓舞': 9994,\n",
       " '国际': 3117,\n",
       " '基金': 3266,\n",
       " '经理': 7789,\n",
       " '2017': 83,\n",
       " '下半年': 516,\n",
       " '股市': 8047,\n",
       " '有望': 5824,\n",
       " '十年': 2392,\n",
       " '增长': 3309,\n",
       " '创新': 2115,\n",
       " '驱动': 9879,\n",
       " '回顾': 3043,\n",
       " '早盘': 5625,\n",
       " '冲高': 1944,\n",
       " '回落': 3039,\n",
       " '走势': 8834,\n",
       " '盘面': 7177,\n",
       " '300': 104,\n",
       " '盘中': 7175,\n",
       " '新高': 5531,\n",
       " '分化': 2047,\n",
       " '相当': 7218,\n",
       " '45': 126,\n",
       " '较前': 8993,\n",
       " '76': 166,\n",
       " '跌幅': 8893,\n",
       " '101': 15,\n",
       " '97': 192,\n",
       " '98': 193,\n",
       " '创业板': 2105,\n",
       " '38': 116,\n",
       " '400': 120,\n",
       " '品种': 2939,\n",
       " '计算': 8545,\n",
       " 'st': 237,\n",
       " '涨停': 6562,\n",
       " '不足': 614,\n",
       " '亿元': 1202,\n",
       " '800': 172,\n",
       " '数据': 5424,\n",
       " '主力': 888,\n",
       " '流出': 6475,\n",
       " '一日': 317,\n",
       " '96': 191,\n",
       " '95': 190,\n",
       " '27': 99,\n",
       " '61': 148,\n",
       " '抛售': 5002,\n",
       " '13': 40,\n",
       " '介入': 1223,\n",
       " '医药': 2381,\n",
       " '制造': 2173,\n",
       " '雄安': 9625,\n",
       " '新区': 5487,\n",
       " '更是': 5761,\n",
       " '高达': 9954,\n",
       " '41': 122,\n",
       " '69': 157,\n",
       " '技术': 4963,\n",
       " '临近': 870,\n",
       " '半个': 2409,\n",
       " '小时': 3969,\n",
       " '高位': 9910,\n",
       " '留下': 7094,\n",
       " '以来': 1268,\n",
       " '每次': 6241,\n",
       " '回调': 3040,\n",
       " '相对': 7216,\n",
       " '位置': 1383,\n",
       " '即使': 2512,\n",
       " '乏力': 962,\n",
       " '总体': 4647,\n",
       " '打破': 4906,\n",
       " '攻克': 5345,\n",
       " '当日': 4501,\n",
       " '上方': 479,\n",
       " '触及': 8526,\n",
       " '无疑': 5570,\n",
       " '心理': 4599,\n",
       " '负面影响': 8729,\n",
       " '分钟': 2077,\n",
       " '级别': 7718,\n",
       " '形成': 4514,\n",
       " '一旦': 318,\n",
       " '跌破': 8894,\n",
       " '意味着': 4737,\n",
       " '如此': 3660,\n",
       " '引发': 4443,\n",
       " '综合': 7845,\n",
       " '处在': 3326,\n",
       " '区间': 2367,\n",
       " '脆弱': 8076,\n",
       " '心态': 4595,\n",
       " '碎片': 7345,\n",
       " '主线': 908,\n",
       " '模糊': 6142,\n",
       " '热点': 6760,\n",
       " '赚钱': 8810,\n",
       " '效应': 5389,\n",
       " '以下': 1257,\n",
       " '首先': 9824,\n",
       " '长期': 9468,\n",
       " '人气': 1193,\n",
       " '最近': 5795,\n",
       " '一段时间': 335,\n",
       " '整体': 5433,\n",
       " '走高': 8847,\n",
       " '基础': 3260,\n",
       " '弹性': 4466,\n",
       " '制约': 2169,\n",
       " '绝对': 7822,\n",
       " '大面积': 3521,\n",
       " '与此同时': 621,\n",
       " '现在': 6926,\n",
       " '非常': 9683,\n",
       " '频繁': 9767,\n",
       " '今天': 1216,\n",
       " '明天': 5661,\n",
       " '就要': 4009,\n",
       " '打击': 4896,\n",
       " '积极性': 7452,\n",
       " '其次': 1847,\n",
       " '反弹': 2612,\n",
       " '重要': 9378,\n",
       " '拉升': 5047,\n",
       " '这种': 9111,\n",
       " '大涨': 3482,\n",
       " '似乎': 1378,\n",
       " '一直': 343,\n",
       " '吸引': 2888,\n",
       " '加码': 2264,\n",
       " '中小': 808,\n",
       " '面临': 9688,\n",
       " '强大': 4475,\n",
       " '午后': 2407,\n",
       " '复星': 3344,\n",
       " '收复': 5315,\n",
       " '投资': 4992,\n",
       " '建议': 4393,\n",
       " '始终': 3666,\n",
       " '缺乏': 7880,\n",
       " '支持': 5297,\n",
       " '背景': 8060,\n",
       " '后续': 2865,\n",
       " '跟上': 8901,\n",
       " '活跃': 6467,\n",
       " '降低': 9564,\n",
       " '配置': 9335,\n",
       " '加大': 2246,\n",
       " '纠缠': 7701,\n",
       " '促使': 1505,\n",
       " '能否': 8071,\n",
       " '真正': 7262,\n",
       " '观察': 8482,\n",
       " '基于': 3244,\n",
       " '组合': 7751,\n",
       " '因此': 3047,\n",
       " '股指': 8048,\n",
       " '下方': 523,\n",
       " '获得': 8282,\n",
       " '操作': 5288,\n",
       " '粤港澳': 7659,\n",
       " '大湾': 3483,\n",
       " '论坛': 8580,\n",
       " '腾讯': 8088,\n",
       " '人工智能': 1178,\n",
       " '百度': 7150,\n",
       " '举办': 918,\n",
       " 'ai': 196,\n",
       " '开发者': 4408,\n",
       " '大会': 3430,\n",
       " '亚马逊': 1093,\n",
       " '代表': 1251,\n",
       " '互联网': 1066,\n",
       " '巨头': 4144,\n",
       " '一致': 358,\n",
       " '看好': 7245,\n",
       " '发展': 2629,\n",
       " '产业': 1126,\n",
       " '叠加': 2704,\n",
       " '政策': 5378,\n",
       " '扶持': 4942,\n",
       " '景气': 5726,\n",
       " '一个月': 249,\n",
       " '三次': 448,\n",
       " '加之': 2239,\n",
       " '下周': 520,\n",
       " '月末': 5804,\n",
       " '值得': 1588,\n",
       " '做好': 1603,\n",
       " '应对': 4339,\n",
       " '月初': 5801,\n",
       " '为首': 881,\n",
       " '模式': 6139,\n",
       " '保持': 1527,\n",
       " '随着': 9606,\n",
       " '带来': 4218,\n",
       " '刷新': 2177,\n",
       " '高点': 9942,\n",
       " '降温': 9568,\n",
       " '加剧': 2245,\n",
       " '现象': 6936,\n",
       " '必须': 4607,\n",
       " '重视': 9381,\n",
       " '红利': 7702,\n",
       " '军工': 1896,\n",
       " '上周': 468,\n",
       " '王者': 6898,\n",
       " '荣耀': 8263,\n",
       " '类似': 7655,\n",
       " '来自': 5992,\n",
       " '比较': 6259,\n",
       " '敏感': 5395,\n",
       " '半年': 2414,\n",
       " '容易': 3894,\n",
       " '实际上': 3835,\n",
       " '美联储': 7944,\n",
       " '加息': 2253,\n",
       " '缩表': 7875,\n",
       " '行为': 8377,\n",
       " '货币政策': 8751,\n",
       " '开启': 4409,\n",
       " '流行': 6482,\n",
       " '很难': 4553,\n",
       " '中性': 821,\n",
       " '偏紧': 1600,\n",
       " '常态': 4237,\n",
       " '基本面': 3257,\n",
       " '阶段': 9522,\n",
       " '一段': 334,\n",
       " '高速': 9956,\n",
       " '增速': 3307,\n",
       " '下滑': 530,\n",
       " '而是': 7987,\n",
       " '周期': 2910,\n",
       " '适度': 9196,\n",
       " '供给': 1475,\n",
       " '结构性': 7809,\n",
       " '改革': 5342,\n",
       " '决定': 1946,\n",
       " '运行': 9062,\n",
       " '之下': 932,\n",
       " '前期': 2194,\n",
       " '单纯': 2448,\n",
       " '依托': 1477,\n",
       " '能够': 8072,\n",
       " '担忧': 5043,\n",
       " '尤其': 3998,\n",
       " '越来越': 8876,\n",
       " '甚至': 6986,\n",
       " '排除': 5168,\n",
       " '选择': 9210,\n",
       " '伴随': 1377,\n",
       " '谨慎': 8709,\n",
       " '气氛': 6296,\n",
       " '对于': 3910,\n",
       " '梳理': 6104,\n",
       " '警惕': 8536,\n",
       " '兑现': 1681,\n",
       " '利润': 2140,\n",
       " '重新': 9372,\n",
       " '机会': 5924,\n",
       " '阻力': 9524,\n",
       " '密集': 3905,\n",
       " '及时': 2587,\n",
       " '减仓': 1964,\n",
       " '毕竟': 6265,\n",
       " '通道': 9250,\n",
       " '扭转': 4938,\n",
       " '暂时': 5740,\n",
       " '持有': 5095,\n",
       " '主板': 903,\n",
       " '终于': 7769,\n",
       " '遗憾': 9283,\n",
       " '之际': 956,\n",
       " '周五': 2903,\n",
       " '怎样': 4634,\n",
       " '登记': 7131,\n",
       " '托管': 4914,\n",
       " '实施细则': 3825,\n",
       " '实施': 3823,\n",
       " '发改委': 2642,\n",
       " '抓紧': 4976,\n",
       " '制定': 2162,\n",
       " '出台': 1999,\n",
       " '价格': 1279,\n",
       " '监管': 7171,\n",
       " '规则': 8492,\n",
       " '社部': 7369,\n",
       " '月底': 5802,\n",
       " '基本': 3254,\n",
       " '实现': 3828,\n",
       " '跨省': 8909,\n",
       " '异地': 4440,\n",
       " '就医': 4004,\n",
       " '直接': 7200,\n",
       " '成品油': 4788,\n",
       " '年内': 4277,\n",
       " '下调': 536,\n",
       " '降幅': 9566,\n",
       " '国防': 3114,\n",
       " '科工': 7421,\n",
       " '混改': 6594,\n",
       " '资产': 8789,\n",
       " '证券化': 8599,\n",
       " '进程': 9139,\n",
       " '广电总局': 4327,\n",
       " '新浪': 5512,\n",
       " '微博': 4576,\n",
       " '网站': 7894,\n",
       " '关停': 1820,\n",
       " '视听': 8503,\n",
       " '节目': 8200,\n",
       " '欧美': 6172,\n",
       " '稳健': 7478,\n",
       " '国内': 3075,\n",
       " '形式': 4512,\n",
       " '整理': 5437,\n",
       " '1800': 55,\n",
       " '相比': 7222,\n",
       " '显得': 5699,\n",
       " '弱势': 4465,\n",
       " '转换': 8971,\n",
       " '随时': 9604,\n",
       " '第一': 7548,\n",
       " '第二': 7576,\n",
       " '实质性': 3832,\n",
       " '低开': 1387,\n",
       " '可能性': 2742,\n",
       " '防止': 9511,\n",
       " '极为': 6002,\n",
       " ...}"
      ]
     },
     "execution_count": 80,
     "metadata": {},
     "output_type": "execute_result"
    }
   ],
   "source": [
    "vectorized.vocabulary_"
   ]
  },
  {
   "cell_type": "code",
   "execution_count": 81,
   "metadata": {},
   "outputs": [
    {
     "data": {
      "text/plain": [
       "(array([0, 0, 0, 0, 0, 0, 0, 0, 0, 0, 0, 0, 0, 0, 0, 0, 0, 0, 0, 0, 0, 0,\n",
       "        0, 0, 0, 0, 0, 0, 0, 0, 0, 0, 0, 0], dtype=int64),\n",
       " array([  35,   46,  302,  912,  933, 1546, 1743, 1819, 1844, 2558, 2635,\n",
       "        2734, 3974, 4113, 4132, 4405, 4505, 4525, 4802, 4878, 5628, 5738,\n",
       "        5760, 5808, 5892, 6195, 6880, 7319, 7338, 7607, 7662, 9082, 9141,\n",
       "        9631], dtype=int64))"
      ]
     },
     "execution_count": 81,
     "metadata": {},
     "output_type": "execute_result"
    }
   ],
   "source": [
    "np.where(X[0].toarray()) # get the positions which values are not zero"
   ]
  },
  {
   "cell_type": "code",
   "execution_count": 83,
   "metadata": {},
   "outputs": [],
   "source": [
    "document_id_1, document_id_2 = random.randint(0, 1000), random.randint(0, 1000)"
   ]
  },
  {
   "cell_type": "code",
   "execution_count": 84,
   "metadata": {},
   "outputs": [
    {
     "data": {
      "text/plain": [
       "249"
      ]
     },
     "execution_count": 84,
     "metadata": {},
     "output_type": "execute_result"
    }
   ],
   "source": [
    "document_id_1"
   ]
  },
  {
   "cell_type": "code",
   "execution_count": 85,
   "metadata": {},
   "outputs": [
    {
     "data": {
      "text/plain": [
       "629"
      ]
     },
     "execution_count": 85,
     "metadata": {},
     "output_type": "execute_result"
    }
   ],
   "source": [
    "document_id_2"
   ]
  },
  {
   "cell_type": "code",
   "execution_count": 86,
   "metadata": {},
   "outputs": [
    {
     "data": {
      "text/plain": [
       "'卖家 表示   这是 全网 唯一 一台 小米 6 亮银 探索 版   来源 是   媒体 评测 机   拍卖 将 于 今天下午 19 点 结束   到 时 拍卖 价格 会 是 多少 呢   能 真正 的 交易 吗'"
      ]
     },
     "execution_count": 86,
     "metadata": {},
     "output_type": "execute_result"
    }
   ],
   "source": [
    "news_content[document_id_1]"
   ]
  },
  {
   "cell_type": "code",
   "execution_count": 87,
   "metadata": {},
   "outputs": [
    {
     "data": {
      "text/plain": [
       "'中新网 北京 6 月 20 日电   记者   张尼   20 日   最高人民法院 首次 发布 禁毒 工作 白皮书   白皮书   显示   广东   湖南   浙江   四川   贵州   云南   广西   重庆   江苏   湖北 为 排名 前十 的 毒品 犯罪 高发 省份   其中 广东 的 毒品 犯罪案件 数量 近年来 一直 居 全国 首位   20 日   最高人民法院 召开 新闻 发布会   介绍 人民法院 依法惩治 毒品 犯罪 有关 情况 及   人民法院 禁毒 工作 白皮书   2012   2017   有关 情况   发布 10 起 人民法院 惩治 毒品 犯罪 典型 案例 并 回答 记者 提问   白皮书   显示   2012 年 至 2016 年   全国 法院 一审 新收 毒品 犯罪案件 共计 54   1 万件   审结 53   5 万件   判决 生效 犯罪分子 54   3 万人   一审 结案 数从 2012 年 的 7   6 万件 增至 2016 年 的 11   8 万件   增幅 为 54   12   生效 判决 人数 从 8   1 万人 增至 11   6 万人   增幅 为 43   09   毒品 犯罪案件 在 全部 刑事案件 中 的 比例   从 7   73   增至 10   54   毒品 犯罪案件 是 增长 最快 的 案件 类型 之一   其 增幅 是 全部 刑事案件 总体 增幅 的 4   12 倍   另外   中国 毒品 犯罪 已 突破 以往 主要 分布 于 边境   沿海地区 的 地域性 特征   遍及 全国 所有 省份   但 案件 数量 排名 全国 前 十位 的 省份 主要 集中 在 华南   西南   华东 和 华中地区   2012 年 至 2016 年   一审 审结 毒品 犯罪案件 数 排名 前十 的 省份 为   广东 94853 件   湖南 33068 件   浙江 31240 件   四川 29747 件   贵州 29570 件   云南 29307 件   广西 28349 件   重庆 27725 件   江苏 26054 件   湖北 20955 件   其中   广东 的 毒品 犯罪案件 数量 近年来 一直 居 全国 首位   五年 来 的 结案 量 占 全国 总量 的 17   73   为 排名 第二 的 湖南 的 2   87 倍   据介绍   云南 是 缅北 毒品 向 中国 渗透 的 主要 通道   近年来 案件 数量 增速 减缓   但 大宗 毒品 犯罪案件 多发   海洛因 和 甲基苯丙胺 片剂 的 缴获 量 居 全国 首位   广西 中 越 边境地区 已 成为   金三角   毒品走私 入境 的 第二 大通道   江苏   浙江   湖南   湖北 等 地受 其他 省份 毒品 渗透 影响 和 本地 毒品 消费 刺激   毒品 犯罪 数量 居高不下   此外   辽宁   山东   海南   甘肃 等 省份 的 毒品 犯罪 也 呈 多发 态势   犯罪 形式 较为 严峻   完   责任编辑   张迪'"
      ]
     },
     "execution_count": 87,
     "metadata": {},
     "output_type": "execute_result"
    }
   ],
   "source": [
    "news_content[document_id_2]"
   ]
  },
  {
   "cell_type": "code",
   "execution_count": 88,
   "metadata": {},
   "outputs": [],
   "source": [
    "vector_of_d_1 = X[document_id_1].toarray()[0]"
   ]
  },
  {
   "cell_type": "code",
   "execution_count": 89,
   "metadata": {},
   "outputs": [],
   "source": [
    "vector_of_d_2 = X[document_id_2].toarray()[0]"
   ]
  },
  {
   "cell_type": "code",
   "execution_count": null,
   "metadata": {},
   "outputs": [],
   "source": [
    "random_choose = random.randint(0, 1000)"
   ]
  },
  {
   "cell_type": "code",
   "execution_count": null,
   "metadata": {},
   "outputs": [],
   "source": [
    "random_choose"
   ]
  },
  {
   "cell_type": "code",
   "execution_count": null,
   "metadata": {},
   "outputs": [],
   "source": [
    "news_content[random_choose]"
   ]
  },
  {
   "cell_type": "code",
   "execution_count": null,
   "metadata": {},
   "outputs": [],
   "source": [
    "from scipy.spatial.distance import cosine"
   ]
  },
  {
   "cell_type": "code",
   "execution_count": null,
   "metadata": {},
   "outputs": [],
   "source": [
    "def distance(v1, v2): return cosine(v1, v2)"
   ]
  },
  {
   "cell_type": "code",
   "execution_count": null,
   "metadata": {},
   "outputs": [],
   "source": [
    "distance([1, 1], [2, 2])"
   ]
  },
  {
   "cell_type": "code",
   "execution_count": null,
   "metadata": {},
   "outputs": [],
   "source": [
    "distance(X[random_choose].toarray()[0], X[document_id_1].toarray()[0])"
   ]
  },
  {
   "cell_type": "code",
   "execution_count": null,
   "metadata": {},
   "outputs": [],
   "source": [
    "distance(X[random_choose].toarray()[0], X[document_id_2].toarray()[0])"
   ]
  },
  {
   "cell_type": "code",
   "execution_count": null,
   "metadata": {},
   "outputs": [],
   "source": [
    "news_content[320]"
   ]
  },
  {
   "cell_type": "code",
   "execution_count": null,
   "metadata": {},
   "outputs": [],
   "source": [
    "news_content[72]"
   ]
  },
  {
   "cell_type": "code",
   "execution_count": null,
   "metadata": {},
   "outputs": [],
   "source": [
    "news_content[85]"
   ]
  },
  {
   "cell_type": "code",
   "execution_count": null,
   "metadata": {},
   "outputs": [],
   "source": [
    "news_content[8]"
   ]
  },
  {
   "cell_type": "code",
   "execution_count": null,
   "metadata": {},
   "outputs": [],
   "source": [
    "sorted(list(range(10000)), key=lambda i: distance(X[random_choose].toarray()[0], \n",
    "                                      X[i].toarray()[0]))"
   ]
  },
  {
   "cell_type": "code",
   "execution_count": null,
   "metadata": {},
   "outputs": [],
   "source": [
    "2**64"
   ]
  },
  {
   "cell_type": "code",
   "execution_count": null,
   "metadata": {},
   "outputs": [],
   "source": [
    "bin(19)"
   ]
  },
  {
   "cell_type": "code",
   "execution_count": null,
   "metadata": {},
   "outputs": [],
   "source": [
    "bin(49)"
   ]
  },
  {
   "cell_type": "code",
   "execution_count": null,
   "metadata": {},
   "outputs": [],
   "source": [
    "bin(38)"
   ]
  },
  {
   "cell_type": "code",
   "execution_count": null,
   "metadata": {},
   "outputs": [],
   "source": [
    "bin(49 & 38)"
   ]
  },
  {
   "cell_type": "markdown",
   "metadata": {},
   "source": [
    "## Build Search Engine "
   ]
  },
  {
   "cell_type": "markdown",
   "metadata": {},
   "source": [
    "```\n",
    "Input: Words\n",
    "Output: Documents\n",
    "```"
   ]
  },
  {
   "cell_type": "code",
   "execution_count": 90,
   "metadata": {},
   "outputs": [],
   "source": [
    "def naive_search(keywords):\n",
    "    news_ids = [i for i, n in enumerate(news_content) if all(w in n for w in keywords)]\n",
    "    # O(D * w) "
   ]
  },
  {
   "cell_type": "code",
   "execution_count": 91,
   "metadata": {},
   "outputs": [
    {
     "name": "stdout",
     "output_type": "stream",
     "text": [
      "106 ms ± 3.06 ms per loop (mean ± std. dev. of 7 runs, 10 loops each)\n"
     ]
    }
   ],
   "source": [
    "%%timeit\n",
    "naive_search('美军 司令 航母'.split())"
   ]
  },
  {
   "cell_type": "markdown",
   "metadata": {},
   "source": [
    "### Input word -> the documents which contain this word"
   ]
  },
  {
   "cell_type": "code",
   "execution_count": null,
   "metadata": {},
   "outputs": [],
   "source": [
    "X.shape"
   ]
  },
  {
   "cell_type": "code",
   "execution_count": null,
   "metadata": {},
   "outputs": [],
   "source": [
    "transposed_x = X.transpose().toarray()"
   ]
  },
  {
   "cell_type": "code",
   "execution_count": null,
   "metadata": {},
   "outputs": [],
   "source": [
    "word_2_id = vectorized.vocabulary_"
   ]
  },
  {
   "cell_type": "code",
   "execution_count": null,
   "metadata": {},
   "outputs": [],
   "source": [
    "word_2_id['今天']"
   ]
  },
  {
   "cell_type": "code",
   "execution_count": null,
   "metadata": {},
   "outputs": [],
   "source": [
    "id_2_word = {d: w for w, d in word_2_id.items()}"
   ]
  },
  {
   "cell_type": "code",
   "execution_count": null,
   "metadata": {},
   "outputs": [],
   "source": [
    "id_2_word[6195]"
   ]
  },
  {
   "cell_type": "code",
   "execution_count": null,
   "metadata": {},
   "outputs": [],
   "source": [
    "set(np.where(transposed_x[6195])[0])"
   ]
  },
  {
   "cell_type": "code",
   "execution_count": null,
   "metadata": {},
   "outputs": [],
   "source": [
    "'美军'"
   ]
  },
  {
   "cell_type": "code",
   "execution_count": null,
   "metadata": {},
   "outputs": [],
   "source": [
    "word_2_id['美军']"
   ]
  },
  {
   "cell_type": "code",
   "execution_count": null,
   "metadata": {},
   "outputs": [],
   "source": [
    "word_2_id['司令']"
   ]
  },
  {
   "cell_type": "code",
   "execution_count": null,
   "metadata": {},
   "outputs": [],
   "source": [
    "usa_force = set(np.where(transposed_x[7922])[0])"
   ]
  },
  {
   "cell_type": "code",
   "execution_count": null,
   "metadata": {},
   "outputs": [],
   "source": [
    "commander = set(np.where(transposed_x[2769])[0])"
   ]
  },
  {
   "cell_type": "code",
   "execution_count": null,
   "metadata": {},
   "outputs": [],
   "source": [
    "usa_force & commander"
   ]
  },
  {
   "cell_type": "code",
   "execution_count": null,
   "metadata": {},
   "outputs": [],
   "source": [
    "from functools import reduce"
   ]
  },
  {
   "cell_type": "code",
   "execution_count": null,
   "metadata": {},
   "outputs": [],
   "source": [
    "d1, d2, d3 = {1, 2, 3}, {4, 5, 6, 3, 2}, {1, 3, 4}"
   ]
  },
  {
   "cell_type": "code",
   "execution_count": null,
   "metadata": {},
   "outputs": [],
   "source": [
    "from operator import and_"
   ]
  },
  {
   "cell_type": "code",
   "execution_count": null,
   "metadata": {},
   "outputs": [],
   "source": [
    "reduce(and_, [d1, d2, d3])"
   ]
  },
  {
   "cell_type": "code",
   "execution_count": null,
   "metadata": {},
   "outputs": [],
   "source": [
    "def search_engine(query):\n",
    "    \"\"\"\n",
    "    @query is the searched words, splited by space\n",
    "    @return is the related documents which ranked by tfidf similarity\n",
    "    \"\"\"\n",
    "    words = query.split()\n",
    "    \n",
    "    query_vec = vectorized.transform([' '.join(words)]).toarray()[0]\n",
    "\n",
    "    candidates_ids = [word_2_id[w] for w in words]\n",
    "    \n",
    "    documents_ids = [\n",
    "         set(np.where(transposed_x[_id])[0]) for _id in candidates_ids\n",
    "    ]\n",
    "    \n",
    "    merged_documents = reduce(and_, documents_ids)\n",
    "    # we could know the documents which contain these words\n",
    "    sorted_docuemtns_id = sorted(merged_documents, key=lambda i: distance(query_vec, X[i].toarray()))\n",
    "\n",
    "    return sorted_docuemtns_id"
   ]
  },
  {
   "cell_type": "code",
   "execution_count": null,
   "metadata": {},
   "outputs": [],
   "source": [
    "np.where(vectorized.transform(['美联储 加息 次数']).toarray()[0])"
   ]
  },
  {
   "cell_type": "code",
   "execution_count": null,
   "metadata": {},
   "outputs": [],
   "source": [
    "text = \"\"\"新华社洛杉矶４月８日电（记者黄恒）美国第三舰队８日发布声明说，该舰队下属的“卡尔·文森”航母战斗群当天离开新加坡，改变原定驶往澳大利亚的任务计划，转而北上，前往西太平洋朝鲜半岛附近水域展开行动。\\n　　该舰队网站主页发布的消息说，美军太平洋司令部司令哈里·哈里斯指示“卡尔·文森”航母战斗群向北航行。这一战斗群包括“卡尔·文森”号航空母舰、海军第二航空队、两艘“阿利·伯克”级导弹驱逐舰和一艘“泰孔德罗加”级导弹巡洋舰。\\n　　“卡尔·文森”号航母的母港位于美国加利福尼亚州的圣迭戈，今年１月初前往西太平洋地区执行任务，并参与了日本及韩国的军事演习。\\n　　美国有线电视新闻网援引美国军方官员的话说，“‘卡尔·文森’号此次行动是为了对近期朝鲜的挑衅行为作出回应”。（完）\"\"\""
   ]
  },
  {
   "cell_type": "code",
   "execution_count": null,
   "metadata": {},
   "outputs": [],
   "source": [
    "print(text)"
   ]
  },
  {
   "cell_type": "code",
   "execution_count": null,
   "metadata": {},
   "outputs": [],
   "source": [
    "import re"
   ]
  },
  {
   "cell_type": "code",
   "execution_count": null,
   "metadata": {},
   "outputs": [],
   "source": [
    "text = \"\"\"美国有线电视新闻网援引美国军方官员的话说\"\"\""
   ]
  },
  {
   "cell_type": "code",
   "execution_count": null,
   "metadata": {},
   "outputs": [],
   "source": [
    "pat = r'(新闻|官员)'"
   ]
  },
  {
   "cell_type": "code",
   "execution_count": null,
   "metadata": {},
   "outputs": [],
   "source": [
    "re.compile(pat).sub(repl=\"**\\g<1>**\", string=text)"
   ]
  },
  {
   "cell_type": "code",
   "execution_count": null,
   "metadata": {},
   "outputs": [],
   "source": [
    "def get_query_pat(query):\n",
    "    return re.compile('({})'.format('|'.join(query.split())))"
   ]
  },
  {
   "cell_type": "code",
   "execution_count": null,
   "metadata": {},
   "outputs": [],
   "source": [
    "get_query_pat('美军 司令 航母')"
   ]
  },
  {
   "cell_type": "code",
   "execution_count": null,
   "metadata": {},
   "outputs": [],
   "source": [
    "def highlight_keywords(pat, document):\n",
    "    return pat.sub(repl=\"**\\g<1>**\", string=document) "
   ]
  },
  {
   "cell_type": "code",
   "execution_count": null,
   "metadata": {},
   "outputs": [],
   "source": [
    "highlight_keywords(get_query_pat('美军 司令 航母'), content['content'][22987])"
   ]
  },
  {
   "cell_type": "code",
   "execution_count": null,
   "metadata": {},
   "outputs": [],
   "source": [
    "from IPython.display import display, Markdown"
   ]
  },
  {
   "cell_type": "code",
   "execution_count": null,
   "metadata": {},
   "outputs": [],
   "source": [
    "def search_engine_with_pretty_print(query):\n",
    "    candidates_ids = search_engine(query)\n",
    "    for i, _id in enumerate(candidates_ids):\n",
    "        title = '## Search Result {}'.format(i)\n",
    "        c = content['content'][_id]\n",
    "        c = highlight_keywords(get_query_pat(query), c)    \n",
    "        \n",
    "        display(Markdown(title + '\\n' + c))"
   ]
  },
  {
   "cell_type": "code",
   "execution_count": null,
   "metadata": {},
   "outputs": [],
   "source": []
  },
  {
   "cell_type": "code",
   "execution_count": null,
   "metadata": {},
   "outputs": [],
   "source": [
    "search_engine_with_pretty_print('春节 假期')"
   ]
  },
  {
   "cell_type": "code",
   "execution_count": null,
   "metadata": {},
   "outputs": [],
   "source": [
    "search_engine()"
   ]
  },
  {
   "cell_type": "code",
   "execution_count": null,
   "metadata": {},
   "outputs": [],
   "source": []
  },
  {
   "cell_type": "code",
   "execution_count": null,
   "metadata": {},
   "outputs": [],
   "source": [
    "#%%timeit\n",
    "search_engine('美联储 加息 次数')"
   ]
  },
  {
   "cell_type": "code",
   "execution_count": null,
   "metadata": {
    "scrolled": true
   },
   "outputs": [],
   "source": [
    "content['content'][2189]"
   ]
  },
  {
   "cell_type": "markdown",
   "metadata": {},
   "source": [
    "## Why ?"
   ]
  },
  {
   "cell_type": "markdown",
   "metadata": {},
   "source": [
    "```\n",
    "preprocessing\n",
    "```"
   ]
  },
  {
   "cell_type": "markdown",
   "metadata": {},
   "source": [
    "## PageRank"
   ]
  },
  {
   "cell_type": "code",
   "execution_count": null,
   "metadata": {},
   "outputs": [],
   "source": [
    "import networkx as nx"
   ]
  },
  {
   "cell_type": "code",
   "execution_count": null,
   "metadata": {},
   "outputs": [],
   "source": [
    "import random"
   ]
  },
  {
   "cell_type": "code",
   "execution_count": null,
   "metadata": {},
   "outputs": [],
   "source": [
    "from string import ascii_uppercase"
   ]
  },
  {
   "cell_type": "code",
   "execution_count": null,
   "metadata": {},
   "outputs": [],
   "source": [
    "ascii_uppercase"
   ]
  },
  {
   "cell_type": "code",
   "execution_count": null,
   "metadata": {},
   "outputs": [],
   "source": [
    "def genearte_random_website():\n",
    "    return ''.join([random.choice(ascii_uppercase) for _ in range(random.randint(3, 5))]) + '.'  + random.choice(['com', 'cn', 'net'])"
   ]
  },
  {
   "cell_type": "code",
   "execution_count": null,
   "metadata": {},
   "outputs": [],
   "source": [
    "genearte_random_website()"
   ]
  },
  {
   "cell_type": "code",
   "execution_count": null,
   "metadata": {},
   "outputs": [],
   "source": [
    "websites = [genearte_random_website() for _ in range(25)]"
   ]
  },
  {
   "cell_type": "code",
   "execution_count": null,
   "metadata": {},
   "outputs": [],
   "source": [
    "websites"
   ]
  },
  {
   "cell_type": "code",
   "execution_count": null,
   "metadata": {},
   "outputs": [],
   "source": [
    "random.sample(websites, 10)"
   ]
  },
  {
   "cell_type": "code",
   "execution_count": null,
   "metadata": {},
   "outputs": [],
   "source": [
    "website_connection = {\n",
    "    websites[0]: random.sample(websites, 10),\n",
    "    websites[1]: random.sample(websites, 5),\n",
    "    websites[3]: random.sample(websites, 7),\n",
    "    websites[4]: random.sample(websites, 2),\n",
    "    websites[5]: random.sample(websites, 1),\n",
    "}"
   ]
  },
  {
   "cell_type": "code",
   "execution_count": null,
   "metadata": {},
   "outputs": [],
   "source": [
    "website_network = nx.graph.Graph(website_connection)"
   ]
  },
  {
   "cell_type": "code",
   "execution_count": null,
   "metadata": {},
   "outputs": [],
   "source": []
  },
  {
   "cell_type": "code",
   "execution_count": null,
   "metadata": {},
   "outputs": [],
   "source": [
    "plt.figure(3,figsize=(12,12))\n",
    "nx.draw_networkx(website_network, font_size=10)"
   ]
  },
  {
   "cell_type": "code",
   "execution_count": null,
   "metadata": {},
   "outputs": [],
   "source": [
    "sorted(nx.pagerank(website_network).items(),key=lambda x: x[1], reverse=True)"
   ]
  }
 ],
 "metadata": {
  "kernelspec": {
   "display_name": "Python 3",
   "language": "python",
   "name": "python3"
  },
  "language_info": {
   "codemirror_mode": {
    "name": "ipython",
    "version": 3
   },
   "file_extension": ".py",
   "mimetype": "text/x-python",
   "name": "python",
   "nbconvert_exporter": "python",
   "pygments_lexer": "ipython3",
   "version": "3.7.3"
  }
 },
 "nbformat": 4,
 "nbformat_minor": 2
}
