{
 "cells": [
  {
   "cell_type": "markdown",
   "metadata": {},
   "source": [
    "## keep working"
   ]
  },
  {
   "cell_type": "markdown",
   "metadata": {},
   "source": [
    "### 1. Loss(损失函数)\n",
    "#### https://blog.csdn.net/weixin_42692506/article/details/81840248\n",
    "$$ loss = \\frac{1}{n} \\sum{(y_i - \\hat{y_i})}^2$$"
   ]
  },
  {
   "cell_type": "code",
   "execution_count": 85,
   "metadata": {},
   "outputs": [],
   "source": [
    "import random\n",
    "import matplotlib.pyplot as plt\n",
    "from sklearn.datasets import load_boston\n",
    "%matplotlib inline"
   ]
  },
  {
   "cell_type": "code",
   "execution_count": 5,
   "metadata": {},
   "outputs": [],
   "source": [
    "data = load_boston()"
   ]
  },
  {
   "cell_type": "code",
   "execution_count": 6,
   "metadata": {},
   "outputs": [
    {
     "data": {
      "text/plain": [
       "{'data': array([[6.3200e-03, 1.8000e+01, 2.3100e+00, ..., 1.5300e+01, 3.9690e+02,\n",
       "         4.9800e+00],\n",
       "        [2.7310e-02, 0.0000e+00, 7.0700e+00, ..., 1.7800e+01, 3.9690e+02,\n",
       "         9.1400e+00],\n",
       "        [2.7290e-02, 0.0000e+00, 7.0700e+00, ..., 1.7800e+01, 3.9283e+02,\n",
       "         4.0300e+00],\n",
       "        ...,\n",
       "        [6.0760e-02, 0.0000e+00, 1.1930e+01, ..., 2.1000e+01, 3.9690e+02,\n",
       "         5.6400e+00],\n",
       "        [1.0959e-01, 0.0000e+00, 1.1930e+01, ..., 2.1000e+01, 3.9345e+02,\n",
       "         6.4800e+00],\n",
       "        [4.7410e-02, 0.0000e+00, 1.1930e+01, ..., 2.1000e+01, 3.9690e+02,\n",
       "         7.8800e+00]]),\n",
       " 'target': array([24. , 21.6, 34.7, 33.4, 36.2, 28.7, 22.9, 27.1, 16.5, 18.9, 15. ,\n",
       "        18.9, 21.7, 20.4, 18.2, 19.9, 23.1, 17.5, 20.2, 18.2, 13.6, 19.6,\n",
       "        15.2, 14.5, 15.6, 13.9, 16.6, 14.8, 18.4, 21. , 12.7, 14.5, 13.2,\n",
       "        13.1, 13.5, 18.9, 20. , 21. , 24.7, 30.8, 34.9, 26.6, 25.3, 24.7,\n",
       "        21.2, 19.3, 20. , 16.6, 14.4, 19.4, 19.7, 20.5, 25. , 23.4, 18.9,\n",
       "        35.4, 24.7, 31.6, 23.3, 19.6, 18.7, 16. , 22.2, 25. , 33. , 23.5,\n",
       "        19.4, 22. , 17.4, 20.9, 24.2, 21.7, 22.8, 23.4, 24.1, 21.4, 20. ,\n",
       "        20.8, 21.2, 20.3, 28. , 23.9, 24.8, 22.9, 23.9, 26.6, 22.5, 22.2,\n",
       "        23.6, 28.7, 22.6, 22. , 22.9, 25. , 20.6, 28.4, 21.4, 38.7, 43.8,\n",
       "        33.2, 27.5, 26.5, 18.6, 19.3, 20.1, 19.5, 19.5, 20.4, 19.8, 19.4,\n",
       "        21.7, 22.8, 18.8, 18.7, 18.5, 18.3, 21.2, 19.2, 20.4, 19.3, 22. ,\n",
       "        20.3, 20.5, 17.3, 18.8, 21.4, 15.7, 16.2, 18. , 14.3, 19.2, 19.6,\n",
       "        23. , 18.4, 15.6, 18.1, 17.4, 17.1, 13.3, 17.8, 14. , 14.4, 13.4,\n",
       "        15.6, 11.8, 13.8, 15.6, 14.6, 17.8, 15.4, 21.5, 19.6, 15.3, 19.4,\n",
       "        17. , 15.6, 13.1, 41.3, 24.3, 23.3, 27. , 50. , 50. , 50. , 22.7,\n",
       "        25. , 50. , 23.8, 23.8, 22.3, 17.4, 19.1, 23.1, 23.6, 22.6, 29.4,\n",
       "        23.2, 24.6, 29.9, 37.2, 39.8, 36.2, 37.9, 32.5, 26.4, 29.6, 50. ,\n",
       "        32. , 29.8, 34.9, 37. , 30.5, 36.4, 31.1, 29.1, 50. , 33.3, 30.3,\n",
       "        34.6, 34.9, 32.9, 24.1, 42.3, 48.5, 50. , 22.6, 24.4, 22.5, 24.4,\n",
       "        20. , 21.7, 19.3, 22.4, 28.1, 23.7, 25. , 23.3, 28.7, 21.5, 23. ,\n",
       "        26.7, 21.7, 27.5, 30.1, 44.8, 50. , 37.6, 31.6, 46.7, 31.5, 24.3,\n",
       "        31.7, 41.7, 48.3, 29. , 24. , 25.1, 31.5, 23.7, 23.3, 22. , 20.1,\n",
       "        22.2, 23.7, 17.6, 18.5, 24.3, 20.5, 24.5, 26.2, 24.4, 24.8, 29.6,\n",
       "        42.8, 21.9, 20.9, 44. , 50. , 36. , 30.1, 33.8, 43.1, 48.8, 31. ,\n",
       "        36.5, 22.8, 30.7, 50. , 43.5, 20.7, 21.1, 25.2, 24.4, 35.2, 32.4,\n",
       "        32. , 33.2, 33.1, 29.1, 35.1, 45.4, 35.4, 46. , 50. , 32.2, 22. ,\n",
       "        20.1, 23.2, 22.3, 24.8, 28.5, 37.3, 27.9, 23.9, 21.7, 28.6, 27.1,\n",
       "        20.3, 22.5, 29. , 24.8, 22. , 26.4, 33.1, 36.1, 28.4, 33.4, 28.2,\n",
       "        22.8, 20.3, 16.1, 22.1, 19.4, 21.6, 23.8, 16.2, 17.8, 19.8, 23.1,\n",
       "        21. , 23.8, 23.1, 20.4, 18.5, 25. , 24.6, 23. , 22.2, 19.3, 22.6,\n",
       "        19.8, 17.1, 19.4, 22.2, 20.7, 21.1, 19.5, 18.5, 20.6, 19. , 18.7,\n",
       "        32.7, 16.5, 23.9, 31.2, 17.5, 17.2, 23.1, 24.5, 26.6, 22.9, 24.1,\n",
       "        18.6, 30.1, 18.2, 20.6, 17.8, 21.7, 22.7, 22.6, 25. , 19.9, 20.8,\n",
       "        16.8, 21.9, 27.5, 21.9, 23.1, 50. , 50. , 50. , 50. , 50. , 13.8,\n",
       "        13.8, 15. , 13.9, 13.3, 13.1, 10.2, 10.4, 10.9, 11.3, 12.3,  8.8,\n",
       "         7.2, 10.5,  7.4, 10.2, 11.5, 15.1, 23.2,  9.7, 13.8, 12.7, 13.1,\n",
       "        12.5,  8.5,  5. ,  6.3,  5.6,  7.2, 12.1,  8.3,  8.5,  5. , 11.9,\n",
       "        27.9, 17.2, 27.5, 15. , 17.2, 17.9, 16.3,  7. ,  7.2,  7.5, 10.4,\n",
       "         8.8,  8.4, 16.7, 14.2, 20.8, 13.4, 11.7,  8.3, 10.2, 10.9, 11. ,\n",
       "         9.5, 14.5, 14.1, 16.1, 14.3, 11.7, 13.4,  9.6,  8.7,  8.4, 12.8,\n",
       "        10.5, 17.1, 18.4, 15.4, 10.8, 11.8, 14.9, 12.6, 14.1, 13. , 13.4,\n",
       "        15.2, 16.1, 17.8, 14.9, 14.1, 12.7, 13.5, 14.9, 20. , 16.4, 17.7,\n",
       "        19.5, 20.2, 21.4, 19.9, 19. , 19.1, 19.1, 20.1, 19.9, 19.6, 23.2,\n",
       "        29.8, 13.8, 13.3, 16.7, 12. , 14.6, 21.4, 23. , 23.7, 25. , 21.8,\n",
       "        20.6, 21.2, 19.1, 20.6, 15.2,  7. ,  8.1, 13.6, 20.1, 21.8, 24.5,\n",
       "        23.1, 19.7, 18.3, 21.2, 17.5, 16.8, 22.4, 20.6, 23.9, 22. , 11.9]),\n",
       " 'feature_names': array(['CRIM', 'ZN', 'INDUS', 'CHAS', 'NOX', 'RM', 'AGE', 'DIS', 'RAD',\n",
       "        'TAX', 'PTRATIO', 'B', 'LSTAT'], dtype='<U7'),\n",
       " 'DESCR': \"Boston House Prices dataset\\n===========================\\n\\nNotes\\n------\\nData Set Characteristics:  \\n\\n    :Number of Instances: 506 \\n\\n    :Number of Attributes: 13 numeric/categorical predictive\\n    \\n    :Median Value (attribute 14) is usually the target\\n\\n    :Attribute Information (in order):\\n        - CRIM     per capita crime rate by town\\n        - ZN       proportion of residential land zoned for lots over 25,000 sq.ft.\\n        - INDUS    proportion of non-retail business acres per town\\n        - CHAS     Charles River dummy variable (= 1 if tract bounds river; 0 otherwise)\\n        - NOX      nitric oxides concentration (parts per 10 million)\\n        - RM       average number of rooms per dwelling\\n        - AGE      proportion of owner-occupied units built prior to 1940\\n        - DIS      weighted distances to five Boston employment centres\\n        - RAD      index of accessibility to radial highways\\n        - TAX      full-value property-tax rate per $10,000\\n        - PTRATIO  pupil-teacher ratio by town\\n        - B        1000(Bk - 0.63)^2 where Bk is the proportion of blacks by town\\n        - LSTAT    % lower status of the population\\n        - MEDV     Median value of owner-occupied homes in $1000's\\n\\n    :Missing Attribute Values: None\\n\\n    :Creator: Harrison, D. and Rubinfeld, D.L.\\n\\nThis is a copy of UCI ML housing dataset.\\nhttp://archive.ics.uci.edu/ml/datasets/Housing\\n\\n\\nThis dataset was taken from the StatLib library which is maintained at Carnegie Mellon University.\\n\\nThe Boston house-price data of Harrison, D. and Rubinfeld, D.L. 'Hedonic\\nprices and the demand for clean air', J. Environ. Economics & Management,\\nvol.5, 81-102, 1978.   Used in Belsley, Kuh & Welsch, 'Regression diagnostics\\n...', Wiley, 1980.   N.B. Various transformations are used in the table on\\npages 244-261 of the latter.\\n\\nThe Boston house-price data has been used in many machine learning papers that address regression\\nproblems.   \\n     \\n**References**\\n\\n   - Belsley, Kuh & Welsch, 'Regression diagnostics: Identifying Influential Data and Sources of Collinearity', Wiley, 1980. 244-261.\\n   - Quinlan,R. (1993). Combining Instance-Based and Model-Based Learning. In Proceedings on the Tenth International Conference of Machine Learning, 236-243, University of Massachusetts, Amherst. Morgan Kaufmann.\\n   - many more! (see http://archive.ics.uci.edu/ml/datasets/Housing)\\n\"}"
      ]
     },
     "execution_count": 6,
     "metadata": {},
     "output_type": "execute_result"
    }
   ],
   "source": [
    "data"
   ]
  },
  {
   "cell_type": "code",
   "execution_count": 7,
   "metadata": {},
   "outputs": [],
   "source": [
    "x, y = data['data'], data['target']"
   ]
  },
  {
   "cell_type": "code",
   "execution_count": 8,
   "metadata": {},
   "outputs": [],
   "source": [
    "x_rm = x[:, 5]"
   ]
  },
  {
   "cell_type": "code",
   "execution_count": 9,
   "metadata": {
    "scrolled": true
   },
   "outputs": [
    {
     "data": {
      "text/plain": [
       "<matplotlib.collections.PathCollection at 0x16235efe588>"
      ]
     },
     "execution_count": 9,
     "metadata": {},
     "output_type": "execute_result"
    },
    {
     "data": {
      "image/png": "[encoded data removed]",
      "text/plain": [
       "<Figure size 432x288 with 1 Axes>"
      ]
     },
     "metadata": {
      "needs_background": "light"
     },
     "output_type": "display_data"
    }
   ],
   "source": [
    "plt.scatter(x_rm, y)"
   ]
  },
  {
   "cell_type": "code",
   "execution_count": 3,
   "metadata": {},
   "outputs": [],
   "source": [
    "#目测成线性\n",
    "def price(rm, k, b):\n",
    "    return k * rm + b"
   ]
  },
  {
   "cell_type": "code",
   "execution_count": 111,
   "metadata": {},
   "outputs": [
    {
     "data": {
      "text/plain": [
       "<matplotlib.collections.PathCollection at 0x2c33d173828>"
      ]
     },
     "execution_count": 111,
     "metadata": {},
     "output_type": "execute_result"
    },
    {
     "data": {
      "image/png": "[encoded data removed]",
      "text/plain": [
       "<Figure size 432x288 with 1 Axes>"
      ]
     },
     "metadata": {
      "needs_background": "light"
     },
     "output_type": "display_data"
    }
   ],
   "source": [
    "x_crim = x[:, 0]\n",
    "plt.scatter(x_crim, y)"
   ]
  },
  {
   "cell_type": "code",
   "execution_count": 112,
   "metadata": {},
   "outputs": [
    {
     "data": {
      "text/plain": [
       "<matplotlib.collections.PathCollection at 0x2c33d1ca0b8>"
      ]
     },
     "execution_count": 112,
     "metadata": {},
     "output_type": "execute_result"
    },
    {
     "data": {
      "image/png": "[encoded data removed]",
      "text/plain": [
       "<Figure size 432x288 with 1 Axes>"
      ]
     },
     "metadata": {
      "needs_background": "light"
     },
     "output_type": "display_data"
    }
   ],
   "source": [
    "x_tax = x[:, 9]\n",
    "plt.scatter(x_tax, y)"
   ]
  },
  {
   "cell_type": "code",
   "execution_count": 35,
   "metadata": {
    "scrolled": true
   },
   "outputs": [
    {
     "data": {
      "text/plain": [
       "<matplotlib.collections.PathCollection at 0x2c33a0b6780>"
      ]
     },
     "execution_count": 35,
     "metadata": {},
     "output_type": "execute_result"
    },
    {
     "data": {
      "image/png": "[encoded data removed]",
      "text/plain": [
       "<Figure size 432x288 with 1 Axes>"
      ]
     },
     "metadata": {
      "needs_background": "light"
     },
     "output_type": "display_data"
    }
   ],
   "source": [
    "k = random.randint(0, 10)\n",
    "b = random.randint(-100, 100)\n",
    "price_by_kb = [price(x, k, b) for x in x_rm]\n",
    "\n",
    "plt.scatter(x_rm, y)\n",
    "plt.scatter(x_rm, price_by_kb)"
   ]
  },
  {
   "cell_type": "markdown",
   "metadata": {},
   "source": [
    "#### LOSS展开\n",
    "$$ loss = \\frac{1}{n} \\sum{(y_i - \\hat{y_i})}^2$$\n",
    "$$ loss = \\frac{1}{n} \\sum{(y_i - (kx_i + b_i))}^2 $$\n",
    "$$ \\frac{\\partial{loss}}{\\partial{k}} = -\\frac{2}{n}\\sum(y_i - (kx_i + b_i))x_i$$\n",
    "$$ \\frac{\\partial{loss}}{\\partial{k}} = -\\frac{2}{n}\\sum(y_i - \\hat{y_i})x_i$$\n",
    "$$ \\frac{\\partial{loss}}{\\partial{b}} = -\\frac{2}{n}\\sum(y_i - \\hat{y_i})$$"
   ]
  },
  {
   "cell_type": "code",
   "execution_count": 72,
   "metadata": {},
   "outputs": [],
   "source": [
    "def loss(y, y_hat):\n",
    "    return sum((y_i - y_hat_i)**2 for y_i, y_hat_i in zip(list(y), list(y_hat))) / len(list(y))"
   ]
  },
  {
   "cell_type": "markdown",
   "metadata": {},
   "source": [
    "### 1.1 random generation\n",
    "#### 随机生成k,b"
   ]
  },
  {
   "cell_type": "code",
   "execution_count": 56,
   "metadata": {},
   "outputs": [],
   "source": [
    "def random_price():\n",
    "    trying_times = 5000\n",
    "\n",
    "    min_loss = float('inf')\n",
    "    best_k, best_b = None, None\n",
    "\n",
    "    for i in range(trying_times):\n",
    "        k = random.random() * 10\n",
    "        b = random.random() * 200 - 100\n",
    "        price_by_random = [price(x, k, b) for x in x_rm]\n",
    "\n",
    "        current_loss = loss(y,price_by_random)\n",
    "        if current_loss < min_loss:\n",
    "            min_loss = current_loss\n",
    "            best_k, best_b = k, b\n",
    "    return (k, b, min_loss)"
   ]
  },
  {
   "cell_type": "code",
   "execution_count": 67,
   "metadata": {},
   "outputs": [
    {
     "name": "stdout",
     "output_type": "stream",
     "text": [
      "8.74678082848622 -29.611385386170213 43.75492787187981\n"
     ]
    },
    {
     "data": {
      "text/plain": [
       "<matplotlib.collections.PathCollection at 0x2c33a39e9e8>"
      ]
     },
     "execution_count": 67,
     "metadata": {},
     "output_type": "execute_result"
    },
    {
     "data": {
      "image/png": "[encoded data removed]",
      "text/plain": [
       "<Figure size 432x288 with 1 Axes>"
      ]
     },
     "metadata": {
      "needs_background": "light"
     },
     "output_type": "display_data"
    }
   ],
   "source": [
    "best_k, best_b, min_loss = random_price()\n",
    "print(best_k, best_b, min_loss)\n",
    "plt.scatter(x_rm, y)\n",
    "plt.scatter(x_rm, [price(x, best_k, best_b) for x in x_rm])"
   ]
  },
  {
   "cell_type": "markdown",
   "metadata": {},
   "source": [
    "#### 8.74678082848622 -29.611385386170213 43.75492787187981(k, b, min_loss)"
   ]
  },
  {
   "cell_type": "markdown",
   "metadata": {},
   "source": [
    "### 1.2 direction adjusting\n",
    "#### 让k,b，沿着一定的方向"
   ]
  },
  {
   "cell_type": "code",
   "execution_count": 91,
   "metadata": {},
   "outputs": [],
   "source": [
    "def direct_price():\n",
    "    trying_times = 2000\n",
    "\n",
    "    min_loss = float('inf')\n",
    "\n",
    "    k = random.random() * 10\n",
    "    b = random.random() * 200 - 100\n",
    "\n",
    "    direction = [\n",
    "        #k, b\n",
    "        ( 1,  1),\n",
    "        ( 1, -1),\n",
    "        (-1,  1),\n",
    "        (-1, -1)\n",
    "    ]\n",
    "\n",
    "    next_direction = random.choice(direction)\n",
    "\n",
    "    for i in range(trying_times):\n",
    "        k_direct, b_direct = next_direction\n",
    "        current_k, current_b = k + k_direct * 0.1, b + b_direct * 0.1\n",
    "        price_by_direct = [price(x, current_k, current_b) for x in x_rm]\n",
    "        current_loss = loss(y, price_by_direct)\n",
    "\n",
    "        if current_loss < min_loss:\n",
    "            min_loss = current_loss\n",
    "            best_k, best_b = current_k, current_b\n",
    "        else:\n",
    "            next_direction = random.choice(direction)\n",
    "    return (best_k, best_b, min_loss)"
   ]
  },
  {
   "cell_type": "code",
   "execution_count": 108,
   "metadata": {},
   "outputs": [
    {
     "name": "stdout",
     "output_type": "stream",
     "text": [
      "8.42606489704304 -24.998816595833084 73.23589954311069\n"
     ]
    },
    {
     "data": {
      "text/plain": [
       "<matplotlib.collections.PathCollection at 0x2c33d0889e8>"
      ]
     },
     "execution_count": 108,
     "metadata": {},
     "output_type": "execute_result"
    },
    {
     "data": {
      "image/png": "[encoded data removed]",
      "text/plain": [
       "<Figure size 432x288 with 1 Axes>"
      ]
     },
     "metadata": {
      "needs_background": "light"
     },
     "output_type": "display_data"
    }
   ],
   "source": [
    "best_k, best_b, min_loss = direct_price()\n",
    "print(best_k, best_b, min_loss)\n",
    "plt.scatter(x_rm, y)\n",
    "plt.scatter(x_rm, [price(x, best_k, best_b) for x in x_rm])"
   ]
  },
  {
   "cell_type": "markdown",
   "metadata": {},
   "source": [
    "#### 8.42606489704304 -24.998816595833084 73.23589954311069(k, b, min_loss)"
   ]
  },
  {
   "cell_type": "markdown",
   "metadata": {},
   "source": [
    "### 1.3 gradient descent\n",
    "##### https://www.cnblogs.com/pinard/p/5970503.html\n",
    "#### 梯度下降"
   ]
  },
  {
   "cell_type": "markdown",
   "metadata": {},
   "source": [
    "$$ \\frac{\\partial{loss}}{\\partial{k}} = -\\frac{2}{n}\\sum(y_i - \\hat{y_i})x_i$$\n",
    "$$ \\frac{\\partial{loss}}{\\partial{b}} = -\\frac{2}{n}\\sum(y_i - \\hat{y_i})$$"
   ]
  },
  {
   "cell_type": "code",
   "execution_count": 73,
   "metadata": {},
   "outputs": [],
   "source": [
    "def partial_k(x, y, y_hat):\n",
    "    return sum([(y_i - y_hat_i) * x_i for x_i, y_i, y_hat_i in zip(list(x), list(y), list(y_hat))]) * (-2 / len(y))\n",
    "\n",
    "def partial_b(y, y_hat):\n",
    "    return sum([(y_i - y_hat_i) for y_i, y_hat_i in zip(list(y), list(y_hat))]) * (-2 / len(y))"
   ]
  },
  {
   "cell_type": "code",
   "execution_count": 77,
   "metadata": {},
   "outputs": [],
   "source": [
    "def gradient_price():\n",
    "    trying_times = 2000\n",
    "\n",
    "    min_loss = float('inf')\n",
    "\n",
    "    k = random.random() * 10\n",
    "    b = random.random() * 200 - 100\n",
    "    learning_rate = 1e-02\n",
    "\n",
    "    for i in range(trying_times):\n",
    "        price_by_gradient = [price(x, k, b) for x in x_rm]\n",
    "        current_loss = loss(y, price_by_gradient)\n",
    "\n",
    "        if current_loss < min_loss:\n",
    "            min_loss = current_loss\n",
    "            if i % 50 == 0: \n",
    "                print('When time is: {}, best_k: {}, best_b: {}, loss: {}'.format(i, k, b, min_loss))\n",
    "            \n",
    "        k_gradient = partial_k(x_rm, y, price_by_gradient)\n",
    "        b_gradient = partial_b(y, price_by_gradient)\n",
    "        \n",
    "        k += (-1 * k_gradient) * learning_rate\n",
    "        b += (-1 * b_gradient) * learning_rate\n",
    "\n",
    "    return (k, b, min_loss)"
   ]
  },
  {
   "cell_type": "code",
   "execution_count": 81,
   "metadata": {
    "scrolled": false
   },
   "outputs": [
    {
     "name": "stdout",
     "output_type": "stream",
     "text": [
      "When time is: 0, best_k: 5.321566543691272, best_b: -78.07052145945859, loss: 4561.00426241698\n",
      "When time is: 50, best_k: 15.590575818162305, best_b: -75.94452402837472, loss: 64.58939526656926\n",
      "When time is: 100, best_k: 15.51301886911198, best_b: -75.45117512299487, loss: 64.09063278907624\n",
      "When time is: 150, best_k: 15.436388961918704, best_b: -74.96372324026764, loss: 63.603722513397436\n",
      "When time is: 200, best_k: 15.360675015607601, best_b: -74.48209789280415, loss: 63.12838279306949\n",
      "When time is: 250, best_k: 15.285866081655197, best_b: -74.00622943575456, loss: 62.66433867445559\n",
      "When time is: 300, best_k: 15.211951342406222, best_b: -73.53604905673713, loss: 62.21132173770222\n",
      "When time is: 350, best_k: 15.138920109509371, best_b: -73.07148876588785, loss: 61.76906994147552\n",
      "When time is: 400, best_k: 15.06676182237169, best_b: -72.6124813860287, loss: 61.3373274713873\n",
      "When time is: 450, best_k: 14.9954660466315, best_b: -72.1589605429537, loss: 60.9158445920225\n",
      "When time is: 500, best_k: 14.925022472649516, best_b: -71.71086065583069, loss: 60.50437750248327\n",
      "When time is: 550, best_k: 14.85542091401808, best_b: -71.26811692771847, loss: 60.10268819536595\n",
      "When time is: 600, best_k: 14.786651306088123, best_b: -70.83066533619662, loss: 59.7105443190888\n",
      "When time is: 650, best_k: 14.718703704513825, best_b: -70.39844262410779, loss: 59.32771904349151\n",
      "When time is: 700, best_k: 14.651568283814573, best_b: -69.97138629041035, loss: 58.95399092862849\n",
      "When time is: 750, best_k: 14.585235335954204, best_b: -69.5494345811406, loss: 58.589143796679934\n",
      "When time is: 800, best_k: 14.519695268937156, best_b: -69.13252648048284, loss: 58.23296660690702\n",
      "When time is: 850, best_k: 14.454938605421452, best_b: -68.72060170194632, loss: 57.8852533335779\n",
      "When time is: 900, best_k: 14.390955981348204, best_b: -68.31360067964742, loss: 57.54580284679539\n",
      "When time is: 950, best_k: 14.32773814458759, best_b: -67.91146455969648, loss: 57.21441879615601\n",
      "When time is: 1000, best_k: 14.265275953600913, best_b: -67.51413519168707, loss: 56.89090949717385\n",
      "When time is: 1050, best_k: 14.203560376118721, best_b: -67.12155512028731, loss: 56.57508782040332\n",
      "When time is: 1100, best_k: 14.142582487834714, best_b: -66.73366757693168, loss: 56.266771083196886\n",
      "When time is: 1150, best_k: 14.08233347111523, best_b: -66.35041647161188, loss: 55.965780944034485\n",
      "When time is: 1200, best_k: 14.02280461372421, best_b: -65.97174638476619, loss: 55.671943299364884\n",
      "When time is: 1250, best_k: 13.963987307563343, best_b: -65.59760255926545, loss: 55.38508818289737\n",
      "When time is: 1300, best_k: 13.90587304742734, best_b: -65.22793089249511, loss: 55.105049667287425\n",
      "When time is: 1350, best_k: 13.848453429774032, best_b: -64.86267792853172, loss: 54.83166576815844\n",
      "When time is: 1400, best_k: 13.791720151509171, best_b: -64.50179085041295, loss: 54.564778350403756\n",
      "When time is: 1450, best_k: 13.735665008785771, best_b: -64.14521747249995, loss: 54.304233036715914\n",
      "When time is: 1500, best_k: 13.680279895817849, best_b: -63.79290623293155, loss: 54.04987911828918\n",
      "When time is: 1550, best_k: 13.625556803708246, best_b: -63.444806186167796, loss: 53.80156946764417\n",
      "When time is: 1600, best_k: 13.571487819290539, best_b: -63.10086699562322, loss: 53.55916045352392\n",
      "When time is: 1650, best_k: 13.518065123984732, best_b: -62.76103892638782, loss: 53.32251185781243\n",
      "When time is: 1700, best_k: 13.4652809926667, best_b: -62.42527283803538, loss: 53.09148679442742\n",
      "When time is: 1750, best_k: 13.413127792551084, best_b: -62.0935201775175, loss: 52.86595163014063\n",
      "When time is: 1800, best_k: 13.361597982087572, best_b: -61.765732972142665, loss: 52.64577590727923\n",
      "When time is: 1850, best_k: 13.310684109870351, best_b: -61.44186382263917, loss: 52.430832268264766\n",
      "When time is: 1900, best_k: 13.260378813560614, best_b: -61.121865896301024, loss: 52.220996381944744\n",
      "When time is: 1950, best_k: 13.210674818821937, best_b: -60.805692920215805, loss: 52.016146871674984\n",
      "13.161564938268384 -60.49329917457337 51.82011792515594\n"
     ]
    },
    {
     "data": {
      "text/plain": [
       "<matplotlib.collections.PathCollection at 0x16237841e48>"
      ]
     },
     "execution_count": 81,
     "metadata": {},
     "output_type": "execute_result"
    },
    {
     "data": {
      "image/png": "[encoded data removed]",
      "text/plain": [
       "<Figure size 432x288 with 1 Axes>"
      ]
     },
     "metadata": {
      "needs_background": "light"
     },
     "output_type": "display_data"
    }
   ],
   "source": [
    "best_k, best_b, min_loss = gradient_price()\n",
    "print(best_k, best_b, min_loss)\n",
    "plt.scatter(x_rm, y)\n",
    "plt.scatter(x_rm, [price(x, best_k, best_b) for x in x_rm])"
   ]
  },
  {
   "cell_type": "markdown",
   "metadata": {},
   "source": [
    "### new loss\n",
    "$$ Loss = \\frac{1}{n} sum(|{y_i - \\hat{y_i}}|) $$\n",
    "\n",
    "$$y_i > \\hat{y_i}$$\n",
    "$$ \\frac{\\partial{loss}}{\\partial{k}} = \\frac{1}{n}\\sum(-x_i)$$\n",
    "$$y_i < \\hat{y_i}$$\n",
    "$$ \\frac{\\partial{loss}}{\\partial{b}} = \\frac{1}{n}\\sum(-1)$$\n",
    "\n",
    "$$y_i < \\hat{y_i}$$\n",
    "$$ \\frac{\\partial{loss}}{\\partial{k}} = \\frac{1}{n}\\sum(x_i)$$\n",
    "$$y_i < \\hat{y_i}$$\n",
    "$$ \\frac{\\partial{loss}}{\\partial{b}} = \\frac{1}{n}\\sum(1)$$"
   ]
  },
  {
   "cell_type": "code",
   "execution_count": 82,
   "metadata": {},
   "outputs": [],
   "source": [
    "def new_loss(y, y_hat):\n",
    "    return sum(abs(y_i - y_hat_i) for y_i, y_hat_i in zip(list(y), list(y_hat))) / len(list(y))"
   ]
  },
  {
   "cell_type": "code",
   "execution_count": 83,
   "metadata": {},
   "outputs": [],
   "source": [
    "def new_partial_k(x, y, y_hat):\n",
    "    return sum([-1 * x_i if y_i > y_hat_i else x_i for x_i, y_i, y_hat_i in zip(list(x), list(y), list(y_hat))]) / len(list(y))\n",
    "\n",
    "def new_partial_b(y, y_hat):\n",
    "    return sum([-1 if y_i > y_hat_i else 1 for y_i, y_hat_i in zip(list(y), list(y_hat))]) / len(list(y))"
   ]
  },
  {
   "cell_type": "code",
   "execution_count": 84,
   "metadata": {},
   "outputs": [],
   "source": [
    "def new_gradient_price():\n",
    "    trying_times = 2000\n",
    "\n",
    "    min_loss = float('inf')\n",
    "\n",
    "    k = random.random() * 10\n",
    "    b = random.random() * 200 - 100\n",
    "    learning_rate = 1e-02\n",
    "\n",
    "    for i in range(trying_times):\n",
    "        price_by_gradient = [price(x, k, b) for x in x_rm]\n",
    "        current_loss = new_loss(y, price_by_gradient)\n",
    "\n",
    "        if current_loss < min_loss:\n",
    "            min_loss = current_loss\n",
    "            \n",
    "            if i % 50 == 0: \n",
    "                print('When time is: {}, best_k: {}, best_b: {}, loss: {}'.format(i, k, b, min_loss))\n",
    "        k_gradient = new_partial_k(x_rm, y, price_by_gradient)\n",
    "        b_gradient = new_partial_b(y, price_by_gradient)\n",
    "        \n",
    "        k += (-1 * k_gradient) * learning_rate\n",
    "        b += (-1 * b_gradient) * learning_rate\n",
    "\n",
    "    return (k, b, min_loss)"
   ]
  },
  {
   "cell_type": "code",
   "execution_count": 92,
   "metadata": {
    "scrolled": false
   },
   "outputs": [
    {
     "name": "stdout",
     "output_type": "stream",
     "text": [
      "When time is: 0, best_k: 1.6352580178635445, best_b: 3.094959260732651, loss: 9.754800032494817\n",
      "When time is: 50, best_k: 2.910731061341808, best_b: 3.282706296305773, loss: 5.585392710660722\n",
      "When time is: 100, best_k: 2.9732078597607825, best_b: 3.2693466125113, loss: 5.570971012818559\n",
      "When time is: 150, best_k: 2.978814183871452, best_b: 3.246698391167436, loss: 5.569862085796478\n",
      "When time is: 200, best_k: 2.982461614701488, best_b: 3.223733964289975, loss: 5.568780194871757\n",
      "When time is: 250, best_k: 2.9861090455315242, best_b: 3.2007695374125142, loss: 5.5676994301348754\n",
      "When time is: 300, best_k: 2.9900013380216395, best_b: 3.177844636226753, loss: 5.566618779901606\n",
      "When time is: 350, best_k: 2.9936487688516755, best_b: 3.154880209349292, loss: 5.565536888976885\n",
      "When time is: 400, best_k: 2.9972961996817116, best_b: 3.131915782471831, loss: 5.56445499805218\n",
      "When time is: 450, best_k: 3.0009436305117476, best_b: 3.10895135559437, loss: 5.563373908919498\n",
      "When time is: 500, best_k: 3.0045910613417837, best_b: 3.0859869287169093, loss: 5.562293474883659\n",
      "When time is: 550, best_k: 3.008483353831899, best_b: 3.063062027531148, loss: 5.561211692157309\n",
      "When time is: 600, best_k: 3.012130784661935, best_b: 3.040097600653687, loss: 5.560129801232592\n",
      "When time is: 650, best_k: 3.015778215491971, best_b: 3.017133173776226, loss: 5.559048387704124\n",
      "When time is: 700, best_k: 3.019425646322007, best_b: 2.994168746898765, loss: 5.557967953668282\n",
      "When time is: 750, best_k: 3.0233179388121223, best_b: 2.971243845713004, loss: 5.556886495337714\n",
      "When time is: 800, best_k: 3.0269653696421583, best_b: 2.948279418835543, loss: 5.555804604412998\n",
      "When time is: 850, best_k: 3.0306128004721944, best_b: 2.925314991958082, loss: 5.554722866488749\n",
      "When time is: 900, best_k: 3.03468742497812, best_b: 2.9024296164640195, loss: 5.553645430644934\n",
      "When time is: 950, best_k: 3.0386264763615176, best_b: 2.8796232923533567, loss: 5.552571624788413\n",
      "When time is: 1000, best_k: 3.0423581364405714, best_b: 2.8568960196260935, loss: 5.551510675929083\n",
      "When time is: 1050, best_k: 3.0460017332785205, best_b: 2.83420827259053, loss: 5.550455639549434\n",
      "When time is: 1100, best_k: 3.0493940257686436, best_b: 2.811480999863267, loss: 5.54939914049544\n",
      "When time is: 1150, best_k: 3.0530376226065927, best_b: 2.7887932528277033, loss: 5.548342239355709\n",
      "When time is: 1200, best_k: 3.056681219444542, best_b: 2.7661055057921398, loss: 5.547287202976061\n",
      "When time is: 1250, best_k: 3.060073511934665, best_b: 2.7433782330648766, loss: 5.546231504687906\n",
      "When time is: 1300, best_k: 3.063710666084867, best_b: 2.7206904860293126, loss: 5.545174702689738\n",
      "When time is: 1350, best_k: 3.0673027214208415, best_b: 2.6980027389937455, loss: 5.5441189982530465\n",
      "When time is: 1400, best_k: 3.0710945396026648, best_b: 2.6753545176498768, loss: 5.54306612638722\n",
      "When time is: 1450, best_k: 3.074577069246932, best_b: 2.6526667706143128, loss: 5.54201145650809\n",
      "When time is: 1500, best_k: 3.07829801786353, best_b: 2.630018549270449, loss: 5.540957444436247\n",
      "When time is: 1550, best_k: 3.082018966480128, best_b: 2.607370327926585, loss: 5.539904729935156\n",
      "When time is: 1600, best_k: 3.0854950534366474, best_b: 2.5846825808910214, loss: 5.538851395452226\n",
      "When time is: 1650, best_k: 3.0892160020532455, best_b: 2.5620343595471575, loss: 5.537797087847047\n",
      "When time is: 1700, best_k: 3.0929369506698436, best_b: 2.5393861382032936, loss: 5.536743296240286\n",
      "When time is: 1750, best_k: 3.0966578992864418, best_b: 2.5167379168594297, loss: 5.535690581739208\n",
      "When time is: 1800, best_k: 3.100133986242961, best_b: 2.494050169823866, loss: 5.53463702679118\n",
      "When time is: 1850, best_k: 3.103854934859559, best_b: 2.4714019484800023, loss: 5.5335827191859925\n",
      "When time is: 1900, best_k: 3.1075758834761573, best_b: 2.4487537271361384, loss: 5.532529148044339\n",
      "When time is: 1950, best_k: 3.1112968320927554, best_b: 2.4261055057922745, loss: 5.531476433543252\n",
      "3.114772919049275 2.403417758756711 5.530443259844049\n"
     ]
    },
    {
     "data": {
      "text/plain": [
       "<matplotlib.collections.PathCollection at 0x16238a8bdd8>"
      ]
     },
     "execution_count": 92,
     "metadata": {},
     "output_type": "execute_result"
    },
    {
     "data": {
      "image/png": "[encoded data removed]",
      "text/plain": [
       "<Figure size 432x288 with 1 Axes>"
      ]
     },
     "metadata": {
      "needs_background": "light"
     },
     "output_type": "display_data"
    }
   ],
   "source": [
    "k, b, min_loss = new_gradient_price()\n",
    "print(k, b, min_loss)\n",
    "plt.scatter(x_rm, y)\n",
    "plt.scatter(x_rm, [price(x, best_k, best_b) for x in x_rm])"
   ]
  },
  {
   "cell_type": "markdown",
   "metadata": {},
   "source": [
    "## 2. Answer following questions:\n",
    "\n",
    "\n",
    "###### 1. Why do we need machine learning methods instead of creating a complicated formula?\n"
   ]
  },
  {
   "cell_type": "markdown",
   "metadata": {},
   "source": [
    "Ans: 公式有时并不是那么显而易见，可能需要筛除很多无用数据才能得到，而太复杂的可能本身就没有公式。所以我们才需要用机器学习来找出一个最优解。"
   ]
  },
  {
   "cell_type": "markdown",
   "metadata": {},
   "source": [
    "###### 2.  Wha't's the disadvantages of `the 1st Random Choosen` methods in our course? "
   ]
  },
  {
   "cell_type": "markdown",
   "metadata": {},
   "source": [
    "Ans: 不能保持往损失减少的方向进行，随机范围太广或太窄都不不利于得出最优解，而且波动会比较大，不太容易找到最优解。"
   ]
  },
  {
   "cell_type": "markdown",
   "metadata": {},
   "source": [
    "###### 3. Is the `2nd method supervised direction` better than 1st one?  What's the disadvantages of `the 2nd supversied directin` method? "
   ]
  },
  {
   "cell_type": "markdown",
   "metadata": {},
   "source": [
    "Ans: 比第一种要有优势，至少可以保持某一个单方向的更优解，但是劣势也是很明显的，在极值处会重新选取随机点，这样也不利于寻找到最优解。"
   ]
  },
  {
   "cell_type": "markdown",
   "metadata": {},
   "source": [
    "###### 4. Why do we use `Derivative / Gradient` to fit a target function? "
   ]
  },
  {
   "cell_type": "markdown",
   "metadata": {},
   "source": [
    "Ans: Derivative为导数的意思，导数可以让我们知道数据变化的趋势，Gradient为梯度的意思，结合起来理解就是我们可以知道数据变化的梯度，在梯度上升时，我们需要将导数趋于小，梯度下降，我们需要将导数趋于大。通过这样不断调节，去找到最优解。"
   ]
  },
  {
   "cell_type": "markdown",
   "metadata": {},
   "source": [
    "###### 5. In the words 'Gredient Descent', what's the `Gradient` and what's the `Descent`?"
   ]
  },
  {
   "cell_type": "markdown",
   "metadata": {},
   "source": [
    "Ans: 在微积分里面，对多元函数的参数求∂偏导数，把求得的各个参数的偏导数以向量的形式写出来，就是梯度。在最小化损失函数时，可以通过梯度下降法来一步步的迭代求解，得到最小化的损失函数和模型参数值。"
   ]
  },
  {
   "cell_type": "markdown",
   "metadata": {},
   "source": [
    "###### 6. What's the advantages of `the 3rd gradient descent method` compared to the previous methods?"
   ]
  },
  {
   "cell_type": "markdown",
   "metadata": {},
   "source": [
    "Ans: 函数可以预知函数值的方向，更好的做出调节，如果次数足够多，可以得出很接近的最优解。"
   ]
  },
  {
   "cell_type": "markdown",
   "metadata": {},
   "source": [
    "###### 7. Using the simple words to describe: What's the machine leanring."
   ]
  },
  {
   "cell_type": "markdown",
   "metadata": {},
   "source": [
    "Ans: （Machine learning is programming computers to optimize a performance criterion using example data or past experience.————Alpaydin） So on.\n",
    "自己理解：利用大量数据及数学工具，让计算机帮我们找出最优决策。"
   ]
  },
  {
   "cell_type": "markdown",
   "metadata": {},
   "source": [
    "## 3. Finish the search problem"
   ]
  },
  {
   "cell_type": "code",
   "execution_count": 94,
   "metadata": {},
   "outputs": [],
   "source": [
    "import requests\n",
    "import json"
   ]
  },
  {
   "cell_type": "code",
   "execution_count": 95,
   "metadata": {},
   "outputs": [],
   "source": [
    "#download data\n",
    "url = \"http://map.amap.com/service/subway?_1563091274457&srhdata=3100_drw_shanghai.json\"\n",
    "\n",
    "headers = {\n",
    "    'Host': 'map.amap.com',\n",
    "    'Referer': 'http://map.amap.com/subway/index.html?&3100',\n",
    "    'Cache-Control': 'max-age=0',\n",
    "    'User-Agent': 'Mozilla/5.0 (Windows NT 10.0; Win64; x64) AppleWebKit/537.36 (KHTML, like Gecko) Chrome/64.0.3282.140 Safari/537.36 Edge/17.17134',\n",
    "    'Accept': 'application/json, text/javascript, */*; q=0.01',\n",
    "    'Accept-Encoding': 'gzip, deflate',\n",
    "    'Accept-Language': 'en-US,en;q=0.9'\n",
    "}\n",
    "\n",
    "r = requests.get(url=url, headers=headers)\n",
    "response = r.text\n",
    "with open(\"SH_Subway.txt\", 'w', encoding='utf-8') as f:\n",
    "    f.write(response)"
   ]
  },
  {
   "cell_type": "code",
   "execution_count": 97,
   "metadata": {
    "scrolled": false
   },
   "outputs": [],
   "source": [
    "#read data\n",
    "with open(\"SH_Subway.txt\", 'r', encoding='utf-8') as f:\n",
    "    data = json.load(f)"
   ]
  },
  {
   "cell_type": "code",
   "execution_count": 98,
   "metadata": {},
   "outputs": [],
   "source": [
    "station = {}\n",
    "location = {}\n",
    "subway_lines = len(data['l'])\n",
    "for i in range(subway_lines):\n",
    "    subway_name = data['l'][i]['kn']\n",
    "    x_list = []\n",
    "    for j in range(len(data['l'][i]['st'])):\n",
    "        station_name = data['l'][i]['st'][j]['n']\n",
    "        station_position = data['l'][i]['st'][j]['sl']\n",
    "        x_list.append(station_name)\n",
    "        location[station_name] = station_position\n",
    "    station[subway_name] = x_list"
   ]
  },
  {
   "cell_type": "code",
   "execution_count": 99,
   "metadata": {
    "scrolled": false
   },
   "outputs": [
    {
     "data": {
      "text/plain": [
       "{'地铁1号线': ['莘庄',\n",
       "  '外环路',\n",
       "  '莲花路',\n",
       "  '锦江乐园',\n",
       "  '上海南站',\n",
       "  '漕宝路',\n",
       "  '上海体育馆',\n",
       "  '徐家汇',\n",
       "  '衡山路',\n",
       "  '常熟路',\n",
       "  '陕西南路',\n",
       "  '黄陂南路',\n",
       "  '人民广场',\n",
       "  '新闸路',\n",
       "  '汉中路',\n",
       "  '上海火车站',\n",
       "  '中山北路',\n",
       "  '延长路',\n",
       "  '上海马戏城',\n",
       "  '汶水路',\n",
       "  '彭浦新村',\n",
       "  '共康路',\n",
       "  '通河新村',\n",
       "  '呼兰路',\n",
       "  '共富新村',\n",
       "  '宝安公路',\n",
       "  '友谊西路',\n",
       "  '富锦路'],\n",
       " '地铁2号线': ['广兰路',\n",
       "  '金科路',\n",
       "  '张江高科',\n",
       "  '龙阳路',\n",
       "  '世纪公园',\n",
       "  '上海科技馆',\n",
       "  '世纪大道',\n",
       "  '东昌路',\n",
       "  '陆家嘴',\n",
       "  '南京东路',\n",
       "  '人民广场',\n",
       "  '南京西路',\n",
       "  '静安寺',\n",
       "  '江苏路',\n",
       "  '中山公园',\n",
       "  '娄山关路',\n",
       "  '威宁路',\n",
       "  '北新泾',\n",
       "  '淞虹路',\n",
       "  '虹桥2号航站楼',\n",
       "  '虹桥火车站',\n",
       "  '徐泾东'],\n",
       " '地铁2号线东延线': ['浦东国际机场',\n",
       "  '海天三路',\n",
       "  '远东大道',\n",
       "  '凌空路',\n",
       "  '川沙',\n",
       "  '华夏东路',\n",
       "  '创新中路',\n",
       "  '唐镇',\n",
       "  '广兰路'],\n",
       " '地铁3号线': ['江杨北路',\n",
       "  '铁力路',\n",
       "  '友谊路',\n",
       "  '宝杨路',\n",
       "  '水产路',\n",
       "  '淞滨路',\n",
       "  '张华浜',\n",
       "  '淞发路',\n",
       "  '长江南路',\n",
       "  '殷高西路',\n",
       "  '江湾镇',\n",
       "  '大柏树',\n",
       "  '赤峰路',\n",
       "  '虹口足球场',\n",
       "  '东宝兴路',\n",
       "  '宝山路',\n",
       "  '上海火车站',\n",
       "  '中潭路',\n",
       "  '镇坪路',\n",
       "  '曹杨路',\n",
       "  '金沙江路',\n",
       "  '中山公园',\n",
       "  '延安西路',\n",
       "  '虹桥路',\n",
       "  '宜山路',\n",
       "  '漕溪路',\n",
       "  '龙漕路',\n",
       "  '石龙路',\n",
       "  '上海南站'],\n",
       " '地铁4号线': ['宜山路',\n",
       "  '虹桥路',\n",
       "  '延安西路',\n",
       "  '中山公园',\n",
       "  '金沙江路',\n",
       "  '曹杨路',\n",
       "  '镇坪路',\n",
       "  '中潭路',\n",
       "  '上海火车站',\n",
       "  '宝山路',\n",
       "  '海伦路',\n",
       "  '临平路',\n",
       "  '大连路',\n",
       "  '杨树浦路',\n",
       "  '浦东大道',\n",
       "  '世纪大道',\n",
       "  '浦电路(4号线)',\n",
       "  '蓝村路',\n",
       "  '塘桥',\n",
       "  '南浦大桥',\n",
       "  '西藏南路',\n",
       "  '鲁班路',\n",
       "  '大木桥路',\n",
       "  '东安路',\n",
       "  '上海体育场',\n",
       "  '上海体育馆'],\n",
       " '地铁5号线': ['莘庄',\n",
       "  '春申路',\n",
       "  '银都路',\n",
       "  '颛桥',\n",
       "  '北桥',\n",
       "  '剑川路',\n",
       "  '东川路',\n",
       "  '江川路',\n",
       "  '西渡',\n",
       "  '萧塘',\n",
       "  '奉浦大道',\n",
       "  '环城东路',\n",
       "  '望园路',\n",
       "  '金海湖',\n",
       "  '奉贤新城'],\n",
       " '地铁6号线': ['东方体育中心',\n",
       "  '灵岩南路',\n",
       "  '上南路',\n",
       "  '华夏西路',\n",
       "  '高青路',\n",
       "  '东明路',\n",
       "  '高科西路',\n",
       "  '临沂新村',\n",
       "  '上海儿童医学中心',\n",
       "  '蓝村路',\n",
       "  '浦电路(6号线)',\n",
       "  '世纪大道',\n",
       "  '源深体育中心',\n",
       "  '民生路',\n",
       "  '北洋泾路',\n",
       "  '德平路',\n",
       "  '云山路',\n",
       "  '金桥路',\n",
       "  '博兴路',\n",
       "  '五莲路',\n",
       "  '巨峰路',\n",
       "  '东靖路',\n",
       "  '五洲大道',\n",
       "  '洲海路',\n",
       "  '外高桥保税区南',\n",
       "  '航津路',\n",
       "  '外高桥保税区北',\n",
       "  '港城路'],\n",
       " '地铁7号线': ['花木路',\n",
       "  '龙阳路',\n",
       "  '芳华路',\n",
       "  '锦绣路',\n",
       "  '杨高南路',\n",
       "  '高科西路',\n",
       "  '云台路',\n",
       "  '耀华路',\n",
       "  '长清路',\n",
       "  '后滩',\n",
       "  '龙华中路',\n",
       "  '东安路',\n",
       "  '肇嘉浜路',\n",
       "  '常熟路',\n",
       "  '静安寺',\n",
       "  '昌平路',\n",
       "  '长寿路',\n",
       "  '镇坪路',\n",
       "  '岚皋路',\n",
       "  '新村路',\n",
       "  '大华三路',\n",
       "  '行知路',\n",
       "  '大场镇',\n",
       "  '场中路',\n",
       "  '上大路',\n",
       "  '南陈路',\n",
       "  '上海大学',\n",
       "  '祁华路',\n",
       "  '顾村公园',\n",
       "  '刘行',\n",
       "  '潘广路',\n",
       "  '罗南新村',\n",
       "  '美兰湖'],\n",
       " '地铁8号线': ['沈杜公路',\n",
       "  '联航路',\n",
       "  '江月路',\n",
       "  '浦江镇',\n",
       "  '芦恒路',\n",
       "  '凌兆新村',\n",
       "  '东方体育中心',\n",
       "  '杨思',\n",
       "  '成山路',\n",
       "  '耀华路',\n",
       "  '中华艺术宫',\n",
       "  '西藏南路',\n",
       "  '陆家浜路',\n",
       "  '老西门',\n",
       "  '大世界',\n",
       "  '人民广场',\n",
       "  '曲阜路',\n",
       "  '中兴路',\n",
       "  '西藏北路',\n",
       "  '虹口足球场',\n",
       "  '曲阳路',\n",
       "  '四平路',\n",
       "  '鞍山新村',\n",
       "  '江浦路',\n",
       "  '黄兴路',\n",
       "  '延吉中路',\n",
       "  '黄兴公园',\n",
       "  '翔殷路',\n",
       "  '嫩江路',\n",
       "  '市光路'],\n",
       " '地铁9号线': ['曹路',\n",
       "  '民雷路',\n",
       "  '顾唐路',\n",
       "  '金海路',\n",
       "  '金吉路',\n",
       "  '金桥',\n",
       "  '台儿庄路',\n",
       "  '蓝天路',\n",
       "  '芳甸路',\n",
       "  '杨高中路',\n",
       "  '世纪大道',\n",
       "  '商城路',\n",
       "  '小南门',\n",
       "  '陆家浜路',\n",
       "  '马当路',\n",
       "  '打浦桥',\n",
       "  '嘉善路',\n",
       "  '肇嘉浜路',\n",
       "  '徐家汇',\n",
       "  '宜山路',\n",
       "  '桂林路',\n",
       "  '漕河泾开发区',\n",
       "  '合川路',\n",
       "  '星中路',\n",
       "  '七宝',\n",
       "  '中春路',\n",
       "  '九亭',\n",
       "  '泗泾',\n",
       "  '佘山',\n",
       "  '洞泾',\n",
       "  '松江大学城',\n",
       "  '松江新城',\n",
       "  '松江体育中心',\n",
       "  '醉白池',\n",
       "  '松江南站'],\n",
       " '地铁10号线': ['新江湾城',\n",
       "  '殷高东路',\n",
       "  '三门路',\n",
       "  '江湾体育场',\n",
       "  '五角场',\n",
       "  '国权路',\n",
       "  '同济大学',\n",
       "  '四平路',\n",
       "  '邮电新村',\n",
       "  '海伦路',\n",
       "  '四川北路',\n",
       "  '天潼路',\n",
       "  '南京东路',\n",
       "  '豫园',\n",
       "  '老西门',\n",
       "  '新天地',\n",
       "  '陕西南路',\n",
       "  '上海图书馆',\n",
       "  '交通大学',\n",
       "  '虹桥路',\n",
       "  '宋园路',\n",
       "  '伊犁路',\n",
       "  '水城路',\n",
       "  '龙溪路',\n",
       "  '上海动物园',\n",
       "  '虹桥1号航站楼',\n",
       "  '虹桥2号航站楼',\n",
       "  '虹桥火车站'],\n",
       " '地铁11号线': ['迪士尼',\n",
       "  '康新公路',\n",
       "  '秀沿路',\n",
       "  '罗山路',\n",
       "  '御桥',\n",
       "  '浦三路',\n",
       "  '三林东',\n",
       "  '三林',\n",
       "  '东方体育中心',\n",
       "  '龙耀路',\n",
       "  '云锦路',\n",
       "  '龙华',\n",
       "  '上海游泳馆',\n",
       "  '徐家汇',\n",
       "  '交通大学',\n",
       "  '江苏路',\n",
       "  '隆德路',\n",
       "  '曹杨路',\n",
       "  '枫桥路',\n",
       "  '真如',\n",
       "  '上海西站',\n",
       "  '李子园',\n",
       "  '祁连山路',\n",
       "  '武威路',\n",
       "  '桃浦新村',\n",
       "  '南翔',\n",
       "  '马陆',\n",
       "  '嘉定新城',\n",
       "  '上海赛车场',\n",
       "  '昌吉东路',\n",
       "  '上海汽车城',\n",
       "  '安亭',\n",
       "  '兆丰路',\n",
       "  '光明路',\n",
       "  '花桥'],\n",
       " '地铁12号线': ['七莘路',\n",
       "  '虹莘路',\n",
       "  '顾戴路',\n",
       "  '东兰路',\n",
       "  '虹梅路',\n",
       "  '虹漕路',\n",
       "  '桂林公园',\n",
       "  '漕宝路',\n",
       "  '龙漕路',\n",
       "  '龙华',\n",
       "  '龙华中路',\n",
       "  '大木桥路',\n",
       "  '嘉善路',\n",
       "  '陕西南路',\n",
       "  '南京西路',\n",
       "  '汉中路',\n",
       "  '曲阜路',\n",
       "  '天潼路',\n",
       "  '国际客运中心',\n",
       "  '提篮桥',\n",
       "  '大连路',\n",
       "  '江浦公园',\n",
       "  '宁国路',\n",
       "  '隆昌路',\n",
       "  '爱国路',\n",
       "  '复兴岛',\n",
       "  '东陆路',\n",
       "  '巨峰路',\n",
       "  '杨高北路',\n",
       "  '金京路',\n",
       "  '申江路',\n",
       "  '金海路'],\n",
       " '地铁13号线': ['金运路',\n",
       "  '金沙江西路',\n",
       "  '丰庄',\n",
       "  '祁连山南路',\n",
       "  '真北路',\n",
       "  '大渡河路',\n",
       "  '金沙江路',\n",
       "  '隆德路',\n",
       "  '武宁路',\n",
       "  '长寿路',\n",
       "  '江宁路',\n",
       "  '汉中路',\n",
       "  '自然博物馆',\n",
       "  '南京西路',\n",
       "  '淮海中路',\n",
       "  '新天地',\n",
       "  '马当路',\n",
       "  '世博会博物馆',\n",
       "  '世博大道',\n",
       "  '长清路',\n",
       "  '成山路',\n",
       "  '东明路',\n",
       "  '华鹏路',\n",
       "  '下南路',\n",
       "  '北蔡',\n",
       "  '陈春路',\n",
       "  '莲溪路',\n",
       "  '华夏中路',\n",
       "  '中科路',\n",
       "  '学林路',\n",
       "  '张江路'],\n",
       " '地铁16号线': ['龙阳路',\n",
       "  '华夏中路',\n",
       "  '罗山路',\n",
       "  '周浦东',\n",
       "  '鹤沙航城',\n",
       "  '航头东',\n",
       "  '新场',\n",
       "  '野生动物园',\n",
       "  '惠南',\n",
       "  '惠南东',\n",
       "  '书院',\n",
       "  '临港大道',\n",
       "  '滴水湖'],\n",
       " '地铁17号线': ['虹桥火车站',\n",
       "  '诸光路',\n",
       "  '蟠龙路',\n",
       "  '徐盈路',\n",
       "  '徐泾北城',\n",
       "  '嘉松中路',\n",
       "  '赵巷',\n",
       "  '汇金路',\n",
       "  '青浦新城',\n",
       "  '漕盈路',\n",
       "  '淀山湖大道',\n",
       "  '朱家角',\n",
       "  '东方绿舟'],\n",
       " '磁悬浮': ['浦东国际机场', '龙阳路'],\n",
       " '轨道交通浦江线': ['沈杜公路', '三鲁公路', '闵瑞路', '浦航路', '东城一路', '汇臻路']}"
      ]
     },
     "execution_count": 99,
     "metadata": {},
     "output_type": "execute_result"
    }
   ],
   "source": [
    "station"
   ]
  }
 ],
 "metadata": {
  "kernelspec": {
   "display_name": "Python 3",
   "language": "python",
   "name": "python3"
  },
  "language_info": {
   "codemirror_mode": {
    "name": "ipython",
    "version": 3
   },
   "file_extension": ".py",
   "mimetype": "text/x-python",
   "name": "python",
   "nbconvert_exporter": "python",
   "pygments_lexer": "ipython3",
   "version": "3.7.0"
  }
 },
 "nbformat": 4,
 "nbformat_minor": 2
}
