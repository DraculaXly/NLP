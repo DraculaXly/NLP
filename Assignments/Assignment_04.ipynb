{
 "cells": [
  {
   "cell_type": "markdown",
   "metadata": {},
   "source": [
    "## Softmax"
   ]
  },
  {
   "cell_type": "code",
   "execution_count": 5,
   "metadata": {},
   "outputs": [],
   "source": [
    "import numpy as np\n",
    "import os\n",
    "from gensim.models import word2vec"
   ]
  },
  {
   "cell_type": "code",
   "execution_count": 6,
   "metadata": {},
   "outputs": [],
   "source": [
    "?word2vec"
   ]
  },
  {
   "cell_type": "code",
   "execution_count": 24,
   "metadata": {},
   "outputs": [],
   "source": [
    "vector1 = np.array([-10, 8, -2])"
   ]
  },
  {
   "cell_type": "code",
   "execution_count": 25,
   "metadata": {},
   "outputs": [],
   "source": [
    "vector2 = np.array([-1000, 1000, 1000, 1])"
   ]
  },
  {
   "cell_type": "code",
   "execution_count": 26,
   "metadata": {},
   "outputs": [],
   "source": [
    "def softmax(vec):\n",
    "    vec -= np.max(vec)\n",
    "    exp = np.exp(vec)\n",
    "    return exp / np.sum(exp)"
   ]
  },
  {
   "cell_type": "code",
   "execution_count": 27,
   "metadata": {},
   "outputs": [
    {
     "data": {
      "text/plain": [
       "array([1.52292881e-08, 9.99954587e-01, 4.53978680e-05])"
      ]
     },
     "execution_count": 27,
     "metadata": {},
     "output_type": "execute_result"
    }
   ],
   "source": [
    "softmax(vector1)"
   ]
  },
  {
   "cell_type": "code",
   "execution_count": 28,
   "metadata": {
    "scrolled": false
   },
   "outputs": [
    {
     "data": {
      "text/plain": [
       "array([0. , 0.5, 0.5, 0. ])"
      ]
     },
     "execution_count": 28,
     "metadata": {},
     "output_type": "execute_result"
    }
   ],
   "source": [
    "softmax(vector2)"
   ]
  },
  {
   "cell_type": "markdown",
   "metadata": {},
   "source": [
    "### 1.下载语料库\n",
    "### 2.提取语料库\n",
    "### 3.模型训练\n",
    "### 4.模型使用"
   ]
  },
  {
   "cell_type": "markdown",
   "metadata": {},
   "source": [
    "维基百科语料库下载：https://dumps.wikimedia.org/zhwiki/  \n",
    "python WikiExtractor.py -b 200M -o zhwiki zhwiki-20190720-pages-articles-multistream.xml.bz2"
   ]
  },
  {
   "cell_type": "code",
   "execution_count": 32,
   "metadata": {},
   "outputs": [],
   "source": [
    "# https://blog.csdn.net/sinat_29957455/article/details/81432846\n",
    "# 合并分词后的文件\n",
    "def _merge():\n",
    "    output = open(r\"D:\\GitHub\\Data\\zhwiki\\wiki_m\", 'w', encoding='utf-8')\n",
    "    input = r\"D:\\GitHub\\Data\\zhwiki\\AA\"\n",
    "    for i in range(6):\n",
    "        file_path = os.path.join(input, str(\"wiki_0{}\".format(i)))\n",
    "        file = open(file_path, 'r', encoding='utf-8')\n",
    "        line = file.readline()\n",
    "        while line:\n",
    "            output.writelines(line)\n",
    "            line = file.readline()\n",
    "        file.close()\n",
    "    output.close()"
   ]
  },
  {
   "cell_type": "code",
   "execution_count": 33,
   "metadata": {},
   "outputs": [],
   "source": [
    "#_merge"
   ]
  },
  {
   "cell_type": "markdown",
   "metadata": {},
   "source": [
    "gensim: https://radimrehurek.com/gensim/tutorial.html  \n",
    "参考网站：https://www.cnblogs.com/iloveai/p/gensim_tutorial.html"
   ]
  },
  {
   "cell_type": "markdown",
   "metadata": {},
   "source": [
    "解决\"C extension not loaded, training will be slow.\"  \n",
    "mingw & libpython"
   ]
  },
  {
   "cell_type": "code",
   "execution_count": null,
   "metadata": {},
   "outputs": [],
   "source": [
    "sentences = word2vec.LineSentence(r\"D:\\GitHub\\Data\\zhwiki\\wiki_m\")\n",
    "model = word2vec.Word2Vec(sentences, size=250)\n",
    "model.save(r\"D:\\GitHub\\Data\\zhwiki\\wiki_corpus.model\")"
   ]
  },
  {
   "cell_type": "code",
   "execution_count": null,
   "metadata": {},
   "outputs": [],
   "source": []
  },
  {
   "cell_type": "markdown",
   "metadata": {},
   "source": [
    "## Step-05: Using visualization tools: https://www.kaggle.com/jeffd23/visualizing-word-vectors-with-t-sne"
   ]
  },
  {
   "cell_type": "markdown",
   "metadata": {},
   "source": [
    "第五步：使用Kaggle给出的T-SEN进行词向量的可视化。"
   ]
  }
 ],
 "metadata": {
  "kernelspec": {
   "display_name": "Python 3",
   "language": "python",
   "name": "python3"
  }
 },
 "nbformat": 4,
 "nbformat_minor": 2
}
