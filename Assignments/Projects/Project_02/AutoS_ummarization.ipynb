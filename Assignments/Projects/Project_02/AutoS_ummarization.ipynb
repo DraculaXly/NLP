{
 "cells": [
  {
   "cell_type": "code",
   "execution_count": 2,
   "metadata": {},
   "outputs": [],
   "source": [
    "def hint(string):\n",
    "    return print(''.join(map(chr, map(lambda x: int(x, 16), string.split('.')))))"
   ]
  },
  {
   "cell_type": "markdown",
   "metadata": {},
   "source": [
    "## Environment\n",
    "+ Pycharm\n",
    "+ python3.6\n",
    "+ networkx\n",
    "+ jieba\n",
    "+ numpy, pandas, matplotlib\n",
    "+ gensim"
   ]
  },
  {
   "cell_type": "markdown",
   "metadata": {},
   "source": [
    "## References"
   ]
  },
  {
   "cell_type": "markdown",
   "metadata": {},
   "source": [
    "+ https://nlp.stanford.edu/pubs/see2017get.pdf\n",
    "+ https://web.eecs.umich.edu/~mihalcea/papers/mihalcea.emnlp04.pdf\n",
    "+ https://openreview.net/pdf?id=SyK00v5xx\n",
    "+ https://arxiv.org/abs/1409.0473\n",
    "+ "
   ]
  },
  {
   "cell_type": "markdown",
   "metadata": {},
   "source": [
    "## Background Knowledge"
   ]
  },
  {
   "cell_type": "markdown",
   "metadata": {},
   "source": [
    "Q1. 简述自动摘要技术的三个应用场景？"
   ]
  },
  {
   "cell_type": "markdown",
   "metadata": {},
   "source": [
    "回答：\n",
    "1. 文章类标题\n",
    "2. 论文摘要\n",
    "3. 电影预告片\n",
    "4. 商品评论摘要"
   ]
  },
  {
   "cell_type": "code",
   "execution_count": 5,
   "metadata": {},
   "outputs": [],
   "source": [
    "#hint('a.641c.7d22.5f15.64ce.ff1b.a.32.2e.20.89c2.70b9.62bd.53d6.ff1b.a.33.2e.20.65b0.95fb.ff1b.a.34.2e.20.6c47.62a5.6587.6863.a')"
   ]
  },
  {
   "cell_type": "markdown",
   "metadata": {},
   "source": [
    "Q2. 目前的摘要技术分为哪两类？"
   ]
  },
  {
   "cell_type": "markdown",
   "metadata": {},
   "source": [
    "回答：\n",
    "1. 说明性摘要：一般用于综述性文章。\n",
    "2. 资料性摘要：提现原文的具体内容。"
   ]
  },
  {
   "cell_type": "code",
   "execution_count": 7,
   "metadata": {},
   "outputs": [],
   "source": [
    "#hint('a.6458.8981.20.41.62.73.74.72.61.63.74.69.76.65.3a.20.91cd.65b0.6574.7406.4fe1.606f.a.62bd.53d6.20.45.78.74.72.61.63.74.69.76.65.3a.20.4ece.539f.6587.4e2d.63d0.53d6.90e8.5206.a')"
   ]
  },
  {
   "cell_type": "markdown",
   "metadata": {},
   "source": [
    "Q3. 目前实现自动摘要的难点在哪里？列出三点。"
   ]
  },
  {
   "cell_type": "markdown",
   "metadata": {},
   "source": [
    "回答：\n",
    "1. 段落太长有可能会导致段落信息记忆的损失；\n",
    "2. 缺乏标注训练数据；\n",
    "3. 缺乏摘要评估指标。"
   ]
  },
  {
   "cell_type": "code",
   "execution_count": 9,
   "metadata": {},
   "outputs": [],
   "source": [
    "#hint('a.31.2e.20.7f3a.4e4f.6807.6ce8.8bad.7ec3.6570.636e.ff1b.a.32.2e.20.57fa.4e8e.6587.672c.7406.89e3.ff0c.63d0.53d6.91cd.8981.5185.5bb9.96be.ff1b.a.33.2e.20.4eba.7c7b.5bf9.6587.672c.903b.8f91.654f.611f.ff0c.6458.8981.7ed3.679c.5bb9.9519.7387.4f4e.a')"
   ]
  },
  {
   "cell_type": "markdown",
   "metadata": {},
   "source": [
    "## Basic Technologies"
   ]
  },
  {
   "cell_type": "markdown",
   "metadata": {},
   "source": [
    "Q4. 什么是PageRank？ PageRank 用在什么地方？用 $Latex$ 写出其方程"
   ]
  },
  {
   "cell_type": "markdown",
   "metadata": {},
   "source": [
    "回答： \n",
    " - PageRank: https://wizardforcel.gitbooks.io/dm-algo-top10/content/pagerank.html, Google专有的算法，用于衡量特定网页相对于搜索引擎索引中的其他网页而言的重要程度。PageRank实现了将链接价值概念作为排名因素。\n",
    " - 公式：$$ PR(p_i) = \\frac{1-d}{N} + d \\sum_{p_j \\in M(p_i)} \\frac{PR (p_j)}{L(p_j)} $$"
   ]
  },
  {
   "cell_type": "code",
   "execution_count": 4,
   "metadata": {},
   "outputs": [],
   "source": [
    "#hint('a.31.2e.20.65b9.7a0b.3a.a.20.20.20.20.50.52.28.70.5f.69.29.20.3d.20.a.72.61.63.7b.31.2d.64.7d.7b.4e.7d.20.2b.20.64.20.5c.73.75.6d.5f.7b.70.5f.6a.20.5c.69.6e.20.4d.28.70.5f.69.29.7d.20.a.72.61.63.7b.50.52.20.28.70.5f.6a.29.7d.7b.4c.28.70.5f.6a.29.7d.a.32.2e.20.53c2.8003.ff1a.a.20.20.20.20.68.74.74.70.73.3a.2f.2f.77.77.77.2e.77.69.6b.69.77.61.6e.64.2e.63.6f.6d.2f.65.6e.2f.50.61.67.65.52.61.6e.6b.a')"
   ]
  },
  {
   "cell_type": "markdown",
   "metadata": {},
   "source": [
    "Q5. PageRank和TextRank的关系是什么，TextRank的背景原理是什么？ "
   ]
  },
  {
   "cell_type": "markdown",
   "metadata": {},
   "source": [
    "回答：\n",
    "- 关系：TextRank是PageRank算法的变种，由PageRank算法改进过来的，用于文本关键字关键句的提取\n",
    "- 背景原理：（结合论文及链接https://www.zybuluo.com/evilking/note/902585）"
   ]
  },
  {
   "cell_type": "code",
   "execution_count": 5,
   "metadata": {},
   "outputs": [
    {
     "name": "stdout",
     "output_type": "stream",
     "text": [
      "\n",
      "参考论文： https://web.eecs.umich.edu/~mihalcea/papers/mihalcea.emnlp04.pdf\n",
      "\n"
     ]
    }
   ],
   "source": [
    "hint('a.53c2.8003.8bba.6587.ff1a.20.68.74.74.70.73.3a.2f.2f.77.65.62.2e.65.65.63.73.2e.75.6d.69.63.68.2e.65.64.75.2f.7e.6d.69.68.61.6c.63.65.61.2f.70.61.70.65.72.73.2f.6d.69.68.61.6c.63.65.61.2e.65.6d.6e.6c.70.30.34.2e.70.64.66.a')"
   ]
  },
  {
   "cell_type": "markdown",
   "metadata": {},
   "source": [
    "Q6. 在存在大量原始文本以及该文本对应的摘要内容时，我们是否可以使用 Seq2Seq 进行生成？ Sequence2Sequence的原理是什么？ Attention的机制原理是什么？ "
   ]
  },
  {
   "cell_type": "markdown",
   "metadata": {},
   "source": [
    "- Seq2Seq: 输入一个序列，输出也是一个序列，本质其实就是个Encoder-Decoder结构的网络。在Encoder中，将序列转换成一个固定长度的向量，然后通过Decoder将该向量转换成序列输出。\n",
    "- Attention机制：训练一个模型对输入进行选择性学习并在模型输出时将输出序列与之进行关联。\n",
    "- 参考内容：https://zhuanlan.zhihu.com/p/28054589"
   ]
  },
  {
   "cell_type": "markdown",
   "metadata": {},
   "source": [
    "### Extractive, Abstractive \n",
    "+ Extractive是从文中找出关键信息，然后拼接进行结果输出\n",
    "    + 确定重要信息\n",
    "+ Abstracrtive: 依据文本的输入，生产单词（可能是新的单词）进行结果输出\n",
    "    + Seq2Seq的问题\n",
    "    + Transfomer"
   ]
  },
  {
   "cell_type": "markdown",
   "metadata": {},
   "source": [
    "## Data Pipeline"
   ]
  },
  {
   "cell_type": "code",
   "execution_count": 1,
   "metadata": {},
   "outputs": [
    {
     "name": "stderr",
     "output_type": "stream",
     "text": [
      "D:\\Anaconda\\lib\\site-packages\\gensim\\utils.py:1197: UserWarning: detected Windows; aliasing chunkize to chunkize_serial\n",
      "  warnings.warn(\"detected Windows; aliasing chunkize to chunkize_serial\")\n"
     ]
    }
   ],
   "source": [
    "import pandas as pd\n",
    "import numpy as np\n",
    "import jieba\n",
    "import matplotlib.pyplot as plt\n",
    "plt.rcParams['font.sans-serif']=['SimHei']\n",
    "import networkx\n",
    "import random\n",
    "import re\n",
    "\n",
    "from gensim.models import FastText\n",
    "from gensim.models.word2vec import LineSentence\n",
    "from functools import reduce\n",
    "from collections import Counter\n",
    "from scipy.spatial.distance import cosine\n",
    "from sklearn.metrics.pairwise import cosine_similarity\n",
    "\n",
    "%matplotlib inline"
   ]
  },
  {
   "cell_type": "code",
   "execution_count": 2,
   "metadata": {},
   "outputs": [],
   "source": [
    "def transform(string):\n",
    "    sentence = re.split(r'[.。?？!！]', string)\n",
    "    pure_sentence = [re.sub(r'[^0-9A-Za-z\\u4e00-\\u9fa5]', '', i) for i in sentence]\n",
    "    cut_sentence = ''.join(sent for sent in pure_sentence)\n",
    "    return ' '.join(jieba.cut(cut_sentence))"
   ]
  },
  {
   "cell_type": "code",
   "execution_count": 74,
   "metadata": {},
   "outputs": [],
   "source": [
    "# test another transform\n",
    "def transform_2(data):\n",
    "    a = split_sentence(data)\n",
    "    b = get_sentence_list(a)\n",
    "    return b"
   ]
  },
  {
   "cell_type": "code",
   "execution_count": 91,
   "metadata": {},
   "outputs": [
    {
     "data": {
      "text/plain": [
       "[['此外',\n",
       "  '自',\n",
       "  '本周',\n",
       "  '6',\n",
       "  '月',\n",
       "  '12',\n",
       "  '日起',\n",
       "  '除',\n",
       "  '小米',\n",
       "  '手机',\n",
       "  '6',\n",
       "  '等',\n",
       "  '15',\n",
       "  '款',\n",
       "  '机型',\n",
       "  '外',\n",
       "  '其余',\n",
       "  '机型',\n",
       "  '已',\n",
       "  '暂停',\n",
       "  '更新',\n",
       "  '发布',\n",
       "  '含',\n",
       "  '开发',\n",
       "  '版',\n",
       "  '体验版',\n",
       "  '内测',\n",
       "  '稳定版',\n",
       "  '暂不受',\n",
       "  '影响',\n",
       "  '以',\n",
       "  '确保',\n",
       "  '工程师',\n",
       "  '可以',\n",
       "  '集中',\n",
       "  '全部',\n",
       "  '精力',\n",
       "  '进行',\n",
       "  '系统优化',\n",
       "  '工作'],\n",
       " ['有人', '猜测', '这', '也', '是', '将', '精力', '主要', '用到', 'MIUI9', '的', '研发', '之中'],\n",
       " ['MIUI8',\n",
       "  '去年',\n",
       "  '5',\n",
       "  '月',\n",
       "  '发布',\n",
       "  '距今已有',\n",
       "  '一年',\n",
       "  '有余',\n",
       "  '也',\n",
       "  '是',\n",
       "  '时候',\n",
       "  '更新换代',\n",
       "  '了'],\n",
       " ['当然', '关于', 'MIUI9', '的', '确切', '信息', '我们', '还是', '等待', '官方消息']]"
      ]
     },
     "execution_count": 91,
     "metadata": {},
     "output_type": "execute_result"
    }
   ],
   "source": [
    "transform_2(df['content'][0])"
   ]
  },
  {
   "cell_type": "code",
   "execution_count": 76,
   "metadata": {},
   "outputs": [],
   "source": [
    "def split_sentence(string):\n",
    "    str1 = string.replace('\\r\\n', '').strip()\n",
    "    #str2 = str1.strip()\n",
    "    sentence = re.split(r'[.。?？!！]', str1)\n",
    "    pure_sentence = [i for i in sentence if i]\n",
    "    return pure_sentence"
   ]
  },
  {
   "cell_type": "code",
   "execution_count": 83,
   "metadata": {},
   "outputs": [],
   "source": [
    "def cut_sentence_to_words(sentence):\n",
    "    '''\n",
    "    words = []\n",
    "    sentence = re.sub(r'[^0-9A-Za-z\\u4e00-\\u9fa5]', '', sentence)\n",
    "    cut = jieba.cut(sentence)\n",
    "    for w in cut:\n",
    "        words.append(w)\n",
    "    return words\n",
    "    '''\n",
    "    sentence = re.sub(r'[^0-9A-Za-z\\u4e00-\\u9fa5]', '', sentence)\n",
    "    return [w for w in jieba.cut(sentence)]"
   ]
  },
  {
   "cell_type": "code",
   "execution_count": 90,
   "metadata": {},
   "outputs": [],
   "source": [
    "def get_sentence_list(sentences):\n",
    "    sentence_list = []\n",
    "    for sent in sentences:\n",
    "        words = cut_sentence_to_words(sent)\n",
    "        if len(words) > 0:\n",
    "            sentence_list.append(words)\n",
    "    return sentence_list"
   ]
  },
  {
   "cell_type": "code",
   "execution_count": 6,
   "metadata": {},
   "outputs": [],
   "source": [
    "fpath = r'D:\\GitHub\\Data\\sqlResult_1558435.csv'"
   ]
  },
  {
   "cell_type": "code",
   "execution_count": 7,
   "metadata": {
    "scrolled": false
   },
   "outputs": [
    {
     "data": {
      "text/html": [
       "<div>\n",
       "<style scoped>\n",
       "    .dataframe tbody tr th:only-of-type {\n",
       "        vertical-align: middle;\n",
       "    }\n",
       "\n",
       "    .dataframe tbody tr th {\n",
       "        vertical-align: top;\n",
       "    }\n",
       "\n",
       "    .dataframe thead th {\n",
       "        text-align: right;\n",
       "    }\n",
       "</style>\n",
       "<table border=\"1\" class=\"dataframe\">\n",
       "  <thead>\n",
       "    <tr style=\"text-align: right;\">\n",
       "      <th></th>\n",
       "      <th>id</th>\n",
       "      <th>author</th>\n",
       "      <th>source</th>\n",
       "      <th>content</th>\n",
       "      <th>feature</th>\n",
       "      <th>title</th>\n",
       "      <th>url</th>\n",
       "    </tr>\n",
       "  </thead>\n",
       "  <tbody>\n",
       "    <tr>\n",
       "      <th>0</th>\n",
       "      <td>89617</td>\n",
       "      <td>NaN</td>\n",
       "      <td>快科技@http://www.kkj.cn/</td>\n",
       "      <td>此外，自本周（6月12日）起，除小米手机6等15款机型外，其余机型已暂停更新发布（含开发版/...</td>\n",
       "      <td>{\"type\":\"科技\",\"site\":\"cnbeta\",\"commentNum\":\"37\"...</td>\n",
       "      <td>小米MIUI 9首批机型曝光：共计15款</td>\n",
       "      <td>http://www.cnbeta.com/articles/tech/623597.htm</td>\n",
       "    </tr>\n",
       "    <tr>\n",
       "      <th>1</th>\n",
       "      <td>89616</td>\n",
       "      <td>NaN</td>\n",
       "      <td>快科技@http://www.kkj.cn/</td>\n",
       "      <td>骁龙835作为唯一通过Windows 10桌面平台认证的ARM处理器，高通强调，不会因为只考...</td>\n",
       "      <td>{\"type\":\"科技\",\"site\":\"cnbeta\",\"commentNum\":\"15\"...</td>\n",
       "      <td>骁龙835在Windows 10上的性能表现有望改善</td>\n",
       "      <td>http://www.cnbeta.com/articles/tech/623599.htm</td>\n",
       "    </tr>\n",
       "    <tr>\n",
       "      <th>2</th>\n",
       "      <td>89615</td>\n",
       "      <td>NaN</td>\n",
       "      <td>快科技@http://www.kkj.cn/</td>\n",
       "      <td>此前的一加3T搭载的是3400mAh电池，DashCharge快充规格为5V/4A。\\r\\n...</td>\n",
       "      <td>{\"type\":\"科技\",\"site\":\"cnbeta\",\"commentNum\":\"18\"...</td>\n",
       "      <td>一加手机5细节曝光：3300mAh、充半小时用1天</td>\n",
       "      <td>http://www.cnbeta.com/articles/tech/623601.htm</td>\n",
       "    </tr>\n",
       "    <tr>\n",
       "      <th>3</th>\n",
       "      <td>89614</td>\n",
       "      <td>NaN</td>\n",
       "      <td>新华社</td>\n",
       "      <td>这是6月18日在葡萄牙中部大佩德罗冈地区拍摄的被森林大火烧毁的汽车。新华社记者张立云摄\\r\\n</td>\n",
       "      <td>{\"type\":\"国际新闻\",\"site\":\"环球\",\"commentNum\":\"0\",\"j...</td>\n",
       "      <td>葡森林火灾造成至少62人死亡 政府宣布进入紧急状态（组图）</td>\n",
       "      <td>http://world.huanqiu.com/hot/2017-06/10866126....</td>\n",
       "    </tr>\n",
       "    <tr>\n",
       "      <th>4</th>\n",
       "      <td>89613</td>\n",
       "      <td>胡淑丽_MN7479</td>\n",
       "      <td>深圳大件事</td>\n",
       "      <td>（原标题：44岁女子跑深圳约会网友被拒，暴雨中裸身奔走……）\\r\\n@深圳交警微博称：昨日清...</td>\n",
       "      <td>{\"type\":\"新闻\",\"site\":\"网易热门\",\"commentNum\":\"978\",...</td>\n",
       "      <td>44岁女子约网友被拒暴雨中裸奔 交警为其披衣相随</td>\n",
       "      <td>http://news.163.com/17/0618/00/CN617P3Q0001875...</td>\n",
       "    </tr>\n",
       "  </tbody>\n",
       "</table>\n",
       "</div>"
      ],
      "text/plain": [
       "      id      author                  source  \\\n",
       "0  89617         NaN  快科技@http://www.kkj.cn/   \n",
       "1  89616         NaN  快科技@http://www.kkj.cn/   \n",
       "2  89615         NaN  快科技@http://www.kkj.cn/   \n",
       "3  89614         NaN                     新华社   \n",
       "4  89613  胡淑丽_MN7479                   深圳大件事   \n",
       "\n",
       "                                             content  \\\n",
       "0  此外，自本周（6月12日）起，除小米手机6等15款机型外，其余机型已暂停更新发布（含开发版/...   \n",
       "1  骁龙835作为唯一通过Windows 10桌面平台认证的ARM处理器，高通强调，不会因为只考...   \n",
       "2  此前的一加3T搭载的是3400mAh电池，DashCharge快充规格为5V/4A。\\r\\n...   \n",
       "3    这是6月18日在葡萄牙中部大佩德罗冈地区拍摄的被森林大火烧毁的汽车。新华社记者张立云摄\\r\\n   \n",
       "4  （原标题：44岁女子跑深圳约会网友被拒，暴雨中裸身奔走……）\\r\\n@深圳交警微博称：昨日清...   \n",
       "\n",
       "                                             feature  \\\n",
       "0  {\"type\":\"科技\",\"site\":\"cnbeta\",\"commentNum\":\"37\"...   \n",
       "1  {\"type\":\"科技\",\"site\":\"cnbeta\",\"commentNum\":\"15\"...   \n",
       "2  {\"type\":\"科技\",\"site\":\"cnbeta\",\"commentNum\":\"18\"...   \n",
       "3  {\"type\":\"国际新闻\",\"site\":\"环球\",\"commentNum\":\"0\",\"j...   \n",
       "4  {\"type\":\"新闻\",\"site\":\"网易热门\",\"commentNum\":\"978\",...   \n",
       "\n",
       "                           title  \\\n",
       "0           小米MIUI 9首批机型曝光：共计15款   \n",
       "1     骁龙835在Windows 10上的性能表现有望改善   \n",
       "2      一加手机5细节曝光：3300mAh、充半小时用1天   \n",
       "3  葡森林火灾造成至少62人死亡 政府宣布进入紧急状态（组图）   \n",
       "4       44岁女子约网友被拒暴雨中裸奔 交警为其披衣相随   \n",
       "\n",
       "                                                 url  \n",
       "0     http://www.cnbeta.com/articles/tech/623597.htm  \n",
       "1     http://www.cnbeta.com/articles/tech/623599.htm  \n",
       "2     http://www.cnbeta.com/articles/tech/623601.htm  \n",
       "3  http://world.huanqiu.com/hot/2017-06/10866126....  \n",
       "4  http://news.163.com/17/0618/00/CN617P3Q0001875...  "
      ]
     },
     "execution_count": 7,
     "metadata": {},
     "output_type": "execute_result"
    }
   ],
   "source": [
    "news_content = pd.read_csv(fpath, encoding='gb18030')\n",
    "news_content.head()"
   ]
  },
  {
   "cell_type": "code",
   "execution_count": 48,
   "metadata": {},
   "outputs": [],
   "source": [
    "df = pd.DataFrame()"
   ]
  },
  {
   "cell_type": "code",
   "execution_count": 49,
   "metadata": {},
   "outputs": [],
   "source": [
    "df['content'] = news_content['content']"
   ]
  },
  {
   "cell_type": "code",
   "execution_count": 55,
   "metadata": {},
   "outputs": [],
   "source": [
    "df = df.fillna('')"
   ]
  },
  {
   "cell_type": "code",
   "execution_count": 51,
   "metadata": {},
   "outputs": [
    {
     "data": {
      "text/plain": [
       "'此外，自本周（6月12日）起，除小米手机6等15款机型外，其余机型已暂停更新发布（含开发版/体验版内测，稳定版暂不受影响），以确保工程师可以集中全部精力进行系统优化工作。有人猜测这也是将精力主要用到MIUI 9的研发之中。\\r\\nMIUI 8去年5月发布，距今已有一年有余，也是时候更新换代了。\\r\\n当然，关于MIUI 9的确切信息，我们还是等待官方消息。\\r\\n'"
      ]
     },
     "execution_count": 51,
     "metadata": {},
     "output_type": "execute_result"
    }
   ],
   "source": [
    "df['content'][0]"
   ]
  },
  {
   "cell_type": "code",
   "execution_count": 78,
   "metadata": {
    "scrolled": true
   },
   "outputs": [
    {
     "data": {
      "text/plain": [
       "['此外，自本周（6月12日）起，除小米手机6等15款机型外，其余机型已暂停更新发布（含开发版/体验版内测，稳定版暂不受影响），以确保工程师可以集中全部精力进行系统优化工作',\n",
       " '有人猜测这也是将精力主要用到MIUI 9的研发之中',\n",
       " 'MIUI 8去年5月发布，距今已有一年有余，也是时候更新换代了',\n",
       " '当然，关于MIUI 9的确切信息，我们还是等待官方消息']"
      ]
     },
     "execution_count": 78,
     "metadata": {},
     "output_type": "execute_result"
    }
   ],
   "source": [
    "split_sentence(df['content'][0])"
   ]
  },
  {
   "cell_type": "code",
   "execution_count": 84,
   "metadata": {},
   "outputs": [
    {
     "data": {
      "text/plain": [
       "['此外',\n",
       " '自',\n",
       " '本周',\n",
       " '6',\n",
       " '月',\n",
       " '12',\n",
       " '日起',\n",
       " '除',\n",
       " '小米',\n",
       " '手机',\n",
       " '6',\n",
       " '等',\n",
       " '15',\n",
       " '款',\n",
       " '机型',\n",
       " '外',\n",
       " '其余',\n",
       " '机型',\n",
       " '已',\n",
       " '暂停',\n",
       " '更新',\n",
       " '发布',\n",
       " '含',\n",
       " '开发',\n",
       " '版',\n",
       " '体验版',\n",
       " '内测',\n",
       " '稳定版',\n",
       " '暂不受',\n",
       " '影响',\n",
       " '以',\n",
       " '确保',\n",
       " '工程师',\n",
       " '可以',\n",
       " '集中',\n",
       " '全部',\n",
       " '精力',\n",
       " '进行',\n",
       " '系统优化',\n",
       " '工作']"
      ]
     },
     "execution_count": 84,
     "metadata": {},
     "output_type": "execute_result"
    }
   ],
   "source": [
    "cut_sentence_to_words(split_sentence(df['content'][0])[0])"
   ]
  },
  {
   "cell_type": "code",
   "execution_count": 14,
   "metadata": {},
   "outputs": [
    {
     "data": {
      "text/plain": [
       "'此外 自 本周 6 月 12 日起 除 小米 手机 6 等 15 款 机型 外 其余 机型 已 暂停 更新 发布 含 开发 版 体验版 内测 稳定版 暂不受 影响 以 确保 工程师 可以 集中 全部 精力 进行 系统优化 工作 有人 猜测 这 也 是 将 精力 主要 用到 MIUI9 的 研发 之中 MIUI8 去年 5 月 发布 距今已有 一年 有余 也 是 时候 更新换代 了 当然 关于 MIUI9 的 确切 信息 我们 还是 等待 官方消息'"
      ]
     },
     "execution_count": 14,
     "metadata": {},
     "output_type": "execute_result"
    }
   ],
   "source": [
    "transform(df['content'][0])"
   ]
  },
  {
   "cell_type": "code",
   "execution_count": 92,
   "metadata": {},
   "outputs": [],
   "source": [
    "df['tokenized_content'] = df['content'].apply(transform_2)"
   ]
  },
  {
   "cell_type": "code",
   "execution_count": 96,
   "metadata": {
    "scrolled": false
   },
   "outputs": [
    {
     "data": {
      "text/plain": [
       "[['环球网',\n",
       "  '综合',\n",
       "  '报道',\n",
       "  '据',\n",
       "  '美联社',\n",
       "  '6',\n",
       "  '月',\n",
       "  '19',\n",
       "  '日',\n",
       "  '报道',\n",
       "  '朝鲜',\n",
       "  '18',\n",
       "  '日',\n",
       "  '控诉',\n",
       "  '美国',\n",
       "  '日前',\n",
       "  '在',\n",
       "  '纽约',\n",
       "  '抢劫',\n",
       "  '赴',\n",
       "  '联合国',\n",
       "  '参加',\n",
       "  '会议',\n",
       "  '的',\n",
       "  '朝鲜',\n",
       "  '外交',\n",
       "  '代表团',\n",
       "  '要求',\n",
       "  '美方',\n",
       "  '就',\n",
       "  '此次',\n",
       "  '事件',\n",
       "  '向',\n",
       "  '朝方',\n",
       "  '做出',\n",
       "  '解释',\n",
       "  '并',\n",
       "  '道歉'],\n",
       " ['美国', '国土', '安全部', '发言人', '大卫'],\n",
       " ['拉',\n",
       "  '潘',\n",
       "  '18',\n",
       "  '日',\n",
       "  '对',\n",
       "  '朝方',\n",
       "  '的',\n",
       "  '指控',\n",
       "  '作出',\n",
       "  '回应',\n",
       "  '称',\n",
       "  '三名',\n",
       "  '涉事',\n",
       "  '朝鲜',\n",
       "  '公民',\n",
       "  '并非',\n",
       "  '驻',\n",
       "  '联合国',\n",
       "  '代表团',\n",
       "  '成员',\n",
       "  '三人',\n",
       "  '携带',\n",
       "  '的',\n",
       "  '文件',\n",
       "  '和',\n",
       "  '包裹',\n",
       "  '不',\n",
       "  '受',\n",
       "  '外交',\n",
       "  '豁免权',\n",
       "  '保护',\n",
       "  '必须',\n",
       "  '接受',\n",
       "  '检查'],\n",
       " ['报道',\n",
       "  '称',\n",
       "  '朝鲜外务省',\n",
       "  '发言人',\n",
       "  '18',\n",
       "  '日',\n",
       "  '表示',\n",
       "  '出席',\n",
       "  '在',\n",
       "  '纽约',\n",
       "  '举行',\n",
       "  '的',\n",
       "  '残疾人',\n",
       "  '权利',\n",
       "  '公约',\n",
       "  '缔约国',\n",
       "  '大会',\n",
       "  '的',\n",
       "  '朝鲜',\n",
       "  '代表团',\n",
       "  '16',\n",
       "  '日',\n",
       "  '在',\n",
       "  '回国',\n",
       "  '途中',\n",
       "  '在',\n",
       "  '纽约',\n",
       "  '肯尼迪',\n",
       "  '机场',\n",
       "  '遭到',\n",
       "  '抢劫'],\n",
       " ['在',\n",
       "  '该',\n",
       "  '机场',\n",
       "  '自称',\n",
       "  '是',\n",
       "  '美国',\n",
       "  '国土',\n",
       "  '安全部',\n",
       "  '人员',\n",
       "  '和',\n",
       "  '警察',\n",
       "  '等',\n",
       "  '20',\n",
       "  '余人',\n",
       "  '像',\n",
       "  '暴徒',\n",
       "  '一样',\n",
       "  '试图',\n",
       "  '从',\n",
       "  '持有',\n",
       "  '外交',\n",
       "  '文件',\n",
       "  '的',\n",
       "  '朝鲜',\n",
       "  '外交官',\n",
       "  '手中',\n",
       "  '抢夺',\n",
       "  '文件'],\n",
       " ['朝鲜',\n",
       "  '外交官',\n",
       "  '进行',\n",
       "  '了',\n",
       "  '顽强抵抗',\n",
       "  '但',\n",
       "  '这些',\n",
       "  '人',\n",
       "  '使用暴力',\n",
       "  '抢走了',\n",
       "  '外交',\n",
       "  '文件',\n",
       "  '后',\n",
       "  '逃跑'],\n",
       " ['美国',\n",
       "  '国土',\n",
       "  '安全部',\n",
       "  '发言人',\n",
       "  '拉',\n",
       "  '潘',\n",
       "  '回应',\n",
       "  '称',\n",
       "  '根据',\n",
       "  '美国国务院',\n",
       "  '提供',\n",
       "  '的',\n",
       "  '信息',\n",
       "  '官员',\n",
       "  '们',\n",
       "  '的确',\n",
       "  '收缴',\n",
       "  '了',\n",
       "  '三名',\n",
       "  '朝鲜人',\n",
       "  '携带',\n",
       "  '的',\n",
       "  '一些',\n",
       "  '媒体文件',\n",
       "  '和',\n",
       "  '包裹',\n",
       "  '但',\n",
       "  '他们',\n",
       "  '不是',\n",
       "  '朝鲜',\n",
       "  '驻',\n",
       "  '联合国',\n",
       "  '代表团',\n",
       "  '成员',\n",
       "  '不',\n",
       "  '享有',\n",
       "  '外交',\n",
       "  '豁免权'],\n",
       " ['拉', '潘说', '这些', '问题', '包裹', '不', '享有', '外交', '保护', '所以', '必须', '接受', '检查'],\n",
       " ['他',\n",
       "  '还',\n",
       "  '补充',\n",
       "  '说',\n",
       "  '三名',\n",
       "  '朝鲜人',\n",
       "  '试图',\n",
       "  '强行',\n",
       "  '带走',\n",
       "  '这些',\n",
       "  '文件',\n",
       "  '和',\n",
       "  '包裹',\n",
       "  '但',\n",
       "  '国土',\n",
       "  '安全部',\n",
       "  '工作人员',\n",
       "  '阻止',\n",
       "  '了',\n",
       "  '他们'],\n",
       " ['报道',\n",
       "  '还称',\n",
       "  '朝方',\n",
       "  '认为',\n",
       "  '美国',\n",
       "  '抢夺',\n",
       "  '朝鲜',\n",
       "  '外交',\n",
       "  '文件',\n",
       "  '是',\n",
       "  '对',\n",
       "  '朝鲜',\n",
       "  '不可',\n",
       "  '容忍',\n",
       "  '的',\n",
       "  '主权',\n",
       "  '侵犯',\n",
       "  '行为',\n",
       "  '极为',\n",
       "  '凶恶',\n",
       "  '的',\n",
       "  '挑衅',\n",
       "  '行为',\n",
       "  '朝鲜政府',\n",
       "  '予以',\n",
       "  '强烈',\n",
       "  '谴责'],\n",
       " ['拉', '潘', '表示', '这些', '攻击性', '报道', '和', '言论', '完全', '是', '朝方', '一面之词'],\n",
       " ['三名',\n",
       "  '朝鲜人',\n",
       "  '随后',\n",
       "  '被',\n",
       "  '释放',\n",
       "  '但',\n",
       "  '他们',\n",
       "  '坚持',\n",
       "  '要求',\n",
       "  '携带',\n",
       "  '被',\n",
       "  '扣押',\n",
       "  '的',\n",
       "  '物件',\n",
       "  '登机'],\n",
       " ['现在', '尚', '不', '清楚', '美国', '扣留', '物件', '的', '原因'],\n",
       " ['美国国务院', '尚未', '对', '此事', '作出', '解释', '仅', '表示', '具体情况', '正在', '调查', '中'],\n",
       " ['实习', '记者', '田', '新疆', '审稿', '聂鲁彬']]"
      ]
     },
     "execution_count": 96,
     "metadata": {},
     "output_type": "execute_result"
    }
   ],
   "source": [
    "df['tokenized_content'][201]"
   ]
  },
  {
   "cell_type": "code",
   "execution_count": 112,
   "metadata": {},
   "outputs": [],
   "source": [
    "tokeners = [w for l in df['tokenized_content'] for t in l for w in t]"
   ]
  },
  {
   "cell_type": "code",
   "execution_count": 113,
   "metadata": {},
   "outputs": [
    {
     "data": {
      "text/plain": [
       "17061947"
      ]
     },
     "execution_count": 113,
     "metadata": {},
     "output_type": "execute_result"
    }
   ],
   "source": [
    "len(tokeners)"
   ]
  },
  {
   "cell_type": "markdown",
   "metadata": {},
   "source": [
    "### Counts the words occurence"
   ]
  },
  {
   "cell_type": "code",
   "execution_count": 114,
   "metadata": {},
   "outputs": [],
   "source": [
    "tokener_length = len(tokeners)"
   ]
  },
  {
   "cell_type": "code",
   "execution_count": 115,
   "metadata": {},
   "outputs": [],
   "source": [
    "tokener_counter = Counter(tokeners)"
   ]
  },
  {
   "cell_type": "code",
   "execution_count": 116,
   "metadata": {},
   "outputs": [],
   "source": [
    "frequency = {w : count / tokener_length for w, count in tokener_counter.items()}"
   ]
  },
  {
   "cell_type": "code",
   "execution_count": 125,
   "metadata": {},
   "outputs": [
    {
     "data": {
      "text/plain": [
       "0.001493323124260086"
      ]
     },
     "execution_count": 125,
     "metadata": {},
     "output_type": "execute_result"
    }
   ],
   "source": [
    "frequency['美国']"
   ]
  },
  {
   "cell_type": "code",
   "execution_count": 122,
   "metadata": {},
   "outputs": [],
   "source": [
    "from json import dumps\n",
    "a = dumps(frequency)\n",
    "with open('frequency.json', 'w', encoding='utf-8') as f:\n",
    "    f.write(a)"
   ]
  },
  {
   "cell_type": "code",
   "execution_count": 123,
   "metadata": {},
   "outputs": [
    {
     "name": "stdout",
     "output_type": "stream",
     "text": [
      "<class 'dict'>\n"
     ]
    }
   ],
   "source": [
    "from json import loads\n",
    "with open('frequency.json', 'r', encoding='utf-8') as f:\n",
    "    b = loads(f.read())\n",
    "print(type(b))"
   ]
  },
  {
   "cell_type": "code",
   "execution_count": 126,
   "metadata": {},
   "outputs": [
    {
     "data": {
      "text/plain": [
       "0.001493323124260086"
      ]
     },
     "execution_count": 126,
     "metadata": {},
     "output_type": "execute_result"
    }
   ],
   "source": [
    "b['美国']"
   ]
  },
  {
   "cell_type": "code",
   "execution_count": 206,
   "metadata": {},
   "outputs": [],
   "source": [
    "occurences_frequency = sorted(list(frequency.values()), reverse=True)"
   ]
  },
  {
   "cell_type": "code",
   "execution_count": 207,
   "metadata": {},
   "outputs": [
    {
     "name": "stdout",
     "output_type": "stream",
     "text": [
      "276182 17019641\n"
     ]
    }
   ],
   "source": [
    "print(len(occurences_frequency), tokener_length)"
   ]
  },
  {
   "cell_type": "code",
   "execution_count": 208,
   "metadata": {},
   "outputs": [],
   "source": [
    "X = range(len(occurences_frequency))"
   ]
  },
  {
   "cell_type": "code",
   "execution_count": 209,
   "metadata": {},
   "outputs": [
    {
     "data": {
      "text/plain": [
       "[<matplotlib.lines.Line2D at 0x15093b0fac8>]"
      ]
     },
     "execution_count": 209,
     "metadata": {},
     "output_type": "execute_result"
    },
    {
     "data": {
      "image/png": "[encoded data removed]",
      "text/plain": [
       "<Figure size 432x288 with 1 Axes>"
      ]
     },
     "metadata": {
      "needs_background": "light"
     },
     "output_type": "display_data"
    }
   ],
   "source": [
    "plt.plot(X[:50], occurences_frequency[:50])"
   ]
  },
  {
   "cell_type": "markdown",
   "metadata": {},
   "source": [
    "### Train word vector"
   ]
  },
  {
   "cell_type": "code",
   "execution_count": 101,
   "metadata": {},
   "outputs": [],
   "source": [
    "import multiprocessing\n",
    "cores = multiprocessing.cpu_count()"
   ]
  },
  {
   "cell_type": "code",
   "execution_count": 102,
   "metadata": {},
   "outputs": [
    {
     "data": {
      "text/plain": [
       "12"
      ]
     },
     "execution_count": 102,
     "metadata": {},
     "output_type": "execute_result"
    }
   ],
   "source": [
    "cores"
   ]
  },
  {
   "cell_type": "code",
   "execution_count": 210,
   "metadata": {},
   "outputs": [],
   "source": [
    "with open('all_corpus.txt', 'w', encoding='utf-8') as f:\n",
    "    f.write(' '.join(df['tokenized_content'].tolist()))"
   ]
  },
  {
   "cell_type": "code",
   "execution_count": 212,
   "metadata": {
    "scrolled": true
   },
   "outputs": [
    {
     "name": "stderr",
     "output_type": "stream",
     "text": [
      "D:\\Anaconda\\lib\\site-packages\\smart_open\\smart_open_lib.py:398: UserWarning: This function is deprecated, use smart_open.open instead. See the migration notes for details: https://github.com/RaRe-Technologies/smart_open/blob/master/README.rst#migrating-to-the-new-open-function\n",
      "  'See the migration notes for details: %s' % _MIGRATION_NOTES_URL\n"
     ]
    }
   ],
   "source": [
    "model = FastText(LineSentence('all_corpus.txt'), window=5, size=35, iter=10, min_count=1)"
   ]
  },
  {
   "cell_type": "code",
   "execution_count": 100,
   "metadata": {},
   "outputs": [],
   "source": [
    "?FastText"
   ]
  },
  {
   "cell_type": "code",
   "execution_count": 213,
   "metadata": {},
   "outputs": [
    {
     "name": "stderr",
     "output_type": "stream",
     "text": [
      "D:\\Anaconda\\lib\\site-packages\\smart_open\\smart_open_lib.py:398: UserWarning: This function is deprecated, use smart_open.open instead. See the migration notes for details: https://github.com/RaRe-Technologies/smart_open/blob/master/README.rst#migrating-to-the-new-open-function\n",
      "  'See the migration notes for details: %s' % _MIGRATION_NOTES_URL\n"
     ]
    }
   ],
   "source": [
    "model.save('Summarization.model')"
   ]
  },
  {
   "cell_type": "markdown",
   "metadata": {},
   "source": [
    "## 使用TextRank进行自动摘要提取"
   ]
  },
  {
   "cell_type": "markdown",
   "metadata": {},
   "source": [
    "#### Task 1 使用neteworkx包，建立一个随机图，对该图进行PageRank分析\n"
   ]
  },
  {
   "cell_type": "code",
   "execution_count": 105,
   "metadata": {},
   "outputs": [],
   "source": [
    "graph = {\n",
    "            'Yao': ['Guo',\n",
    "            'Wang',\n",
    "            'Tian',\n",
    "            'Tim',\n",
    "            'BHD',\n",
    "            'DCC',\n",
    "            'GII',\n",
    "            'EEC',\n",
    "            'CIB',\n",
    "            'ECB'],\n",
    "            'Guo': ['Li', 'EAD', 'DAA', 'EII', 'CID', 'FEA'],\n",
    "            'Wang': ['Li_2', 'IAI', 'DGB', 'AEG', 'ECH', 'CGB'],\n",
    "            'Li': ['GEH', 'CIF', 'DBD'],\n",
    "            'Li_2': ['AEB']}"
   ]
  },
  {
   "cell_type": "code",
   "execution_count": 106,
   "metadata": {},
   "outputs": [],
   "source": [
    "social_network = networkx.graph.Graph()"
   ]
  },
  {
   "cell_type": "code",
   "execution_count": 107,
   "metadata": {},
   "outputs": [],
   "source": [
    "for vertex, edge in graph.items():\n",
    "    for v in edge:\n",
    "        social_network.add_edges_from([(vertex, v)])"
   ]
  },
  {
   "cell_type": "code",
   "execution_count": 108,
   "metadata": {},
   "outputs": [
    {
     "name": "stderr",
     "output_type": "stream",
     "text": [
      "D:\\Anaconda\\lib\\site-packages\\networkx\\drawing\\nx_pylab.py:579: MatplotlibDeprecationWarning: \n",
      "The iterable function was deprecated in Matplotlib 3.1 and will be removed in 3.3. Use np.iterable instead.\n",
      "  if not cb.iterable(width):\n"
     ]
    },
    {
     "data": {
      "image/png": "[encoded data removed]",
      "text/plain": [
       "<Figure size 432x288 with 1 Axes>"
      ]
     },
     "metadata": {},
     "output_type": "display_data"
    }
   ],
   "source": [
    "networkx.draw_networkx(social_network)"
   ]
  },
  {
   "cell_type": "code",
   "execution_count": 110,
   "metadata": {},
   "outputs": [],
   "source": [
    "ranking_result = networkx.pagerank(social_network)"
   ]
  },
  {
   "cell_type": "code",
   "execution_count": 111,
   "metadata": {},
   "outputs": [
    {
     "data": {
      "text/plain": [
       "[('Yao', 0.1747698412634544),\n",
       " ('Wang', 0.12616099221117885),\n",
       " ('Guo', 0.12434209154337311),\n",
       " ('Li', 0.07600909782512963),\n",
       " ('Li_2', 0.04007465697366682),\n",
       " ('AEB', 0.022586982681035123),\n",
       " ('GEH', 0.021706946858994478),\n",
       " ('CIF', 0.021706946858994478),\n",
       " ('DBD', 0.021706946858994478),\n",
       " ('IAI', 0.020875426652805028),\n",
       " ('DGB', 0.020875426652805028),\n",
       " ('AEG', 0.020875426652805028),\n",
       " ('ECH', 0.020875426652805028),\n",
       " ('CGB', 0.020875426652805028),\n",
       " ('EAD', 0.020654738077342236),\n",
       " ('DAA', 0.020654738077342236),\n",
       " ('EII', 0.020654738077342236),\n",
       " ('CID', 0.020654738077342236),\n",
       " ('FEA', 0.020654738077342236),\n",
       " ('Tian', 0.020410584159305276),\n",
       " ('Tim', 0.020410584159305276),\n",
       " ('BHD', 0.020410584159305276),\n",
       " ('DCC', 0.020410584159305276),\n",
       " ('GII', 0.020410584159305276),\n",
       " ('EEC', 0.020410584159305276),\n",
       " ('CIB', 0.020410584159305276),\n",
       " ('ECB', 0.020410584159305276)]"
      ]
     },
     "execution_count": 111,
     "metadata": {},
     "output_type": "execute_result"
    }
   ],
   "source": [
    "sorted(ranking_result.items(), key=lambda x: x[1], reverse=True)"
   ]
  },
  {
   "cell_type": "markdown",
   "metadata": {},
   "source": [
    "#### Task 2 使用PageRank 对文本进行关联分析"
   ]
  },
  {
   "cell_type": "code",
   "execution_count": 116,
   "metadata": {},
   "outputs": [],
   "source": [
    "def get_connect_graph_by_text_rank(tokenized_text, window=3):\n",
    "    keywords_graph = networkx.Graph()\n",
    "    tokeners = tokenized_text.split()\n",
    "    for ii, t in enumerate(tokeners):\n",
    "        word_tuples = [(tokeners[connect], t)\n",
    "                      for connect in range(ii - window, ii + window + 1)\n",
    "                      if connect >= 0 and connect < len(tokeners)]\n",
    "        keywords_graph.add_edges_from(word_tuples)\n",
    "        \n",
    "    return keywords_graph"
   ]
  },
  {
   "cell_type": "code",
   "execution_count": 117,
   "metadata": {},
   "outputs": [],
   "source": [
    "first_content = df.iloc[1]['tokenized_content']"
   ]
  },
  {
   "cell_type": "code",
   "execution_count": 119,
   "metadata": {},
   "outputs": [],
   "source": [
    "keywords_graph = get_connect_graph_by_text_rank(first_content, window=5)"
   ]
  },
  {
   "cell_type": "code",
   "execution_count": 121,
   "metadata": {
    "scrolled": false
   },
   "outputs": [
    {
     "data": {
      "image/png": "[encoded data removed]",
      "text/plain": [
       "<Figure size 432x288 with 1 Axes>"
      ]
     },
     "metadata": {},
     "output_type": "display_data"
    }
   ],
   "source": [
    "networkx.draw_networkx(keywords_graph)"
   ]
  },
  {
   "cell_type": "markdown",
   "metadata": {},
   "source": [
    "#### Task3 在Pycharm里边合并代码，合并成一个单独的函数，实现输入一篇文章，输出该文本的摘要流程"
   ]
  },
  {
   "cell_type": "markdown",
   "metadata": {},
   "source": [
    "## 使用词向量进行自动摘要"
   ]
  },
  {
   "cell_type": "markdown",
   "metadata": {},
   "source": [
    "Q8. 使用词向量进行自动摘要的基本假设是什么？ "
   ]
  },
  {
   "cell_type": "markdown",
   "metadata": {},
   "source": [
    "回答:"
   ]
  },
  {
   "cell_type": "code",
   "execution_count": 218,
   "metadata": {},
   "outputs": [],
   "source": [
    "#hint('a.53e5.5b50.5411.91cf.80fd.591f.8861.91cf.53e5.5b50.4e4b.95f4.7684.76f8.4f3c.5ea6.ff0c.6545.800c.53ef.4ee5.901a.8fc7.8be5.65b9.6cd5.5224.65ad.67d0.4e2a.53e5.5b50.662f.5426.548c.6587.672c.542b.4e49.76f8.5173.a')"
   ]
  },
  {
   "cell_type": "markdown",
   "metadata": {},
   "source": [
    "#### Task4. 使用普林斯顿2017年的sentence embedding方法，进行句子embedding的构建"
   ]
  },
  {
   "cell_type": "code",
   "execution_count": 480,
   "metadata": {},
   "outputs": [],
   "source": [
    "def sentence_embedding(sentence):\n",
    "    # weight = alpah/(alpah + p) \n",
    "    # alpha is a parameter, 1e-3 ~ 1e-5\n",
    "    alpha = 1e-4\n",
    "    \n",
    "    global frequency\n",
    "    \n",
    "    max_fre = max(frequency.values())\n",
    "    \n",
    "    sentence_vec = np.zeros_like(model.wv['测试'])\n",
    "     \n",
    "    words = cut_sentence_to_words(sentence)\n",
    "    words = [w for w in words if w in model.wv]\n",
    "\n",
    "    for w in words:\n",
    "        weight = alpha / (alpha + frequency.get(w, max_fre))\n",
    "        sentence_vec += weight * model.wv[w]\n",
    "    \n",
    "    sentence_vec /= len(words)\n",
    "    \n",
    "    # Skip the PCA\n",
    "    return sentence_vec"
   ]
  },
  {
   "cell_type": "code",
   "execution_count": 481,
   "metadata": {},
   "outputs": [
    {
     "data": {
      "text/plain": [
       "array([ 0.3649808 ,  0.13979061,  0.84194344,  0.363532  , -0.53035325,\n",
       "       -0.7233682 ,  0.04611822, -0.03226246,  0.67258793,  0.17196766,\n",
       "        0.2617024 ,  0.6023036 ,  0.23560154,  0.5922899 ,  0.40102386,\n",
       "       -0.5442358 , -0.11515176, -0.19699991,  0.41195402, -0.26182294,\n",
       "        0.37422746,  0.81174916,  0.30886763, -0.19084352, -0.04166068,\n",
       "        0.08061183, -0.38324925,  0.1455623 , -0.02084506,  0.13884391,\n",
       "       -0.24170098,  0.36772013,  0.6822229 ,  0.16970088,  0.11711059],\n",
       "      dtype=float32)"
      ]
     },
     "execution_count": 481,
     "metadata": {},
     "output_type": "execute_result"
    }
   ],
   "source": [
    "sentence_embedding(split_sentence(df['content'][0])[0])"
   ]
  },
  {
   "cell_type": "code",
   "execution_count": 334,
   "metadata": {},
   "outputs": [],
   "source": [
    "def sentence_sim(sentence_list):\n",
    "    sim_mat = np.zeros([len(sentence_list), len(sentence_list)])\n",
    "    \n",
    "    for i in range(len(sentence_list)):\n",
    "        for j in range(len(sentence_list)):\n",
    "            if i != j:\n",
    "                sim_mat[i][j] = cosine(sentence_embedding(sentence_list[i]).reshape(1,35), sentence_embedding(sentence_list[j]).reshape(1,35))\n",
    "    return sim_mat"
   ]
  },
  {
   "cell_type": "code",
   "execution_count": 484,
   "metadata": {},
   "outputs": [],
   "source": [
    "sentence_list = split_sentence(df['content'][0])"
   ]
  },
  {
   "cell_type": "code",
   "execution_count": 485,
   "metadata": {},
   "outputs": [
    {
     "data": {
      "text/plain": [
       "['此外，自本周（6月12日）起，除小米手机6等15款机型外，其余机型已暂停更新发布（含开发版/体验版内测，稳定版暂不受影响），以确保工程师可以集中全部精力进行系统优化工作',\n",
       " '有人猜测这也是将精力主要用到MIUI 9的研发之中',\n",
       " 'MIUI 8去年5月发布，距今已有一年有余，也是时候更新换代了',\n",
       " '当然，关于MIUI 9的确切信息，我们还是等待官方消息']"
      ]
     },
     "execution_count": 485,
     "metadata": {},
     "output_type": "execute_result"
    }
   ],
   "source": [
    "sentence_list"
   ]
  },
  {
   "cell_type": "code",
   "execution_count": 486,
   "metadata": {},
   "outputs": [],
   "source": [
    "sent_sim = sentence_sim(sentence_list)"
   ]
  },
  {
   "cell_type": "code",
   "execution_count": 487,
   "metadata": {},
   "outputs": [],
   "source": [
    "nx_graph = networkx.from_numpy_array(sent_sim)"
   ]
  },
  {
   "cell_type": "code",
   "execution_count": 488,
   "metadata": {},
   "outputs": [],
   "source": [
    "scores = networkx.pagerank(nx_graph)"
   ]
  },
  {
   "cell_type": "code",
   "execution_count": 489,
   "metadata": {},
   "outputs": [],
   "source": [
    "ranked_sentences = sorted(((scores[i], s) for i, s in enumerate(sentence_list)), reverse=True)"
   ]
  },
  {
   "cell_type": "code",
   "execution_count": 490,
   "metadata": {
    "scrolled": true
   },
   "outputs": [
    {
     "name": "stdout",
     "output_type": "stream",
     "text": [
      "第1条摘要：\n",
      "\n",
      " 此外，自本周（6月12日）起，除小米手机6等15款机型外，其余机型已暂停更新发布（含开发版/体验版内测，稳定版暂不受影响），以确保工程师可以集中全部精力进行系统优化工作 \n",
      "\n",
      "第2条摘要：\n",
      "\n",
      " MIUI 8去年5月发布，距今已有一年有余，也是时候更新换代了 \n",
      "\n"
     ]
    }
   ],
   "source": [
    "sn = 2\n",
    "for i in range(sn):\n",
    "    print(\"第\" + str(i + 1) + \"条摘要：\\n\\n\", ranked_sentences[i][1], '\\n')"
   ]
  },
  {
   "cell_type": "markdown",
   "metadata": {},
   "source": [
    "# Test news"
   ]
  },
  {
   "cell_type": "code",
   "execution_count": 494,
   "metadata": {},
   "outputs": [
    {
     "name": "stdout",
     "output_type": "stream",
     "text": [
      "第1条摘要：\n",
      "\n",
      " 因为嫌疑人未满14周岁，无法进入刑事司法程序，当地公安机关已依法对其收容教养 \n",
      "\n",
      "第2条摘要：\n",
      "\n",
      " 1993年2月的一天，利物浦10岁小男孩罗伯特和乔恩翘了课，在商场闲逛，和很多淘气孩子一样搞破坏，直到两岁的詹姆斯出现 \n",
      "\n"
     ]
    }
   ],
   "source": [
    "news = '1993年2月的一天，利物浦10岁小男孩罗伯特和乔恩翘了课，在商场闲逛，和很多淘气孩子一样搞破坏，直到两岁的詹姆斯出现。他俩拐走了詹姆斯，并在当天傍晚杀害了这个可怜的幼儿。法医在詹姆斯身上发现残忍虐打的证据，以及42处伤口。两个10岁孩子甚至还把詹姆斯的尸体放在铁轨上，制造事故假象。经过一番波折，罗伯特和乔恩最终被判刑15年，但服刑8年之后，二人就获释了。短片《羁押》高度还原了罗伯特和乔恩当初接受审讯的情景，两个孩子都极力将罪责推给另一个人，罗伯特冷酷镇定，乔恩则试图利用未成年的身份博取同情。这种与年龄不符的冷酷与“心机”，在前几天少年杀害女童的案件中，也能感受得到。10月20日，东北一13岁少年将小区里一个10岁女童骗至家中，残忍杀害后抛尸。媒体披露了嫌疑人在同学群中的聊天截图， 他谈论这起凶案，一面强调自己未成年，一面疑似释放“自己只是路过、不小心留下不利证据”的信号。这样的言辞让人不禁脊背一凉，这是怎样的冷漠与冷血？因为嫌疑人未满14周岁，无法进入刑事司法程序，当地公安机关已依法对其收容教养。这类恶性案件，总会引发“是否应该降低刑事责任年龄”的讨论。女儿被残忍杀害，嫌疑人却没有接受刑罚，这是父母难以承受之重。悲剧发生时，降低刑责年龄几乎是以一种正义解决方案的面目出现的。降低刑事责任年龄，对我国来说是否必要且可行，这在学界和社会各界都已经争论了许久。'\n",
    "\n",
    "sentences = split_sentence(news)\n",
    "\n",
    "sent_sim = sentence_sim(sentences)\n",
    "nx_graph = networkx.from_numpy_array(sent_sim)\n",
    "scores = networkx.pagerank(nx_graph)\n",
    "ranked_sentences = sorted(((scores[i], s) for i, s in enumerate(sentences)), reverse=True)\n",
    "sn = 2\n",
    "for i in range(sn):\n",
    "    print(\"第\" + str(i + 1) + \"条摘要：\\n\\n\", ranked_sentences[i][1], '\\n')"
   ]
  },
  {
   "cell_type": "code",
   "execution_count": 492,
   "metadata": {
    "scrolled": true
   },
   "outputs": [
    {
     "data": {
      "text/plain": [
       "['1993年2月的一天，利物浦10岁小男孩罗伯特和乔恩翘了课，在商场闲逛，和很多淘气孩子一样搞破坏，直到两岁的詹姆斯出现',\n",
       " '他俩拐走了詹姆斯，并在当天傍晚杀害了这个可怜的幼儿',\n",
       " '法医在詹姆斯身上发现残忍虐打的证据，以及42处伤口',\n",
       " '两个10岁孩子甚至还把詹姆斯的尸体放在铁轨上，制造事故假象',\n",
       " '经过一番波折，罗伯特和乔恩最终被判刑15年，但服刑8年之后，二人就获释了',\n",
       " '短片《羁押》高度还原了罗伯特和乔恩当初接受审讯的情景，两个孩子都极力将罪责推给另一个人，罗伯特冷酷镇定，乔恩则试图利用未成年的身份博取同情',\n",
       " '这种与年龄不符的冷酷与“心机”，在前几天少年杀害女童的案件中，也能感受得到',\n",
       " '10月20日，东北一13岁少年将小区里一个10岁女童骗至家中，残忍杀害后抛尸',\n",
       " '媒体披露了嫌疑人在同学群中的聊天截图， 他谈论这起凶案，一面强调自己未成年，一面疑似释放“自己只是路过、不小心留下不利证据”的信号',\n",
       " '这样的言辞让人不禁脊背一凉，这是怎样的冷漠与冷血',\n",
       " '因为嫌疑人未满14周岁，无法进入刑事司法程序，当地公安机关已依法对其收容教养',\n",
       " '这类恶性案件，总会引发“是否应该降低刑事责任年龄”的讨论',\n",
       " '女儿被残忍杀害，嫌疑人却没有接受刑罚，这是父母难以承受之重',\n",
       " '悲剧发生时，降低刑责年龄几乎是以一种正义解决方案的面目出现的',\n",
       " '降低刑事责任年龄，对我国来说是否必要且可行，这在学界和社会各界都已经争论了许久']"
      ]
     },
     "execution_count": 492,
     "metadata": {},
     "output_type": "execute_result"
    }
   ],
   "source": [
    "sentences"
   ]
  },
  {
   "cell_type": "markdown",
   "metadata": {},
   "source": [
    "Q9. 该句子embedding的原理是什么，有什么优势？ "
   ]
  },
  {
   "cell_type": "markdown",
   "metadata": {},
   "source": [
    "回答："
   ]
  },
  {
   "cell_type": "code",
   "execution_count": 217,
   "metadata": {},
   "outputs": [
    {
     "name": "stdout",
     "output_type": "stream",
     "text": [
      "\n",
      "提示：频率，重要性，快速，性能好\n",
      "\n"
     ]
    }
   ],
   "source": [
    "hint('a.63d0.793a.ff1a.9891.7387.ff0c.91cd.8981.6027.ff0c.5feb.901f.ff0c.6027.80fd.597d.a')"
   ]
  },
  {
   "cell_type": "markdown",
   "metadata": {},
   "source": [
    "Q10. embedding是什么？ 用数学的方式解释embedding。"
   ]
  },
  {
   "cell_type": "markdown",
   "metadata": {},
   "source": [
    "回答："
   ]
  },
  {
   "cell_type": "code",
   "execution_count": 496,
   "metadata": {},
   "outputs": [
    {
     "name": "stdout",
     "output_type": "stream",
     "text": [
      "\n",
      "提示：假设两个entity保持具有某种“偏序”特性，即，可以比较，那么，将这两个 entity 投影到另外的空间中，在该空间中，这种“偏序”依然能够保持\n",
      "\n"
     ]
    }
   ],
   "source": [
    "hint('a.63d0.793a.ff1a.5047.8bbe.4e24.4e2a.65.6e.74.69.74.79.4fdd.6301.5177.6709.67d0.79cd.201c.504f.5e8f.201d.7279.6027.ff0c.5373.ff0c.53ef.4ee5.6bd4.8f83.ff0c.90a3.4e48.ff0c.5c06.8fd9.4e24.4e2a.20.65.6e.74.69.74.79.20.6295.5f71.5230.53e6.5916.7684.7a7a.95f4.4e2d.ff0c.5728.8be5.7a7a.95f4.4e2d.ff0c.8fd9.79cd.201c.504f.5e8f.201d.4f9d.7136.80fd.591f.4fdd.6301.a')"
   ]
  },
  {
   "cell_type": "markdown",
   "metadata": {},
   "source": [
    "Q11. 除了word embedding， sentence embedding， embedding还可以应用到哪些场景？"
   ]
  },
  {
   "cell_type": "markdown",
   "metadata": {},
   "source": [
    "回答："
   ]
  },
  {
   "cell_type": "code",
   "execution_count": 495,
   "metadata": {},
   "outputs": [
    {
     "name": "stdout",
     "output_type": "stream",
     "text": [
      "\n",
      "例如社交网络里边人员的embedding（进行好友推荐）， 购物网站商品的embedding（进行商品推荐）\n",
      "另外，可以思考一下基于这种embedding的推荐的优点在哪里？ \n",
      "\n"
     ]
    }
   ],
   "source": [
    "hint('a.4f8b.5982.793e.4ea4.7f51.7edc.91cc.8fb9.4eba.5458.7684.65.6d.62.65.64.64.69.6e.67.ff08.8fdb.884c.597d.53cb.63a8.8350.ff09.ff0c.20.8d2d.7269.7f51.7ad9.5546.54c1.7684.65.6d.62.65.64.64.69.6e.67.ff08.8fdb.884c.5546.54c1.63a8.8350.ff09.a.53e6.5916.ff0c.53ef.4ee5.601d.8003.4e00.4e0b.57fa.4e8e.8fd9.79cd.65.6d.62.65.64.64.69.6e.67.7684.63a8.8350.7684.4f18.70b9.5728.54ea.91cc.ff1f.20.a')"
   ]
  },
  {
   "cell_type": "markdown",
   "metadata": {},
   "source": [
    "Q12. 这种embedding的方法和tfidf有何异同？ "
   ]
  },
  {
   "cell_type": "markdown",
   "metadata": {},
   "source": [
    "回答："
   ]
  },
  {
   "cell_type": "code",
   "execution_count": 497,
   "metadata": {},
   "outputs": [
    {
     "name": "stdout",
     "output_type": "stream",
     "text": [
      "\n",
      "提示：tfidf考虑的频率其 tf 和 idf 分别是什么？ 该embedding的频率类似于什么？ \n",
      "\n"
     ]
    }
   ],
   "source": [
    "hint('a.63d0.793a.ff1a.74.66.69.64.66.8003.8651.7684.9891.7387.5176.20.74.66.20.548c.20.69.64.66.20.5206.522b.662f.4ec0.4e48.ff1f.20.8be5.65.6d.62.65.64.64.69.6e.67.7684.9891.7387.7c7b.4f3c.4e8e.4ec0.4e48.ff1f.20.a')"
   ]
  },
  {
   "cell_type": "markdown",
   "metadata": {},
   "source": [
    "Q13. 构建句子想了的过程中，面对未知的单词，如果解决？"
   ]
  },
  {
   "cell_type": "markdown",
   "metadata": {},
   "source": [
    "回答:"
   ]
  },
  {
   "cell_type": "code",
   "execution_count": 498,
   "metadata": {},
   "outputs": [
    {
     "name": "stdout",
     "output_type": "stream",
     "text": [
      "\n",
      "开发型问题，可以省略，可以赋予随机值，可以给一特定值，具体情况需要经过试验进行分析\n",
      "\n"
     ]
    }
   ],
   "source": [
    "hint('a.5f00.53d1.578b.95ee.9898.ff0c.53ef.4ee5.7701.7565.ff0c.53ef.4ee5.8d4b.4e88.968f.673a.503c.ff0c.53ef.4ee5.7ed9.4e00.7279.5b9a.503c.ff0c.5177.4f53.60c5.51b5.9700.8981.7ecf.8fc7.8bd5.9a8c.8fdb.884c.5206.6790.a')"
   ]
  },
  {
   "cell_type": "markdown",
   "metadata": {},
   "source": [
    "Q14. 构建完成句子向量之后，句子相似度如何判断？ "
   ]
  },
  {
   "cell_type": "markdown",
   "metadata": {},
   "source": [
    "回答："
   ]
  },
  {
   "cell_type": "code",
   "execution_count": 499,
   "metadata": {},
   "outputs": [
    {
     "name": "stdout",
     "output_type": "stream",
     "text": [
      "\n",
      "cosine， 余弦距离\n",
      "\n"
     ]
    }
   ],
   "source": [
    "hint('a.63.6f.73.69.6e.65.ff0c.20.4f59.5f26.8ddd.79bb.a')"
   ]
  },
  {
   "cell_type": "markdown",
   "metadata": {},
   "source": [
    "Q15. 为什么要用cosine距离进行判断，为何不用欧几里得？ "
   ]
  },
  {
   "cell_type": "markdown",
   "metadata": {},
   "source": [
    "回答："
   ]
  },
  {
   "cell_type": "code",
   "execution_count": 500,
   "metadata": {},
   "outputs": [
    {
     "name": "stdout",
     "output_type": "stream",
     "text": [
      "\n",
      "提示：请参考word2vec训练时候的的概率分布的定义，可以看到其loss当时优化的就是 exp(v1 . v2), 那么当 v1 . v2最大的时候，\n",
      "就是这两个向量方向一致的时候，所以，该词向量在训练的时候的loss的衡量，就是依据方向进行的。 \n",
      "\n"
     ]
    }
   ],
   "source": [
    "hint('a.63d0.793a.ff1a.8bf7.53c2.8003.77.6f.72.64.32.76.65.63.8bad.7ec3.65f6.5019.7684.7684.6982.7387.5206.5e03.7684.5b9a.4e49.ff0c.53ef.4ee5.770b.5230.5176.6c.6f.73.73.5f53.65f6.4f18.5316.7684.5c31.662f.20.65.78.70.28.76.31.20.2e.20.76.32.29.2c.20.90a3.4e48.5f53.20.76.31.20.2e.20.76.32.6700.5927.7684.65f6.5019.ff0c.a.5c31.662f.8fd9.4e24.4e2a.5411.91cf.65b9.5411.4e00.81f4.7684.65f6.5019.ff0c.6240.4ee5.ff0c.8be5.8bcd.5411.91cf.5728.8bad.7ec3.7684.65f6.5019.7684.6c.6f.73.73.7684.8861.91cf.ff0c.5c31.662f.4f9d.636e.65b9.5411.8fdb.884c.7684.3002.20.a')"
   ]
  },
  {
   "cell_type": "code",
   "execution_count": 501,
   "metadata": {},
   "outputs": [
    {
     "name": "stdout",
     "output_type": "stream",
     "text": [
      "\n",
      "另外，也不是不能用欧几里得，但是依据上一提示之分析，欧几里得是不能很好保持语义相似性的。 \n",
      "\n"
     ]
    }
   ],
   "source": [
    "hint('a.53e6.5916.ff0c.4e5f.4e0d.662f.4e0d.80fd.7528.6b27.51e0.91cc.5f97.ff0c.4f46.662f.4f9d.636e.4e0a.4e00.63d0.793a.4e4b.5206.6790.ff0c.6b27.51e0.91cc.5f97.662f.4e0d.80fd.5f88.597d.4fdd.6301.8bed.4e49.76f8.4f3c.6027.7684.3002.20.a')"
   ]
  },
  {
   "cell_type": "markdown",
   "metadata": {},
   "source": [
    "Q16. cosine距离的时候，如果两个向量的长度区别很大，但是方向类似，cosine的距离是小还是大？ "
   ]
  },
  {
   "cell_type": "markdown",
   "metadata": {},
   "source": [
    "回答："
   ]
  },
  {
   "cell_type": "code",
   "execution_count": 502,
   "metadata": {},
   "outputs": [
    {
     "name": "stdout",
     "output_type": "stream",
     "text": [
      "cosine只考虑“方向“是否一样\n"
     ]
    }
   ],
   "source": [
    "hint('63.6f.73.69.6e.65.53ea.8003.8651.201c.65b9.5411.201c.662f.5426.4e00.6837')"
   ]
  },
  {
   "cell_type": "markdown",
   "metadata": {},
   "source": [
    "#### Task15 基于Sentene Embedding 在pycharm里边完成句子摘要的完整过程"
   ]
  },
  {
   "cell_type": "markdown",
   "metadata": {},
   "source": [
    "Q17. 找出几个句子进行plot， 解释其与全文的相关性的排序"
   ]
  },
  {
   "cell_type": "markdown",
   "metadata": {},
   "source": [
    "请阐述："
   ]
  },
  {
   "cell_type": "markdown",
   "metadata": {},
   "source": [
    "Q18. 不同类型的文章，例如时政，财经，社会，故事，其相关性分布有何区别？ "
   ]
  },
  {
   "cell_type": "markdown",
   "metadata": {},
   "source": [
    "请阐述："
   ]
  },
  {
   "cell_type": "code",
   "execution_count": 503,
   "metadata": {},
   "outputs": [
    {
     "name": "stdout",
     "output_type": "stream",
     "text": [
      "\n",
      "提示：可以从其分布的密度，分布变化等趋势进行观察。\n",
      "\n"
     ]
    }
   ],
   "source": [
    "hint('a.63d0.793a.ff1a.53ef.4ee5.4ece.5176.5206.5e03.7684.5bc6.5ea6.ff0c.5206.5e03.53d8.5316.7b49.8d8b.52bf.8fdb.884c.89c2.5bdf.3002.a')"
   ]
  },
  {
   "cell_type": "markdown",
   "metadata": {},
   "source": [
    "## More Added Feature"
   ]
  },
  {
   "cell_type": "markdown",
   "metadata": {},
   "source": [
    "### KNN思想"
   ]
  },
  {
   "cell_type": "markdown",
   "metadata": {},
   "source": [
    "例如，当我们有一个列表是 [1, 1, 2, 3, 8, 1, 2]的时候，其中的 8 数值太大，这在我们的摘要中的表现为，该句子周围的句子都是不那么相关的，但是该句子单独的相关性很高。 那么，如果把这个句子摘录进来，就会导致“不通顺”. 我们可以采用KNN的思想，将这个列表进行重新计算，让它每一个元素的值，等于自己的值和周围的几个值的一个计算结果。 "
   ]
  },
  {
   "cell_type": "markdown",
   "metadata": {},
   "source": [
    "Q19. 如何使用KNN思想进行“平滑”操作? 请代码实现"
   ]
  },
  {
   "cell_type": "markdown",
   "metadata": {},
   "source": [
    "回答：\n",
    "\n",
    "`请补全代码：`\n",
    "```\n",
    "L = []\n",
    "def knn_smooth(): pass\n",
    "\n",
    "```"
   ]
  },
  {
   "cell_type": "code",
   "execution_count": 504,
   "metadata": {},
   "outputs": [
    {
     "name": "stdout",
     "output_type": "stream",
     "text": [
      "\n",
      "#一个可以的solution是：\n",
      "\n",
      "L = [1, 2, 3, 4, 10, 1, 2]\n",
      "window = 3\n",
      "\n",
      "L = [np.mean(L[i-window:i+window]) for i in range(len(L))]\n",
      "# 当然，这里的np.mean是一种最简单的平均化方法，我们还可以考虑其他的例如距离加权，等方法\n",
      "\n"
     ]
    }
   ],
   "source": [
    "hint('a.23.4e00.4e2a.53ef.4ee5.7684.73.6f.6c.75.74.69.6f.6e.662f.ff1a.a.a.4c.20.3d.20.5b.31.2c.20.32.2c.20.33.2c.20.34.2c.20.31.30.2c.20.31.2c.20.32.5d.a.77.69.6e.64.6f.77.20.3d.20.33.a.a.4c.20.3d.20.5b.6e.70.2e.6d.65.61.6e.28.4c.5b.69.2d.77.69.6e.64.6f.77.3a.69.2b.77.69.6e.64.6f.77.5d.29.20.66.6f.72.20.69.20.69.6e.20.72.61.6e.67.65.28.6c.65.6e.28.4c.29.29.5d.a.23.20.5f53.7136.ff0c.8fd9.91cc.7684.6e.70.2e.6d.65.61.6e.662f.4e00.79cd.6700.7b80.5355.7684.5e73.5747.5316.65b9.6cd5.ff0c.6211.4eec.8fd8.53ef.4ee5.8003.8651.5176.4ed6.7684.4f8b.5982.8ddd.79bb.52a0.6743.ff0c.7b49.65b9.6cd5.a')"
   ]
  },
  {
   "cell_type": "markdown",
   "metadata": {},
   "source": [
    "### Title 标题"
   ]
  },
  {
   "cell_type": "markdown",
   "metadata": {},
   "source": [
    "如果该文本有标题，那么标题可以帮助我们很多。在之前，我们计算每个句子与文章整体的相似度是对每个子句与整体文章进行相似度距离计算，那么，我们这个时候，就可以把标题的embedding结果拿出来，那么每句话的相似度就是这句话与整体文章的相似度和标题的相似度的一个“结合”。"
   ]
  },
  {
   "cell_type": "markdown",
   "metadata": {},
   "source": [
    "Q20. 请代码实现这一思路。"
   ]
  },
  {
   "cell_type": "markdown",
   "metadata": {},
   "source": [
    "回答："
   ]
  },
  {
   "cell_type": "code",
   "execution_count": 505,
   "metadata": {},
   "outputs": [
    {
     "name": "stdout",
     "output_type": "stream",
     "text": [
      "\n",
      "title = 'some words'\n",
      "content = 'more and more words'\n",
      "sentene_vec_title = get_sentence_vec(title)\n",
      "sentene_vec_content = get_sentence_vec(content)\n",
      "#对于一个子句 sub_sen_n, 以前的similarity是 cosine(get_sentene_vec(sub_sen_n), sentene_vec_content)\n",
      "#现在可以是\n",
      "p = 0.5\n",
      "sen_vec = get_sentene_vec(sub_sen_n)\n",
      "similarity = p * cosine(sen_vec, sentene_vec_title) + (1 - p) * cosine(sen_vec, sentene_vec_content)\n",
      "# 当然，这里的p以及p和cosine的构建都是可以变化的。 p 和 1-p是线性关系，可以是其他的关系。自己定即可\n",
      "\n"
     ]
    }
   ],
   "source": [
    "hint('a.74.69.74.6c.65.20.3d.20.27.73.6f.6d.65.20.77.6f.72.64.73.27.a.63.6f.6e.74.65.6e.74.20.3d.20.27.6d.6f.72.65.20.61.6e.64.20.6d.6f.72.65.20.77.6f.72.64.73.27.a.73.65.6e.74.65.6e.65.5f.76.65.63.5f.74.69.74.6c.65.20.3d.20.67.65.74.5f.73.65.6e.74.65.6e.63.65.5f.76.65.63.28.74.69.74.6c.65.29.a.73.65.6e.74.65.6e.65.5f.76.65.63.5f.63.6f.6e.74.65.6e.74.20.3d.20.67.65.74.5f.73.65.6e.74.65.6e.63.65.5f.76.65.63.28.63.6f.6e.74.65.6e.74.29.a.23.5bf9.4e8e.4e00.4e2a.5b50.53e5.20.73.75.62.5f.73.65.6e.5f.6e.2c.20.4ee5.524d.7684.73.69.6d.69.6c.61.72.69.74.79.662f.20.63.6f.73.69.6e.65.28.67.65.74.5f.73.65.6e.74.65.6e.65.5f.76.65.63.28.73.75.62.5f.73.65.6e.5f.6e.29.2c.20.73.65.6e.74.65.6e.65.5f.76.65.63.5f.63.6f.6e.74.65.6e.74.29.a.23.73b0.5728.53ef.4ee5.662f.a.70.20.3d.20.30.2e.35.a.73.65.6e.5f.76.65.63.20.3d.20.67.65.74.5f.73.65.6e.74.65.6e.65.5f.76.65.63.28.73.75.62.5f.73.65.6e.5f.6e.29.a.73.69.6d.69.6c.61.72.69.74.79.20.3d.20.70.20.2a.20.63.6f.73.69.6e.65.28.73.65.6e.5f.76.65.63.2c.20.73.65.6e.74.65.6e.65.5f.76.65.63.5f.74.69.74.6c.65.29.20.2b.20.28.31.20.2d.20.70.29.20.2a.20.63.6f.73.69.6e.65.28.73.65.6e.5f.76.65.63.2c.20.73.65.6e.74.65.6e.65.5f.76.65.63.5f.63.6f.6e.74.65.6e.74.29.a.23.20.5f53.7136.ff0c.8fd9.91cc.7684.70.4ee5.53ca.70.548c.63.6f.73.69.6e.65.7684.6784.5efa.90fd.662f.53ef.4ee5.53d8.5316.7684.3002.20.70.20.548c.20.31.2d.70.662f.7ebf.6027.5173.7cfb.ff0c.53ef.4ee5.662f.5176.4ed6.7684.5173.7cfb.3002.81ea.5df1.5b9a.5373.53ef.a')"
   ]
  },
  {
   "cell_type": "markdown",
   "metadata": {},
   "source": [
    "### Keywords 关键字"
   ]
  },
  {
   "cell_type": "markdown",
   "metadata": {},
   "source": [
    "对整篇文章提取关键字，该关键字可以通过TextRank或者tfidf或者gensim自带的包进行提取。 然后对包含了关键词的句子进行手动加权"
   ]
  },
  {
   "cell_type": "markdown",
   "metadata": {},
   "source": [
    "#### Task 请代码实现"
   ]
  },
  {
   "cell_type": "markdown",
   "metadata": {},
   "source": [
    "### Position 位置信息"
   ]
  },
  {
   "cell_type": "markdown",
   "metadata": {},
   "source": [
    "对于句子而言，如果其出现在段落开端，结尾，是否是重要的？ 请做实验证明之，并且代码进行改进。 "
   ]
  },
  {
   "cell_type": "markdown",
   "metadata": {},
   "source": [
    "#### Task 加入位置信息的考量"
   ]
  },
  {
   "cell_type": "markdown",
   "metadata": {},
   "source": [
    "### Topic 主题信息"
   ]
  },
  {
   "cell_type": "markdown",
   "metadata": {},
   "source": [
    "自学Gensim LDA的使用方法，对于文章获得其主题，然后依据主题对每个句子进行判断，每个句子是否和该主题相关。 \n",
    "参考网站： \n",
    "1. Google Search： Gensim LDA\n",
    "2. https://github.com/xiaoyichao/-python-gensim-LDA-/blob/master/topicmodel3.py"
   ]
  },
  {
   "cell_type": "markdown",
   "metadata": {},
   "source": [
    "#### Task 合并以上功能，实现一个单独的函数，该函数接受一个长文本和字数限制，输出一个短文中"
   ]
  },
  {
   "cell_type": "markdown",
   "metadata": {},
   "source": [
    "## Questions 思考题："
   ]
  },
  {
   "cell_type": "markdown",
   "metadata": {},
   "source": [
    "1. 除了Sentence Embedding和TextRank, 还有什么方案？"
   ]
  },
  {
   "cell_type": "markdown",
   "metadata": {},
   "source": [
    "2. 为什么这个课题不用Seq2Seq?"
   ]
  },
  {
   "cell_type": "markdown",
   "metadata": {},
   "source": [
    "3. 深度学习、机器学习与NLP之间的关系是什么？ "
   ]
  },
  {
   "cell_type": "markdown",
   "metadata": {},
   "source": [
    "4. 你还有什么其他的思考和心得？ "
   ]
  },
  {
   "cell_type": "markdown",
   "metadata": {},
   "source": [
    "## 最后一步： 使用Flask、Bottle、Bootstrap变成一个网络应用并且部署在服务器上，这样别人就可以直接通过网址访问你的应用啦。"
   ]
  }
 ],
 "metadata": {
  "kernelspec": {
   "display_name": "Python 3",
   "language": "python",
   "name": "python3"
  },
  "language_info": {
   "codemirror_mode": {
    "name": "ipython",
    "version": 3
   },
   "file_extension": ".py",
   "mimetype": "text/x-python",
   "name": "python",
   "nbconvert_exporter": "python",
   "pygments_lexer": "ipython3",
   "version": "3.7.3"
  }
 },
 "nbformat": 4,
 "nbformat_minor": 2
}
